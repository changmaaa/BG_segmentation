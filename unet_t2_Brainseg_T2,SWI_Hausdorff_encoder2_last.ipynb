{
 "cells": [
  {
   "cell_type": "code",
   "execution_count": 1,
   "id": "4ea7df37",
   "metadata": {},
   "outputs": [
    {
     "name": "stderr",
     "output_type": "stream",
     "text": [
      "IProgress not found. Please update jupyter and ipywidgets. See https://ipywidgets.readthedocs.io/en/stable/user_install.html\n"
     ]
    },
    {
     "name": "stdout",
     "output_type": "stream",
     "text": [
      "MONAI version: 1.3.0\n",
      "Numpy version: 1.24.4\n",
      "Pytorch version: 2.0.1+cu117\n",
      "MONAI flags: HAS_EXT = False, USE_COMPILED = False, USE_META_DICT = False\n",
      "MONAI rev id: 865972f7a791bf7b42efbcd87c8402bd865b329e\n",
      "MONAI __file__: /home/<username>/anaconda3/envs/hwasan/lib/python3.8/site-packages/monai/__init__.py\n",
      "\n",
      "Optional dependencies:\n",
      "Pytorch Ignite version: 0.4.11\n",
      "ITK version: 5.3.0\n",
      "Nibabel version: 5.1.0\n",
      "scikit-image version: 0.21.0\n",
      "scipy version: 1.10.1\n",
      "Pillow version: 10.0.0\n",
      "Tensorboard version: 2.14.0\n",
      "gdown version: 4.7.1\n",
      "TorchVision version: 0.15.2+cu117\n",
      "tqdm version: 4.66.1\n",
      "lmdb version: 1.4.1\n",
      "psutil version: 5.9.0\n",
      "pandas version: 2.0.3\n",
      "einops version: 0.6.1\n",
      "transformers version: 4.21.3\n",
      "mlflow version: 2.6.0\n",
      "pynrrd version: 1.0.0\n",
      "clearml version: 1.12.2\n",
      "\n",
      "For details about installing the optional dependencies, please visit:\n",
      "    https://docs.monai.io/en/latest/installation.html#installing-the-recommended-dependencies\n",
      "\n"
     ]
    }
   ],
   "source": [
    "import os\n",
    "import shutil\n",
    "import tempfile\n",
    "import pandas as pd\n",
    "import time\n",
    "\n",
    "import matplotlib.pyplot as plt\n",
    "import numpy as np\n",
    "from tqdm import tqdm\n",
    "import monai\n",
    "from monai.utils import set_determinism, first\n",
    "from monai.transforms import *\n",
    "\n",
    "from monai.config import print_config\n",
    "from monai.losses import DiceCELoss\n",
    "from monai.metrics import DiceMetric\n",
    "\n",
    "from monai.data import (\n",
    "    DataLoader,\n",
    "    Dataset,\n",
    "    CacheDataset,\n",
    "    load_decathlon_datalist,\n",
    "    decollate_batch,\n",
    ")\n",
    "\n",
    "from skimage import measure\n",
    "from sklearn.metrics import roc_auc_score\n",
    "\n",
    "import torch\n",
    "import glob\n",
    "print_config()"
   ]
  },
  {
   "cell_type": "code",
   "execution_count": 72,
   "id": "d020f189",
   "metadata": {},
   "outputs": [],
   "source": [
    "data_Root = os.path.normpath('/mnt/babymri/data')\n",
    "logdir_path = os.path.normpath('log_test20220830_seg')\n",
    "if os.path.exists(logdir_path)==False:\n",
    "    os.mkdir(logdir_path)"
   ]
  },
  {
   "cell_type": "code",
   "execution_count": 73,
   "id": "4c094db6",
   "metadata": {},
   "outputs": [
    {
     "data": {
      "text/html": [
       "<div>\n",
       "<style scoped>\n",
       "    .dataframe tbody tr th:only-of-type {\n",
       "        vertical-align: middle;\n",
       "    }\n",
       "\n",
       "    .dataframe tbody tr th {\n",
       "        vertical-align: top;\n",
       "    }\n",
       "\n",
       "    .dataframe thead th {\n",
       "        text-align: right;\n",
       "    }\n",
       "</style>\n",
       "<table border=\"1\" class=\"dataframe\">\n",
       "  <thead>\n",
       "    <tr style=\"text-align: right;\">\n",
       "      <th></th>\n",
       "      <th>Folder</th>\n",
       "      <th>Property</th>\n",
       "      <th>Sex</th>\n",
       "      <th>Days</th>\n",
       "      <th>Birth</th>\n",
       "      <th>Time</th>\n",
       "      <th>Unnamed: 6</th>\n",
       "    </tr>\n",
       "  </thead>\n",
       "  <tbody>\n",
       "    <tr>\n",
       "      <th>0</th>\n",
       "      <td>1</td>\n",
       "      <td>Train</td>\n",
       "      <td>M</td>\n",
       "      <td>008D</td>\n",
       "      <td>2021-04-13</td>\n",
       "      <td>2021-04-21 10:05</td>\n",
       "      <td>NaN</td>\n",
       "    </tr>\n",
       "    <tr>\n",
       "      <th>1</th>\n",
       "      <td>4</td>\n",
       "      <td>Train</td>\n",
       "      <td>F</td>\n",
       "      <td>008D</td>\n",
       "      <td>2021-04-14</td>\n",
       "      <td>2021-04-22 15:43</td>\n",
       "      <td>NaN</td>\n",
       "    </tr>\n",
       "    <tr>\n",
       "      <th>2</th>\n",
       "      <td>7</td>\n",
       "      <td>Train</td>\n",
       "      <td>M</td>\n",
       "      <td>009D</td>\n",
       "      <td>2021-04-20</td>\n",
       "      <td>2021-04-29 9:59</td>\n",
       "      <td>NaN</td>\n",
       "    </tr>\n",
       "    <tr>\n",
       "      <th>3</th>\n",
       "      <td>8</td>\n",
       "      <td>Train</td>\n",
       "      <td>F</td>\n",
       "      <td>005D</td>\n",
       "      <td>2021-04-25</td>\n",
       "      <td>2021-04-30 10:29</td>\n",
       "      <td>NaN</td>\n",
       "    </tr>\n",
       "    <tr>\n",
       "      <th>4</th>\n",
       "      <td>10</td>\n",
       "      <td>Train</td>\n",
       "      <td>M</td>\n",
       "      <td>010D</td>\n",
       "      <td>2021-04-26</td>\n",
       "      <td>2021-05-06 15:11</td>\n",
       "      <td>NaN</td>\n",
       "    </tr>\n",
       "    <tr>\n",
       "      <th>5</th>\n",
       "      <td>12</td>\n",
       "      <td>Train</td>\n",
       "      <td>M</td>\n",
       "      <td>011D</td>\n",
       "      <td>2021-04-30</td>\n",
       "      <td>2021-05-11 10:07</td>\n",
       "      <td>NaN</td>\n",
       "    </tr>\n",
       "    <tr>\n",
       "      <th>6</th>\n",
       "      <td>13</td>\n",
       "      <td>Train</td>\n",
       "      <td>F</td>\n",
       "      <td>027D</td>\n",
       "      <td>2021-04-15</td>\n",
       "      <td>2021-05-12 10:23</td>\n",
       "      <td>NaN</td>\n",
       "    </tr>\n",
       "    <tr>\n",
       "      <th>7</th>\n",
       "      <td>17</td>\n",
       "      <td>Train</td>\n",
       "      <td>F</td>\n",
       "      <td>001M</td>\n",
       "      <td>2021-04-12</td>\n",
       "      <td>2021-05-27 10:02</td>\n",
       "      <td>NaN</td>\n",
       "    </tr>\n",
       "    <tr>\n",
       "      <th>8</th>\n",
       "      <td>20</td>\n",
       "      <td>Train</td>\n",
       "      <td>F</td>\n",
       "      <td>014D</td>\n",
       "      <td>2021-05-18</td>\n",
       "      <td>2021-06-01 15:36</td>\n",
       "      <td>NaN</td>\n",
       "    </tr>\n",
       "    <tr>\n",
       "      <th>9</th>\n",
       "      <td>21</td>\n",
       "      <td>Train</td>\n",
       "      <td>F</td>\n",
       "      <td>006D</td>\n",
       "      <td>2021-05-28</td>\n",
       "      <td>2021-06-03 10:05</td>\n",
       "      <td>NaN</td>\n",
       "    </tr>\n",
       "    <tr>\n",
       "      <th>10</th>\n",
       "      <td>23</td>\n",
       "      <td>Val</td>\n",
       "      <td>F</td>\n",
       "      <td>011D</td>\n",
       "      <td>2021-05-27</td>\n",
       "      <td>2021-06-07 10:15</td>\n",
       "      <td>NaN</td>\n",
       "    </tr>\n",
       "    <tr>\n",
       "      <th>11</th>\n",
       "      <td>26</td>\n",
       "      <td>Val</td>\n",
       "      <td>F</td>\n",
       "      <td>006D</td>\n",
       "      <td>2021-06-05</td>\n",
       "      <td>2021-06-11 15:04</td>\n",
       "      <td>NaN</td>\n",
       "    </tr>\n",
       "    <tr>\n",
       "      <th>12</th>\n",
       "      <td>34</td>\n",
       "      <td>Train</td>\n",
       "      <td>F</td>\n",
       "      <td>008D</td>\n",
       "      <td>2021-06-22</td>\n",
       "      <td>2021-06-30 14:56</td>\n",
       "      <td>NaN</td>\n",
       "    </tr>\n",
       "    <tr>\n",
       "      <th>13</th>\n",
       "      <td>36</td>\n",
       "      <td>Train</td>\n",
       "      <td>M</td>\n",
       "      <td>014D</td>\n",
       "      <td>2021-06-18</td>\n",
       "      <td>2021-07-02 15:03</td>\n",
       "      <td>NaN</td>\n",
       "    </tr>\n",
       "    <tr>\n",
       "      <th>14</th>\n",
       "      <td>40</td>\n",
       "      <td>Train</td>\n",
       "      <td>F</td>\n",
       "      <td>002M</td>\n",
       "      <td>2021-05-01</td>\n",
       "      <td>2021-07-19 9:57</td>\n",
       "      <td>NaN</td>\n",
       "    </tr>\n",
       "    <tr>\n",
       "      <th>15</th>\n",
       "      <td>57</td>\n",
       "      <td>Val</td>\n",
       "      <td>F</td>\n",
       "      <td>014D</td>\n",
       "      <td>2021-09-03</td>\n",
       "      <td>2021-09-17 10:10</td>\n",
       "      <td>NaN</td>\n",
       "    </tr>\n",
       "    <tr>\n",
       "      <th>16</th>\n",
       "      <td>59</td>\n",
       "      <td>Train</td>\n",
       "      <td>F</td>\n",
       "      <td>001M</td>\n",
       "      <td>2021-08-11</td>\n",
       "      <td>2021-09-23 10:21</td>\n",
       "      <td>NaN</td>\n",
       "    </tr>\n",
       "    <tr>\n",
       "      <th>17</th>\n",
       "      <td>61</td>\n",
       "      <td>Train</td>\n",
       "      <td>F</td>\n",
       "      <td>021D</td>\n",
       "      <td>2021-09-08</td>\n",
       "      <td>2021-09-29 10:29</td>\n",
       "      <td>NaN</td>\n",
       "    </tr>\n",
       "    <tr>\n",
       "      <th>18</th>\n",
       "      <td>63</td>\n",
       "      <td>Train</td>\n",
       "      <td>F</td>\n",
       "      <td>001M</td>\n",
       "      <td>2021-08-13</td>\n",
       "      <td>2021-09-30 9:58</td>\n",
       "      <td>NaN</td>\n",
       "    </tr>\n",
       "    <tr>\n",
       "      <th>19</th>\n",
       "      <td>69</td>\n",
       "      <td>Train</td>\n",
       "      <td>F</td>\n",
       "      <td>007D</td>\n",
       "      <td>2021-09-30</td>\n",
       "      <td>2021-10-07 16:07</td>\n",
       "      <td>NaN</td>\n",
       "    </tr>\n",
       "    <tr>\n",
       "      <th>20</th>\n",
       "      <td>70</td>\n",
       "      <td>Train</td>\n",
       "      <td>F</td>\n",
       "      <td>001M</td>\n",
       "      <td>2021-08-18</td>\n",
       "      <td>2021-10-08 15:23</td>\n",
       "      <td>NaN</td>\n",
       "    </tr>\n",
       "    <tr>\n",
       "      <th>21</th>\n",
       "      <td>71</td>\n",
       "      <td>Train</td>\n",
       "      <td>M</td>\n",
       "      <td>015D</td>\n",
       "      <td>2021-09-27</td>\n",
       "      <td>2021-10-12 8:19</td>\n",
       "      <td>NaN</td>\n",
       "    </tr>\n",
       "    <tr>\n",
       "      <th>22</th>\n",
       "      <td>72</td>\n",
       "      <td>Train</td>\n",
       "      <td>F</td>\n",
       "      <td>007D</td>\n",
       "      <td>2021-10-05</td>\n",
       "      <td>2021-10-12 15:36</td>\n",
       "      <td>NaN</td>\n",
       "    </tr>\n",
       "    <tr>\n",
       "      <th>23</th>\n",
       "      <td>75</td>\n",
       "      <td>Train</td>\n",
       "      <td>M</td>\n",
       "      <td>001M</td>\n",
       "      <td>2021-09-10</td>\n",
       "      <td>2021-10-22 10:35</td>\n",
       "      <td>NaN</td>\n",
       "    </tr>\n",
       "    <tr>\n",
       "      <th>24</th>\n",
       "      <td>78</td>\n",
       "      <td>Train</td>\n",
       "      <td>M</td>\n",
       "      <td>024D</td>\n",
       "      <td>2021-10-01</td>\n",
       "      <td>2021-10-25 10:25</td>\n",
       "      <td>NaN</td>\n",
       "    </tr>\n",
       "    <tr>\n",
       "      <th>25</th>\n",
       "      <td>82</td>\n",
       "      <td>Train</td>\n",
       "      <td>M</td>\n",
       "      <td>013D</td>\n",
       "      <td>2021-10-19</td>\n",
       "      <td>2021-11-01 9:31</td>\n",
       "      <td>NaN</td>\n",
       "    </tr>\n",
       "    <tr>\n",
       "      <th>26</th>\n",
       "      <td>86</td>\n",
       "      <td>Train</td>\n",
       "      <td>F</td>\n",
       "      <td>005D</td>\n",
       "      <td>2021-11-03</td>\n",
       "      <td>2021-11-08 10:29</td>\n",
       "      <td>NaN</td>\n",
       "    </tr>\n",
       "    <tr>\n",
       "      <th>27</th>\n",
       "      <td>91</td>\n",
       "      <td>Train</td>\n",
       "      <td>F</td>\n",
       "      <td>008D</td>\n",
       "      <td>2021-11-29</td>\n",
       "      <td>2021-12-07 10:11</td>\n",
       "      <td>NaN</td>\n",
       "    </tr>\n",
       "    <tr>\n",
       "      <th>28</th>\n",
       "      <td>93</td>\n",
       "      <td>Train</td>\n",
       "      <td>M</td>\n",
       "      <td>003M</td>\n",
       "      <td>2021-08-23</td>\n",
       "      <td>2021-12-10 10:03</td>\n",
       "      <td>NaN</td>\n",
       "    </tr>\n",
       "    <tr>\n",
       "      <th>29</th>\n",
       "      <td>96</td>\n",
       "      <td>Train</td>\n",
       "      <td>M</td>\n",
       "      <td>010D</td>\n",
       "      <td>2021-12-06</td>\n",
       "      <td>2021-12-16 14:58</td>\n",
       "      <td>NaN</td>\n",
       "    </tr>\n",
       "    <tr>\n",
       "      <th>30</th>\n",
       "      <td>98</td>\n",
       "      <td>Train</td>\n",
       "      <td>M</td>\n",
       "      <td>011D</td>\n",
       "      <td>2021-12-06</td>\n",
       "      <td>2021-12-17 15:32</td>\n",
       "      <td>NaN</td>\n",
       "    </tr>\n",
       "    <tr>\n",
       "      <th>31</th>\n",
       "      <td>99</td>\n",
       "      <td>Train</td>\n",
       "      <td>F</td>\n",
       "      <td>013D</td>\n",
       "      <td>2021-12-07</td>\n",
       "      <td>2021-12-20 10:09</td>\n",
       "      <td>NaN</td>\n",
       "    </tr>\n",
       "    <tr>\n",
       "      <th>32</th>\n",
       "      <td>103</td>\n",
       "      <td>Train</td>\n",
       "      <td>F</td>\n",
       "      <td>004D</td>\n",
       "      <td>2021-12-20</td>\n",
       "      <td>2021-12-24 10:04</td>\n",
       "      <td>NaN</td>\n",
       "    </tr>\n",
       "    <tr>\n",
       "      <th>33</th>\n",
       "      <td>109</td>\n",
       "      <td>Train</td>\n",
       "      <td>F</td>\n",
       "      <td>008D</td>\n",
       "      <td>2022-01-11</td>\n",
       "      <td>2022-01-19 15:16</td>\n",
       "      <td>NaN</td>\n",
       "    </tr>\n",
       "    <tr>\n",
       "      <th>34</th>\n",
       "      <td>110</td>\n",
       "      <td>Train</td>\n",
       "      <td>F</td>\n",
       "      <td>008D</td>\n",
       "      <td>2022-01-13</td>\n",
       "      <td>2022-01-21 15:09</td>\n",
       "      <td>NaN</td>\n",
       "    </tr>\n",
       "    <tr>\n",
       "      <th>35</th>\n",
       "      <td>115</td>\n",
       "      <td>Train</td>\n",
       "      <td>F</td>\n",
       "      <td>001M</td>\n",
       "      <td>2021-12-26</td>\n",
       "      <td>2022-01-28 10:12</td>\n",
       "      <td>NaN</td>\n",
       "    </tr>\n",
       "    <tr>\n",
       "      <th>36</th>\n",
       "      <td>116</td>\n",
       "      <td>Train</td>\n",
       "      <td>M</td>\n",
       "      <td>004D</td>\n",
       "      <td>2022-01-24</td>\n",
       "      <td>2022-01-28 15:05</td>\n",
       "      <td>NaN</td>\n",
       "    </tr>\n",
       "    <tr>\n",
       "      <th>37</th>\n",
       "      <td>118</td>\n",
       "      <td>Train</td>\n",
       "      <td>M</td>\n",
       "      <td>012D</td>\n",
       "      <td>2022-01-22</td>\n",
       "      <td>2022-02-03 10:03</td>\n",
       "      <td>NaN</td>\n",
       "    </tr>\n",
       "    <tr>\n",
       "      <th>38</th>\n",
       "      <td>121</td>\n",
       "      <td>Train</td>\n",
       "      <td>F</td>\n",
       "      <td>010D</td>\n",
       "      <td>2022-01-25</td>\n",
       "      <td>2022-02-04 15:19</td>\n",
       "      <td>NaN</td>\n",
       "    </tr>\n",
       "    <tr>\n",
       "      <th>39</th>\n",
       "      <td>124</td>\n",
       "      <td>Train</td>\n",
       "      <td>F</td>\n",
       "      <td>006D</td>\n",
       "      <td>2022-02-03</td>\n",
       "      <td>2022-02-09 9:58</td>\n",
       "      <td>NaN</td>\n",
       "    </tr>\n",
       "    <tr>\n",
       "      <th>40</th>\n",
       "      <td>125</td>\n",
       "      <td>Train</td>\n",
       "      <td>M</td>\n",
       "      <td>008D</td>\n",
       "      <td>2022-02-07</td>\n",
       "      <td>2022-02-15 10:22</td>\n",
       "      <td>NaN</td>\n",
       "    </tr>\n",
       "    <tr>\n",
       "      <th>41</th>\n",
       "      <td>126</td>\n",
       "      <td>Train</td>\n",
       "      <td>M</td>\n",
       "      <td>016D</td>\n",
       "      <td>2022-02-09</td>\n",
       "      <td>2022-02-25 14:59</td>\n",
       "      <td>NaN</td>\n",
       "    </tr>\n",
       "    <tr>\n",
       "      <th>42</th>\n",
       "      <td>128</td>\n",
       "      <td>Train</td>\n",
       "      <td>F</td>\n",
       "      <td>030D</td>\n",
       "      <td>2022-02-05</td>\n",
       "      <td>2022-03-07 10:16</td>\n",
       "      <td>NaN</td>\n",
       "    </tr>\n",
       "    <tr>\n",
       "      <th>43</th>\n",
       "      <td>129</td>\n",
       "      <td>Val</td>\n",
       "      <td>M</td>\n",
       "      <td>001M</td>\n",
       "      <td>2022-01-13</td>\n",
       "      <td>2022-03-07 15:03</td>\n",
       "      <td>NaN</td>\n",
       "    </tr>\n",
       "    <tr>\n",
       "      <th>44</th>\n",
       "      <td>133</td>\n",
       "      <td>Test</td>\n",
       "      <td>M</td>\n",
       "      <td>024D</td>\n",
       "      <td>2022-02-14</td>\n",
       "      <td>2022-03-10 15:45</td>\n",
       "      <td>NaN</td>\n",
       "    </tr>\n",
       "    <tr>\n",
       "      <th>45</th>\n",
       "      <td>140</td>\n",
       "      <td>Val</td>\n",
       "      <td>F</td>\n",
       "      <td>027D</td>\n",
       "      <td>2022-02-24</td>\n",
       "      <td>2022-03-23 9:39</td>\n",
       "      <td>NaN</td>\n",
       "    </tr>\n",
       "    <tr>\n",
       "      <th>46</th>\n",
       "      <td>190</td>\n",
       "      <td>Test</td>\n",
       "      <td>M</td>\n",
       "      <td>013D</td>\n",
       "      <td>2022-07-12</td>\n",
       "      <td>2022-07-25 10:06</td>\n",
       "      <td>NaN</td>\n",
       "    </tr>\n",
       "    <tr>\n",
       "      <th>47</th>\n",
       "      <td>191</td>\n",
       "      <td>Test</td>\n",
       "      <td>M</td>\n",
       "      <td>010D</td>\n",
       "      <td>2022-07-15</td>\n",
       "      <td>2022-07-25 15:12</td>\n",
       "      <td>NaN</td>\n",
       "    </tr>\n",
       "    <tr>\n",
       "      <th>48</th>\n",
       "      <td>192</td>\n",
       "      <td>Test</td>\n",
       "      <td>M</td>\n",
       "      <td>011D</td>\n",
       "      <td>2022-07-15</td>\n",
       "      <td>2022-07-26 10:07</td>\n",
       "      <td>NaN</td>\n",
       "    </tr>\n",
       "    <tr>\n",
       "      <th>49</th>\n",
       "      <td>195</td>\n",
       "      <td>Test</td>\n",
       "      <td>F</td>\n",
       "      <td>014D</td>\n",
       "      <td>2022-07-15</td>\n",
       "      <td>2022-07-29 14:57</td>\n",
       "      <td>NaN</td>\n",
       "    </tr>\n",
       "  </tbody>\n",
       "</table>\n",
       "</div>"
      ],
      "text/plain": [
       "    Folder Property Sex  Days       Birth              Time  Unnamed: 6\n",
       "0        1    Train   M  008D  2021-04-13  2021-04-21 10:05         NaN\n",
       "1        4    Train   F  008D  2021-04-14  2021-04-22 15:43         NaN\n",
       "2        7    Train   M  009D  2021-04-20   2021-04-29 9:59         NaN\n",
       "3        8    Train   F  005D  2021-04-25  2021-04-30 10:29         NaN\n",
       "4       10    Train   M  010D  2021-04-26  2021-05-06 15:11         NaN\n",
       "5       12    Train   M  011D  2021-04-30  2021-05-11 10:07         NaN\n",
       "6       13    Train   F  027D  2021-04-15  2021-05-12 10:23         NaN\n",
       "7       17    Train   F  001M  2021-04-12  2021-05-27 10:02         NaN\n",
       "8       20    Train   F  014D  2021-05-18  2021-06-01 15:36         NaN\n",
       "9       21    Train   F  006D  2021-05-28  2021-06-03 10:05         NaN\n",
       "10      23      Val   F  011D  2021-05-27  2021-06-07 10:15         NaN\n",
       "11      26      Val   F  006D  2021-06-05  2021-06-11 15:04         NaN\n",
       "12      34    Train   F  008D  2021-06-22  2021-06-30 14:56         NaN\n",
       "13      36    Train   M  014D  2021-06-18  2021-07-02 15:03         NaN\n",
       "14      40    Train   F  002M  2021-05-01   2021-07-19 9:57         NaN\n",
       "15      57      Val   F  014D  2021-09-03  2021-09-17 10:10         NaN\n",
       "16      59    Train   F  001M  2021-08-11  2021-09-23 10:21         NaN\n",
       "17      61    Train   F  021D  2021-09-08  2021-09-29 10:29         NaN\n",
       "18      63    Train   F  001M  2021-08-13   2021-09-30 9:58         NaN\n",
       "19      69    Train   F  007D  2021-09-30  2021-10-07 16:07         NaN\n",
       "20      70    Train   F  001M  2021-08-18  2021-10-08 15:23         NaN\n",
       "21      71    Train   M  015D  2021-09-27   2021-10-12 8:19         NaN\n",
       "22      72    Train   F  007D  2021-10-05  2021-10-12 15:36         NaN\n",
       "23      75    Train   M  001M  2021-09-10  2021-10-22 10:35         NaN\n",
       "24      78    Train   M  024D  2021-10-01  2021-10-25 10:25         NaN\n",
       "25      82    Train   M  013D  2021-10-19   2021-11-01 9:31         NaN\n",
       "26      86    Train   F  005D  2021-11-03  2021-11-08 10:29         NaN\n",
       "27      91    Train   F  008D  2021-11-29  2021-12-07 10:11         NaN\n",
       "28      93    Train   M  003M  2021-08-23  2021-12-10 10:03         NaN\n",
       "29      96    Train   M  010D  2021-12-06  2021-12-16 14:58         NaN\n",
       "30      98    Train   M  011D  2021-12-06  2021-12-17 15:32         NaN\n",
       "31      99    Train   F  013D  2021-12-07  2021-12-20 10:09         NaN\n",
       "32     103    Train   F  004D  2021-12-20  2021-12-24 10:04         NaN\n",
       "33     109    Train   F  008D  2022-01-11  2022-01-19 15:16         NaN\n",
       "34     110    Train   F  008D  2022-01-13  2022-01-21 15:09         NaN\n",
       "35     115    Train   F  001M  2021-12-26  2022-01-28 10:12         NaN\n",
       "36     116    Train   M  004D  2022-01-24  2022-01-28 15:05         NaN\n",
       "37     118    Train   M  012D  2022-01-22  2022-02-03 10:03         NaN\n",
       "38     121    Train   F  010D  2022-01-25  2022-02-04 15:19         NaN\n",
       "39     124    Train   F  006D  2022-02-03   2022-02-09 9:58         NaN\n",
       "40     125    Train   M  008D  2022-02-07  2022-02-15 10:22         NaN\n",
       "41     126    Train   M  016D  2022-02-09  2022-02-25 14:59         NaN\n",
       "42     128    Train   F  030D  2022-02-05  2022-03-07 10:16         NaN\n",
       "43     129      Val   M  001M  2022-01-13  2022-03-07 15:03         NaN\n",
       "44     133     Test   M  024D  2022-02-14  2022-03-10 15:45         NaN\n",
       "45     140      Val   F  027D  2022-02-24   2022-03-23 9:39         NaN\n",
       "46     190     Test   M  013D  2022-07-12  2022-07-25 10:06         NaN\n",
       "47     191     Test   M  010D  2022-07-15  2022-07-25 15:12         NaN\n",
       "48     192     Test   M  011D  2022-07-15  2022-07-26 10:07         NaN\n",
       "49     195     Test   F  014D  2022-07-15  2022-07-29 14:57         NaN"
      ]
     },
     "execution_count": 73,
     "metadata": {},
     "output_type": "execute_result"
    }
   ],
   "source": [
    "path = \"/home/oem/hufsbaby/joon/Brain_segmentation_0731/wmbg_c_v0731.csv\"\n",
    "df = pd.read_csv(path)\n",
    "df"
   ]
  },
  {
   "cell_type": "code",
   "execution_count": 74,
   "id": "86bf32cb",
   "metadata": {},
   "outputs": [],
   "source": [
    "# no_numbers = [10,11,15,43,45] + [44,46,47,48,49]\n",
    "# valid_list = [10,11,15,43,45]\n",
    "# test_list = [44,46,47,48,49]\n",
    "\n",
    "# input_list = [i for i in range(len(df))if i not in no_numbers]\n",
    "# print(input_list)"
   ]
  },
  {
   "cell_type": "code",
   "execution_count": 75,
   "id": "bba347b8",
   "metadata": {},
   "outputs": [
    {
     "name": "stdout",
     "output_type": "stream",
     "text": [
      "[8, 9, 10, 11, 12, 13, 14, 15, 16, 17, 18, 19, 20, 21, 22, 23, 24, 25, 26, 27, 28, 29, 30, 31, 32, 33, 34, 35, 36, 37, 38, 39]\n"
     ]
    }
   ],
   "source": [
    "no_numbers = [40,41,42,43,44,45,46,47,48,49] + [0,1,2,3,4,5,6,7]\n",
    "valid_list = [0,1,2,3,4,5,6,7]\n",
    "# test_list = [44,46,47,48,49]\n",
    "\n",
    "input_list = [i for i in range(len(df))if i not in no_numbers]\n",
    "print(input_list)"
   ]
  },
  {
   "cell_type": "code",
   "execution_count": 76,
   "id": "237dcfe7",
   "metadata": {},
   "outputs": [
    {
     "data": {
      "text/plain": [
       "[0,\n",
       " 1,\n",
       " 2,\n",
       " 3,\n",
       " 4,\n",
       " 5,\n",
       " 6,\n",
       " 7,\n",
       " 8,\n",
       " 9,\n",
       " 10,\n",
       " 11,\n",
       " 12,\n",
       " 13,\n",
       " 14,\n",
       " 15,\n",
       " 16,\n",
       " 17,\n",
       " 18,\n",
       " 19,\n",
       " 20,\n",
       " 21,\n",
       " 22,\n",
       " 23,\n",
       " 24,\n",
       " 25,\n",
       " 26,\n",
       " 27,\n",
       " 28,\n",
       " 29,\n",
       " 30,\n",
       " 31,\n",
       " 32,\n",
       " 33,\n",
       " 34,\n",
       " 35,\n",
       " 36,\n",
       " 37,\n",
       " 38,\n",
       " 39,\n",
       " 40,\n",
       " 41,\n",
       " 42,\n",
       " 43,\n",
       " 44,\n",
       " 45,\n",
       " 46,\n",
       " 47,\n",
       " 48,\n",
       " 49]"
      ]
     },
     "execution_count": 76,
     "metadata": {},
     "output_type": "execute_result"
    }
   ],
   "source": [
    "df_idx = df.index\n",
    "df_idx_list = df.index.to_list()\n",
    "df_idx_list"
   ]
  },
  {
   "cell_type": "code",
   "execution_count": 77,
   "id": "82bfeca9",
   "metadata": {},
   "outputs": [
    {
     "name": "stdout",
     "output_type": "stream",
     "text": [
      "['020', '021', '023', '026', '034', '036', '040', '057', '059', '061', '063', '069', '070', '071', '072']\n",
      "['001', '004', '007', '008', '010', '012', '013', '017']\n"
     ]
    }
   ],
   "source": [
    "input_RT = []\n",
    "for i in df_idx_list:\n",
    "    p = df.iloc[i,0]\n",
    "    if i in input_list:\n",
    "        input_RT.append(f'{p:03d}') # 03d : 숫자를 세 자리로 표현하되, 빈 자리는 0으로 채우기\n",
    "\n",
    "input_RV = []\n",
    "for i in df_idx_list:\n",
    "    p = df.iloc[i,0]\n",
    "    if i in valid_list:\n",
    "        input_RV.append(f'{p:03d}')\n",
    "\n",
    "print(input_RT[:15])\n",
    "print(input_RV[:])"
   ]
  },
  {
   "cell_type": "code",
   "execution_count": 78,
   "id": "4ec30a50",
   "metadata": {},
   "outputs": [],
   "source": [
    "train_data = [\n",
    "    {\n",
    "        \"image1\": os.path.join(data_Root,str(idx)+'/'+\n",
    "                                    \"T2_r1.nii.gz\"),\n",
    "        \"image2\": os.path.join(data_Root,str(idx)+'/'+\n",
    "                                    \"SWI_M_mean_r1.nii.gz\"),        \n",
    "        \"seg\": os.path.join(data_Root,str(idx)+'/'+\n",
    "                                    \"wmbg_cx.nii.gz\"),            \n",
    "    }\n",
    "    for idx in input_RT\n",
    "]\n",
    "\n",
    "val_data = [\n",
    "    {\n",
    "        \"image1\": os.path.join(data_Root,str(idx)+'/'+\n",
    "                                    \"T2_r1.nii.gz\"),\n",
    "        \"image2\": os.path.join(data_Root,str(idx)+'/'+\n",
    "                                    \"SWI_M_mean_r1.nii.gz\"), \n",
    "        \"seg\": os.path.join(data_Root,str(idx)+'/'+\n",
    "                                    \"wmbg_cx.nii.gz\"),            \n",
    "    }\n",
    "    for idx in input_RV\n",
    "]"
   ]
  },
  {
   "cell_type": "code",
   "execution_count": 79,
   "id": "6c445cfd",
   "metadata": {},
   "outputs": [
    {
     "name": "stdout",
     "output_type": "stream",
     "text": [
      "32 8\n"
     ]
    },
    {
     "data": {
      "text/plain": [
       "([{'image1': '/mnt/babymri/data/020/T2_r1.nii.gz',\n",
       "   'image2': '/mnt/babymri/data/020/SWI_M_mean_r1.nii.gz',\n",
       "   'seg': '/mnt/babymri/data/020/wmbg_cx.nii.gz'},\n",
       "  {'image1': '/mnt/babymri/data/021/T2_r1.nii.gz',\n",
       "   'image2': '/mnt/babymri/data/021/SWI_M_mean_r1.nii.gz',\n",
       "   'seg': '/mnt/babymri/data/021/wmbg_cx.nii.gz'},\n",
       "  {'image1': '/mnt/babymri/data/023/T2_r1.nii.gz',\n",
       "   'image2': '/mnt/babymri/data/023/SWI_M_mean_r1.nii.gz',\n",
       "   'seg': '/mnt/babymri/data/023/wmbg_cx.nii.gz'},\n",
       "  {'image1': '/mnt/babymri/data/026/T2_r1.nii.gz',\n",
       "   'image2': '/mnt/babymri/data/026/SWI_M_mean_r1.nii.gz',\n",
       "   'seg': '/mnt/babymri/data/026/wmbg_cx.nii.gz'},\n",
       "  {'image1': '/mnt/babymri/data/034/T2_r1.nii.gz',\n",
       "   'image2': '/mnt/babymri/data/034/SWI_M_mean_r1.nii.gz',\n",
       "   'seg': '/mnt/babymri/data/034/wmbg_cx.nii.gz'},\n",
       "  {'image1': '/mnt/babymri/data/036/T2_r1.nii.gz',\n",
       "   'image2': '/mnt/babymri/data/036/SWI_M_mean_r1.nii.gz',\n",
       "   'seg': '/mnt/babymri/data/036/wmbg_cx.nii.gz'},\n",
       "  {'image1': '/mnt/babymri/data/040/T2_r1.nii.gz',\n",
       "   'image2': '/mnt/babymri/data/040/SWI_M_mean_r1.nii.gz',\n",
       "   'seg': '/mnt/babymri/data/040/wmbg_cx.nii.gz'},\n",
       "  {'image1': '/mnt/babymri/data/057/T2_r1.nii.gz',\n",
       "   'image2': '/mnt/babymri/data/057/SWI_M_mean_r1.nii.gz',\n",
       "   'seg': '/mnt/babymri/data/057/wmbg_cx.nii.gz'},\n",
       "  {'image1': '/mnt/babymri/data/059/T2_r1.nii.gz',\n",
       "   'image2': '/mnt/babymri/data/059/SWI_M_mean_r1.nii.gz',\n",
       "   'seg': '/mnt/babymri/data/059/wmbg_cx.nii.gz'},\n",
       "  {'image1': '/mnt/babymri/data/061/T2_r1.nii.gz',\n",
       "   'image2': '/mnt/babymri/data/061/SWI_M_mean_r1.nii.gz',\n",
       "   'seg': '/mnt/babymri/data/061/wmbg_cx.nii.gz'},\n",
       "  {'image1': '/mnt/babymri/data/063/T2_r1.nii.gz',\n",
       "   'image2': '/mnt/babymri/data/063/SWI_M_mean_r1.nii.gz',\n",
       "   'seg': '/mnt/babymri/data/063/wmbg_cx.nii.gz'},\n",
       "  {'image1': '/mnt/babymri/data/069/T2_r1.nii.gz',\n",
       "   'image2': '/mnt/babymri/data/069/SWI_M_mean_r1.nii.gz',\n",
       "   'seg': '/mnt/babymri/data/069/wmbg_cx.nii.gz'},\n",
       "  {'image1': '/mnt/babymri/data/070/T2_r1.nii.gz',\n",
       "   'image2': '/mnt/babymri/data/070/SWI_M_mean_r1.nii.gz',\n",
       "   'seg': '/mnt/babymri/data/070/wmbg_cx.nii.gz'},\n",
       "  {'image1': '/mnt/babymri/data/071/T2_r1.nii.gz',\n",
       "   'image2': '/mnt/babymri/data/071/SWI_M_mean_r1.nii.gz',\n",
       "   'seg': '/mnt/babymri/data/071/wmbg_cx.nii.gz'},\n",
       "  {'image1': '/mnt/babymri/data/072/T2_r1.nii.gz',\n",
       "   'image2': '/mnt/babymri/data/072/SWI_M_mean_r1.nii.gz',\n",
       "   'seg': '/mnt/babymri/data/072/wmbg_cx.nii.gz'},\n",
       "  {'image1': '/mnt/babymri/data/075/T2_r1.nii.gz',\n",
       "   'image2': '/mnt/babymri/data/075/SWI_M_mean_r1.nii.gz',\n",
       "   'seg': '/mnt/babymri/data/075/wmbg_cx.nii.gz'},\n",
       "  {'image1': '/mnt/babymri/data/078/T2_r1.nii.gz',\n",
       "   'image2': '/mnt/babymri/data/078/SWI_M_mean_r1.nii.gz',\n",
       "   'seg': '/mnt/babymri/data/078/wmbg_cx.nii.gz'},\n",
       "  {'image1': '/mnt/babymri/data/082/T2_r1.nii.gz',\n",
       "   'image2': '/mnt/babymri/data/082/SWI_M_mean_r1.nii.gz',\n",
       "   'seg': '/mnt/babymri/data/082/wmbg_cx.nii.gz'},\n",
       "  {'image1': '/mnt/babymri/data/086/T2_r1.nii.gz',\n",
       "   'image2': '/mnt/babymri/data/086/SWI_M_mean_r1.nii.gz',\n",
       "   'seg': '/mnt/babymri/data/086/wmbg_cx.nii.gz'},\n",
       "  {'image1': '/mnt/babymri/data/091/T2_r1.nii.gz',\n",
       "   'image2': '/mnt/babymri/data/091/SWI_M_mean_r1.nii.gz',\n",
       "   'seg': '/mnt/babymri/data/091/wmbg_cx.nii.gz'},\n",
       "  {'image1': '/mnt/babymri/data/093/T2_r1.nii.gz',\n",
       "   'image2': '/mnt/babymri/data/093/SWI_M_mean_r1.nii.gz',\n",
       "   'seg': '/mnt/babymri/data/093/wmbg_cx.nii.gz'},\n",
       "  {'image1': '/mnt/babymri/data/096/T2_r1.nii.gz',\n",
       "   'image2': '/mnt/babymri/data/096/SWI_M_mean_r1.nii.gz',\n",
       "   'seg': '/mnt/babymri/data/096/wmbg_cx.nii.gz'},\n",
       "  {'image1': '/mnt/babymri/data/098/T2_r1.nii.gz',\n",
       "   'image2': '/mnt/babymri/data/098/SWI_M_mean_r1.nii.gz',\n",
       "   'seg': '/mnt/babymri/data/098/wmbg_cx.nii.gz'},\n",
       "  {'image1': '/mnt/babymri/data/099/T2_r1.nii.gz',\n",
       "   'image2': '/mnt/babymri/data/099/SWI_M_mean_r1.nii.gz',\n",
       "   'seg': '/mnt/babymri/data/099/wmbg_cx.nii.gz'},\n",
       "  {'image1': '/mnt/babymri/data/103/T2_r1.nii.gz',\n",
       "   'image2': '/mnt/babymri/data/103/SWI_M_mean_r1.nii.gz',\n",
       "   'seg': '/mnt/babymri/data/103/wmbg_cx.nii.gz'},\n",
       "  {'image1': '/mnt/babymri/data/109/T2_r1.nii.gz',\n",
       "   'image2': '/mnt/babymri/data/109/SWI_M_mean_r1.nii.gz',\n",
       "   'seg': '/mnt/babymri/data/109/wmbg_cx.nii.gz'},\n",
       "  {'image1': '/mnt/babymri/data/110/T2_r1.nii.gz',\n",
       "   'image2': '/mnt/babymri/data/110/SWI_M_mean_r1.nii.gz',\n",
       "   'seg': '/mnt/babymri/data/110/wmbg_cx.nii.gz'},\n",
       "  {'image1': '/mnt/babymri/data/115/T2_r1.nii.gz',\n",
       "   'image2': '/mnt/babymri/data/115/SWI_M_mean_r1.nii.gz',\n",
       "   'seg': '/mnt/babymri/data/115/wmbg_cx.nii.gz'},\n",
       "  {'image1': '/mnt/babymri/data/116/T2_r1.nii.gz',\n",
       "   'image2': '/mnt/babymri/data/116/SWI_M_mean_r1.nii.gz',\n",
       "   'seg': '/mnt/babymri/data/116/wmbg_cx.nii.gz'},\n",
       "  {'image1': '/mnt/babymri/data/118/T2_r1.nii.gz',\n",
       "   'image2': '/mnt/babymri/data/118/SWI_M_mean_r1.nii.gz',\n",
       "   'seg': '/mnt/babymri/data/118/wmbg_cx.nii.gz'},\n",
       "  {'image1': '/mnt/babymri/data/121/T2_r1.nii.gz',\n",
       "   'image2': '/mnt/babymri/data/121/SWI_M_mean_r1.nii.gz',\n",
       "   'seg': '/mnt/babymri/data/121/wmbg_cx.nii.gz'},\n",
       "  {'image1': '/mnt/babymri/data/124/T2_r1.nii.gz',\n",
       "   'image2': '/mnt/babymri/data/124/SWI_M_mean_r1.nii.gz',\n",
       "   'seg': '/mnt/babymri/data/124/wmbg_cx.nii.gz'}],\n",
       " [{'image1': '/mnt/babymri/data/001/T2_r1.nii.gz',\n",
       "   'image2': '/mnt/babymri/data/001/SWI_M_mean_r1.nii.gz',\n",
       "   'seg': '/mnt/babymri/data/001/wmbg_cx.nii.gz'},\n",
       "  {'image1': '/mnt/babymri/data/004/T2_r1.nii.gz',\n",
       "   'image2': '/mnt/babymri/data/004/SWI_M_mean_r1.nii.gz',\n",
       "   'seg': '/mnt/babymri/data/004/wmbg_cx.nii.gz'},\n",
       "  {'image1': '/mnt/babymri/data/007/T2_r1.nii.gz',\n",
       "   'image2': '/mnt/babymri/data/007/SWI_M_mean_r1.nii.gz',\n",
       "   'seg': '/mnt/babymri/data/007/wmbg_cx.nii.gz'},\n",
       "  {'image1': '/mnt/babymri/data/008/T2_r1.nii.gz',\n",
       "   'image2': '/mnt/babymri/data/008/SWI_M_mean_r1.nii.gz',\n",
       "   'seg': '/mnt/babymri/data/008/wmbg_cx.nii.gz'},\n",
       "  {'image1': '/mnt/babymri/data/010/T2_r1.nii.gz',\n",
       "   'image2': '/mnt/babymri/data/010/SWI_M_mean_r1.nii.gz',\n",
       "   'seg': '/mnt/babymri/data/010/wmbg_cx.nii.gz'},\n",
       "  {'image1': '/mnt/babymri/data/012/T2_r1.nii.gz',\n",
       "   'image2': '/mnt/babymri/data/012/SWI_M_mean_r1.nii.gz',\n",
       "   'seg': '/mnt/babymri/data/012/wmbg_cx.nii.gz'},\n",
       "  {'image1': '/mnt/babymri/data/013/T2_r1.nii.gz',\n",
       "   'image2': '/mnt/babymri/data/013/SWI_M_mean_r1.nii.gz',\n",
       "   'seg': '/mnt/babymri/data/013/wmbg_cx.nii.gz'},\n",
       "  {'image1': '/mnt/babymri/data/017/T2_r1.nii.gz',\n",
       "   'image2': '/mnt/babymri/data/017/SWI_M_mean_r1.nii.gz',\n",
       "   'seg': '/mnt/babymri/data/017/wmbg_cx.nii.gz'}])"
      ]
     },
     "execution_count": 79,
     "metadata": {},
     "output_type": "execute_result"
    }
   ],
   "source": [
    "print(len(train_data),len(val_data))\n",
    "train_data, val_data"
   ]
  },
  {
   "cell_type": "code",
   "execution_count": 80,
   "id": "9926293c",
   "metadata": {},
   "outputs": [],
   "source": [
    "class ConvertToOneCLass(MapTransform): # Single label Segmentation 하기 용이한 Code\n",
    "    def __call__(self, data):\n",
    "        d = dict(data)\n",
    "        for key in self.keys: # transforms의 keys들을 다져와서 basal ganglia = 3 을 = 1 로 바꿔준다.\n",
    "            print(d[key].shape)\n",
    "            d[key] = (d[key] == 3).to(d[key].dtype)\n",
    "            \n",
    "        return d"
   ]
  },
  {
   "cell_type": "code",
   "execution_count": 81,
   "id": "0d1ea22c",
   "metadata": {},
   "outputs": [],
   "source": [
    "train_transforms = Compose([\n",
    "    LoadImaged(keys=[\"image1\", \"image2\", \"seg\"]),\n",
    "    EnsureChannelFirstd(keys=[\"image1\", \"image2\", \"seg\"]),\n",
    "    ConvertToOneCLass(keys = ['seg']), # 위에서 정의한 class\n",
    "#     RandShiftIntensityd(keys=[\"image1\", \"image2\"], offsets=0.10, prob=0.5),\n",
    "# #     RandZoomd(keys=[\"image1\", \"image2\", \"seg\"], prob=0.75, min_zoom=0.8, max_zoom=1.25, mode=[\"area\", \"reflect\", \"nearest\"], image_only=True),\n",
    "#     RandGaussianNoised(keys=[\"image1\", \"image2\"], prob=0.5, mean=0.0, std=0.02, allow_missing_keys=False),\n",
    "#     RandGaussianSmoothd(      ########## 1000번까지는 x\n",
    "#         keys=[\"image1\", \"image2\"],\n",
    "#         sigma_x=(0.25, 1.5),\n",
    "#         sigma_y=(0.25, 1.5),\n",
    "#         sigma_z=(0.25, 1.5),\n",
    "#         approx=\"erf\",\n",
    "#         prob=0.5,\n",
    "#         allow_missing_keys=False,\n",
    "#     ),\n",
    "#     RandGaussianSharpend(      ########## 1000번까지는 x\n",
    "#         keys=[\"image1\", \"image2\"],\n",
    "#         sigma1_x=(0.5, 1.0),\n",
    "#         sigma1_y=(0.5, 1.0),\n",
    "#         sigma1_z=(0.5, 1.0),\n",
    "#         sigma2_x=0.5,\n",
    "#         sigma2_y=0.5,\n",
    "#         sigma2_z=0.5,\n",
    "#         alpha=(10.0, 30.0),\n",
    "#         approx=\"erf\",\n",
    "#         prob=0.5,\n",
    "#         allow_missing_keys=False,\n",
    "#     ),\n",
    "#     SpatialPadd(keys=[\"image1\", \"image2\", \"seg\"], spatial_size=(160, 160, 48)),      ########## 1000번까지는 x\n",
    "    RandCropByPosNegLabeld(\n",
    "        keys=[\"image1\", \"image2\", \"seg\"],\n",
    "        label_key=\"seg\",\n",
    "        spatial_size=(64, 64, 32),     # 192, 192, 48 -> 96, 96, 32    memory 문제\n",
    "        pos = 2,                       ############## 2 -> 1\n",
    "        neg = 0,                       ############## 0 -> 1\n",
    "        num_samples = 3,               ############## 3 -> 2\n",
    "    ),\n",
    "    RandSpatialCropd(\n",
    "        keys=[\"image1\",\"image2\", \"seg\"],\n",
    "        roi_size=(64, 64, 32),\n",
    "        max_roi_size=None,\n",
    "        random_center=True,\n",
    "        random_size=False,\n",
    "    ),\n",
    "#     RandFlipd(keys=[\"image1\", \"image2\", \"seg\"], spatial_axis=[0], prob=0.5),      ########## 1000번까지는 x\n",
    "#     RandFlipd(keys=[\"image1\", \"image2\", \"seg\"], spatial_axis=[1], prob=0.5),      ########## 1000번까지는 x\n",
    "#     RandFlipd(keys=[\"image1\", \"image2\", \"seg\"], spatial_axis=[2], prob=0.5),      ########## 1000번까지는 x\n",
    "#     RandRotate90d(keys=[\"image1\", \"image2\", \"seg\"], prob=0.25, max_k=3),      ########## 1000번까지는 x\n",
    "    ToTensord(keys=[\"image1\", \"image2\", \"seg\"]),\n",
    "])\n",
    "\n",
    "val_transforms = Compose([\n",
    "    LoadImaged(keys=[\"image1\", \"image2\", \"seg\"]),\n",
    "    EnsureChannelFirstd(keys=[\"image1\", \"image2\", \"seg\"]),\n",
    "    ConvertToOneCLass(keys = ['seg']), # 위에서 정의한 class\n",
    "    RandCropByPosNegLabeld(\n",
    "        keys=[\"image1\", \"image2\", \"seg\"],\n",
    "        label_key=\"seg\", \n",
    "        spatial_size=(64, 64, 32),\n",
    "        pos = 2,                       ############## 2 -> 1\n",
    "        neg = 0,                       ############## 0 -> 1\n",
    "        num_samples = 3,               ############## 3 -> 2\n",
    "    ),\n",
    "    ToTensord(keys=[\"image1\", \"image2\", \"seg\"]),\n",
    "])"
   ]
  },
  {
   "cell_type": "code",
   "execution_count": 82,
   "id": "2caf7382",
   "metadata": {
    "scrolled": true
   },
   "outputs": [
    {
     "name": "stderr",
     "output_type": "stream",
     "text": [
      "Loading dataset:  33%|█████████▎                  | 1/3 [00:00<00:01,  1.61it/s]"
     ]
    },
    {
     "name": "stdout",
     "output_type": "stream",
     "text": [
      "torch.Size([1, 208, 320, 320])\n"
     ]
    },
    {
     "name": "stderr",
     "output_type": "stream",
     "text": [
      "\r\n",
      "Loading dataset:  67%|██████████████████▋         | 2/3 [00:01<00:00,  1.67it/s]"
     ]
    },
    {
     "name": "stdout",
     "output_type": "stream",
     "text": [
      "torch.Size([1, 208, 320, 320])\n"
     ]
    },
    {
     "name": "stderr",
     "output_type": "stream",
     "text": [
      "Loading dataset: 100%|████████████████████████████| 3/3 [00:01<00:00,  1.66it/s]"
     ]
    },
    {
     "name": "stdout",
     "output_type": "stream",
     "text": [
      "torch.Size([1, 208, 320, 320])\n"
     ]
    },
    {
     "name": "stderr",
     "output_type": "stream",
     "text": [
      "\n"
     ]
    }
   ],
   "source": [
    "check_ds = CacheDataset(data=train_data[:3], transform = train_transforms)\n",
    "check_loader = DataLoader(check_ds, batch_size=1, num_workers = 4)\n",
    "check_data = first(check_loader)"
   ]
  },
  {
   "cell_type": "code",
   "execution_count": 83,
   "id": "5e15b890",
   "metadata": {},
   "outputs": [
    {
     "name": "stdout",
     "output_type": "stream",
     "text": [
      "image shape: torch.Size([64, 64, 32])\n",
      "image shape: torch.Size([64, 64, 32])\n"
     ]
    },
    {
     "data": {
      "image/png": "[encoded data removed]",
      "text/plain": [
       "<Figure size 1638.4x1228.8 with 3 Axes>"
      ]
     },
     "metadata": {},
     "output_type": "display_data"
    },
    {
     "name": "stdout",
     "output_type": "stream",
     "text": [
      "image shape: torch.Size([64, 64, 32])\n",
      "image shape: torch.Size([64, 64, 32])\n"
     ]
    },
    {
     "data": {
      "image/png": "[encoded data removed]",
      "text/plain": [
       "<Figure size 1638.4x1228.8 with 3 Axes>"
      ]
     },
     "metadata": {},
     "output_type": "display_data"
    },
    {
     "name": "stdout",
     "output_type": "stream",
     "text": [
      "image shape: torch.Size([64, 64, 32])\n",
      "image shape: torch.Size([64, 64, 32])\n"
     ]
    },
    {
     "data": {
      "image/png": "[encoded data removed]",
      "text/plain": [
       "<Figure size 1638.4x1228.8 with 3 Axes>"
      ]
     },
     "metadata": {},
     "output_type": "display_data"
    }
   ],
   "source": [
    "for N in range(len(check_data[\"image1\"])):\n",
    "    pre1 = (check_data[\"image1\"][N][0])\n",
    "    pre2 = (check_data[\"image2\"][N][0])\n",
    "    seg = (check_data[\"seg\"][N][0])\n",
    "    print(f\"image shape: {pre1.shape}\")\n",
    "    print(f\"image shape: {pre2.shape}\")\n",
    "    \n",
    "    plt.figure(dpi=256)\n",
    "    plt.subplot(131)\n",
    "    plt.imshow(torch.sum(pre1,axis=2),cmap='jet')\n",
    "    # plt.imshow(pre[:,:,16],cmap='jet')\n",
    "    plt.axis('off')\n",
    "    plt.subplot(132)\n",
    "    plt.imshow(torch.sum(pre2,axis=2),cmap='jet')\n",
    "    # plt.imshow(seg[:,:,16],cmap='jet')\n",
    "    plt.axis('off')\n",
    "    plt.subplot(133)\n",
    "    plt.imshow(torch.sum(seg,axis=2),cmap='jet')\n",
    "    # plt.imshow(seg[:,:,16],cmap='jet')\n",
    "    plt.axis('off')\n",
    "    plt.axis('off')\n",
    "    plt.show()"
   ]
  },
  {
   "cell_type": "code",
   "execution_count": 84,
   "id": "08e1d7d8",
   "metadata": {},
   "outputs": [
    {
     "name": "stderr",
     "output_type": "stream",
     "text": [
      "Loading dataset:   3%|▊                          | 1/32 [00:00<00:18,  1.63it/s]"
     ]
    },
    {
     "name": "stdout",
     "output_type": "stream",
     "text": [
      "torch.Size([1, 208, 320, 320])\n"
     ]
    },
    {
     "name": "stderr",
     "output_type": "stream",
     "text": [
      "\r\n",
      "Loading dataset:   6%|█▋                         | 2/32 [00:01<00:17,  1.68it/s]"
     ]
    },
    {
     "name": "stdout",
     "output_type": "stream",
     "text": [
      "torch.Size([1, 208, 320, 320])\n"
     ]
    },
    {
     "name": "stderr",
     "output_type": "stream",
     "text": [
      "\r\n",
      "Loading dataset:   9%|██▌                        | 3/32 [00:01<00:17,  1.69it/s]"
     ]
    },
    {
     "name": "stdout",
     "output_type": "stream",
     "text": [
      "torch.Size([1, 208, 320, 320])\n"
     ]
    },
    {
     "name": "stderr",
     "output_type": "stream",
     "text": [
      "\r\n",
      "Loading dataset:  12%|███▍                       | 4/32 [00:02<00:16,  1.70it/s]"
     ]
    },
    {
     "name": "stdout",
     "output_type": "stream",
     "text": [
      "torch.Size([1, 208, 320, 320])\n"
     ]
    },
    {
     "name": "stderr",
     "output_type": "stream",
     "text": [
      "\r\n",
      "Loading dataset:  16%|████▏                      | 5/32 [00:02<00:16,  1.69it/s]"
     ]
    },
    {
     "name": "stdout",
     "output_type": "stream",
     "text": [
      "torch.Size([1, 208, 320, 320])\n"
     ]
    },
    {
     "name": "stderr",
     "output_type": "stream",
     "text": [
      "\r\n",
      "Loading dataset:  19%|█████                      | 6/32 [00:03<00:15,  1.68it/s]"
     ]
    },
    {
     "name": "stdout",
     "output_type": "stream",
     "text": [
      "torch.Size([1, 208, 320, 320])\n"
     ]
    },
    {
     "name": "stderr",
     "output_type": "stream",
     "text": [
      "\r\n",
      "Loading dataset:  22%|█████▉                     | 7/32 [00:04<00:14,  1.69it/s]"
     ]
    },
    {
     "name": "stdout",
     "output_type": "stream",
     "text": [
      "torch.Size([1, 208, 320, 320])\n"
     ]
    },
    {
     "name": "stderr",
     "output_type": "stream",
     "text": [
      "\r\n",
      "Loading dataset:  25%|██████▊                    | 8/32 [00:04<00:14,  1.70it/s]"
     ]
    },
    {
     "name": "stdout",
     "output_type": "stream",
     "text": [
      "torch.Size([1, 208, 320, 320])\n"
     ]
    },
    {
     "name": "stderr",
     "output_type": "stream",
     "text": [
      "\r\n",
      "Loading dataset:  28%|███████▌                   | 9/32 [00:05<00:13,  1.70it/s]"
     ]
    },
    {
     "name": "stdout",
     "output_type": "stream",
     "text": [
      "torch.Size([1, 208, 320, 320])\n"
     ]
    },
    {
     "name": "stderr",
     "output_type": "stream",
     "text": [
      "\r\n",
      "Loading dataset:  31%|████████▏                 | 10/32 [00:05<00:12,  1.70it/s]"
     ]
    },
    {
     "name": "stdout",
     "output_type": "stream",
     "text": [
      "torch.Size([1, 208, 320, 320])\n"
     ]
    },
    {
     "name": "stderr",
     "output_type": "stream",
     "text": [
      "\r\n",
      "Loading dataset:  34%|████████▉                 | 11/32 [00:06<00:12,  1.68it/s]"
     ]
    },
    {
     "name": "stdout",
     "output_type": "stream",
     "text": [
      "torch.Size([1, 208, 320, 320])\n"
     ]
    },
    {
     "name": "stderr",
     "output_type": "stream",
     "text": [
      "\r\n",
      "Loading dataset:  38%|█████████▊                | 12/32 [00:07<00:12,  1.66it/s]"
     ]
    },
    {
     "name": "stdout",
     "output_type": "stream",
     "text": [
      "torch.Size([1, 208, 320, 320])\n"
     ]
    },
    {
     "name": "stderr",
     "output_type": "stream",
     "text": [
      "\r\n",
      "Loading dataset:  41%|██████████▌               | 13/32 [00:07<00:11,  1.65it/s]"
     ]
    },
    {
     "name": "stdout",
     "output_type": "stream",
     "text": [
      "torch.Size([1, 208, 320, 320])\n"
     ]
    },
    {
     "name": "stderr",
     "output_type": "stream",
     "text": [
      "\r\n",
      "Loading dataset:  44%|███████████▍              | 14/32 [00:08<00:10,  1.65it/s]"
     ]
    },
    {
     "name": "stdout",
     "output_type": "stream",
     "text": [
      "torch.Size([1, 208, 320, 320])\n"
     ]
    },
    {
     "name": "stderr",
     "output_type": "stream",
     "text": [
      "\r\n",
      "Loading dataset:  47%|████████████▏             | 15/32 [00:08<00:10,  1.65it/s]"
     ]
    },
    {
     "name": "stdout",
     "output_type": "stream",
     "text": [
      "torch.Size([1, 208, 320, 320])\n"
     ]
    },
    {
     "name": "stderr",
     "output_type": "stream",
     "text": [
      "\r\n",
      "Loading dataset:  50%|█████████████             | 16/32 [00:09<00:09,  1.64it/s]"
     ]
    },
    {
     "name": "stdout",
     "output_type": "stream",
     "text": [
      "torch.Size([1, 208, 320, 320])\n"
     ]
    },
    {
     "name": "stderr",
     "output_type": "stream",
     "text": [
      "\r\n",
      "Loading dataset:  53%|█████████████▊            | 17/32 [00:10<00:09,  1.64it/s]"
     ]
    },
    {
     "name": "stdout",
     "output_type": "stream",
     "text": [
      "torch.Size([1, 208, 320, 320])\n"
     ]
    },
    {
     "name": "stderr",
     "output_type": "stream",
     "text": [
      "\r\n",
      "Loading dataset:  56%|██████████████▋           | 18/32 [00:10<00:08,  1.64it/s]"
     ]
    },
    {
     "name": "stdout",
     "output_type": "stream",
     "text": [
      "torch.Size([1, 208, 320, 320])\n"
     ]
    },
    {
     "name": "stderr",
     "output_type": "stream",
     "text": [
      "\r\n",
      "Loading dataset:  59%|███████████████▍          | 19/32 [00:11<00:08,  1.61it/s]"
     ]
    },
    {
     "name": "stdout",
     "output_type": "stream",
     "text": [
      "torch.Size([1, 208, 320, 320])\n"
     ]
    },
    {
     "name": "stderr",
     "output_type": "stream",
     "text": [
      "\r\n",
      "Loading dataset:  62%|████████████████▎         | 20/32 [00:12<00:07,  1.61it/s]"
     ]
    },
    {
     "name": "stdout",
     "output_type": "stream",
     "text": [
      "torch.Size([1, 208, 320, 320])\n"
     ]
    },
    {
     "name": "stderr",
     "output_type": "stream",
     "text": [
      "\r\n",
      "Loading dataset:  66%|█████████████████         | 21/32 [00:12<00:06,  1.61it/s]"
     ]
    },
    {
     "name": "stdout",
     "output_type": "stream",
     "text": [
      "torch.Size([1, 208, 320, 320])\n"
     ]
    },
    {
     "name": "stderr",
     "output_type": "stream",
     "text": [
      "\r\n",
      "Loading dataset:  69%|█████████████████▉        | 22/32 [00:13<00:06,  1.61it/s]"
     ]
    },
    {
     "name": "stdout",
     "output_type": "stream",
     "text": [
      "torch.Size([1, 208, 320, 320])\n"
     ]
    },
    {
     "name": "stderr",
     "output_type": "stream",
     "text": [
      "\r\n",
      "Loading dataset:  72%|██████████████████▋       | 23/32 [00:13<00:05,  1.62it/s]"
     ]
    },
    {
     "name": "stdout",
     "output_type": "stream",
     "text": [
      "torch.Size([1, 208, 320, 320])\n"
     ]
    },
    {
     "name": "stderr",
     "output_type": "stream",
     "text": [
      "\r\n",
      "Loading dataset:  75%|███████████████████▌      | 24/32 [00:14<00:04,  1.61it/s]"
     ]
    },
    {
     "name": "stdout",
     "output_type": "stream",
     "text": [
      "torch.Size([1, 208, 320, 320])\n"
     ]
    },
    {
     "name": "stderr",
     "output_type": "stream",
     "text": [
      "\r\n",
      "Loading dataset:  78%|████████████████████▎     | 25/32 [00:15<00:04,  1.61it/s]"
     ]
    },
    {
     "name": "stdout",
     "output_type": "stream",
     "text": [
      "torch.Size([1, 208, 320, 320])\n"
     ]
    },
    {
     "name": "stderr",
     "output_type": "stream",
     "text": [
      "\r\n",
      "Loading dataset:  81%|█████████████████████▏    | 26/32 [00:15<00:03,  1.62it/s]"
     ]
    },
    {
     "name": "stdout",
     "output_type": "stream",
     "text": [
      "torch.Size([1, 208, 320, 320])\n"
     ]
    },
    {
     "name": "stderr",
     "output_type": "stream",
     "text": [
      "\r\n",
      "Loading dataset:  84%|█████████████████████▉    | 27/32 [00:16<00:03,  1.60it/s]"
     ]
    },
    {
     "name": "stdout",
     "output_type": "stream",
     "text": [
      "torch.Size([1, 208, 320, 320])\n"
     ]
    },
    {
     "name": "stderr",
     "output_type": "stream",
     "text": [
      "\r\n",
      "Loading dataset:  88%|██████████████████████▊   | 28/32 [00:17<00:02,  1.59it/s]"
     ]
    },
    {
     "name": "stdout",
     "output_type": "stream",
     "text": [
      "torch.Size([1, 208, 320, 320])\n"
     ]
    },
    {
     "name": "stderr",
     "output_type": "stream",
     "text": [
      "\r\n",
      "Loading dataset:  91%|███████████████████████▌  | 29/32 [00:17<00:01,  1.58it/s]"
     ]
    },
    {
     "name": "stdout",
     "output_type": "stream",
     "text": [
      "torch.Size([1, 208, 320, 320])\n"
     ]
    },
    {
     "name": "stderr",
     "output_type": "stream",
     "text": [
      "\r\n",
      "Loading dataset:  94%|████████████████████████▍ | 30/32 [00:18<00:01,  1.57it/s]"
     ]
    },
    {
     "name": "stdout",
     "output_type": "stream",
     "text": [
      "torch.Size([1, 208, 320, 320])\n"
     ]
    },
    {
     "name": "stderr",
     "output_type": "stream",
     "text": [
      "\r\n",
      "Loading dataset:  97%|█████████████████████████▏| 31/32 [00:18<00:00,  1.58it/s]"
     ]
    },
    {
     "name": "stdout",
     "output_type": "stream",
     "text": [
      "torch.Size([1, 208, 320, 320])\n"
     ]
    },
    {
     "name": "stderr",
     "output_type": "stream",
     "text": [
      "Loading dataset: 100%|██████████████████████████| 32/32 [00:19<00:00,  1.63it/s]"
     ]
    },
    {
     "name": "stdout",
     "output_type": "stream",
     "text": [
      "torch.Size([1, 208, 320, 320])\n"
     ]
    },
    {
     "name": "stderr",
     "output_type": "stream",
     "text": [
      "\n"
     ]
    }
   ],
   "source": [
    "train_ds = CacheDataset(\n",
    "    data=train_data[:],\n",
    "    transform=train_transforms,\n",
    ")\n",
    "train_loader = DataLoader(\n",
    "    train_ds, batch_size=1, shuffle=True,\n",
    ")"
   ]
  },
  {
   "cell_type": "code",
   "execution_count": 85,
   "id": "621fd8a2",
   "metadata": {},
   "outputs": [
    {
     "name": "stderr",
     "output_type": "stream",
     "text": [
      "Loading dataset:  12%|███▌                        | 1/8 [00:00<00:04,  1.70it/s]"
     ]
    },
    {
     "name": "stdout",
     "output_type": "stream",
     "text": [
      "torch.Size([1, 208, 320, 320])\n"
     ]
    },
    {
     "name": "stderr",
     "output_type": "stream",
     "text": [
      "\r\n",
      "Loading dataset:  25%|███████                     | 2/8 [00:01<00:04,  1.36it/s]"
     ]
    },
    {
     "name": "stdout",
     "output_type": "stream",
     "text": [
      "torch.Size([1, 208, 320, 320])\n"
     ]
    },
    {
     "name": "stderr",
     "output_type": "stream",
     "text": [
      "\r\n",
      "Loading dataset:  38%|██████████▌                 | 3/8 [00:02<00:03,  1.48it/s]"
     ]
    },
    {
     "name": "stdout",
     "output_type": "stream",
     "text": [
      "torch.Size([1, 208, 320, 320])\n"
     ]
    },
    {
     "name": "stderr",
     "output_type": "stream",
     "text": [
      "\r\n",
      "Loading dataset:  50%|██████████████              | 4/8 [00:02<00:02,  1.54it/s]"
     ]
    },
    {
     "name": "stdout",
     "output_type": "stream",
     "text": [
      "torch.Size([1, 208, 320, 320])\n"
     ]
    },
    {
     "name": "stderr",
     "output_type": "stream",
     "text": [
      "\r\n",
      "Loading dataset:  62%|█████████████████▌          | 5/8 [00:03<00:01,  1.57it/s]"
     ]
    },
    {
     "name": "stdout",
     "output_type": "stream",
     "text": [
      "torch.Size([1, 208, 320, 320])\n"
     ]
    },
    {
     "name": "stderr",
     "output_type": "stream",
     "text": [
      "\r\n",
      "Loading dataset:  75%|█████████████████████       | 6/8 [00:03<00:01,  1.59it/s]"
     ]
    },
    {
     "name": "stdout",
     "output_type": "stream",
     "text": [
      "torch.Size([1, 208, 320, 320])\n"
     ]
    },
    {
     "name": "stderr",
     "output_type": "stream",
     "text": [
      "\r\n",
      "Loading dataset:  88%|████████████████████████▌   | 7/8 [00:04<00:00,  1.62it/s]"
     ]
    },
    {
     "name": "stdout",
     "output_type": "stream",
     "text": [
      "torch.Size([1, 208, 320, 320])\n"
     ]
    },
    {
     "name": "stderr",
     "output_type": "stream",
     "text": [
      "Loading dataset: 100%|████████████████████████████| 8/8 [00:05<00:00,  1.58it/s]"
     ]
    },
    {
     "name": "stdout",
     "output_type": "stream",
     "text": [
      "torch.Size([1, 208, 320, 320])\n"
     ]
    },
    {
     "name": "stderr",
     "output_type": "stream",
     "text": [
      "\n"
     ]
    }
   ],
   "source": [
    "val_ds = CacheDataset(\n",
    "    data=val_data[:],\n",
    "    transform=val_transforms,\n",
    ")\n",
    "\n",
    "valid_loader = DataLoader(\n",
    "    val_ds, batch_size=1, shuffle=True, \n",
    ")"
   ]
  },
  {
   "cell_type": "code",
   "execution_count": 86,
   "id": "37d56985",
   "metadata": {},
   "outputs": [],
   "source": [
    "# import Swinunetr as Swin"
   ]
  },
  {
   "cell_type": "code",
   "execution_count": 87,
   "id": "c096f374",
   "metadata": {},
   "outputs": [],
   "source": [
    "# device= \"cuda:0\"\n",
    "# model = Swin.SwinUNETR(img_size=(96,96,32), in_channels=2, out_channels=2, feature_size=48).to(device)\n",
    "# model"
   ]
  },
  {
   "cell_type": "code",
   "execution_count": 88,
   "id": "0f131f3a",
   "metadata": {},
   "outputs": [],
   "source": [
    "import cm_dual_encoder_sur as cm"
   ]
  },
  {
   "cell_type": "code",
   "execution_count": 89,
   "id": "08391cc3",
   "metadata": {},
   "outputs": [
    {
     "data": {
      "text/plain": [
       "Dual_SwinUNETR(\n",
       "  (swinViT): SwinTransformer(\n",
       "    (patch_embed): PatchEmbed(\n",
       "      (proj): Conv3d(1, 48, kernel_size=(2, 2, 2), stride=(2, 2, 2))\n",
       "    )\n",
       "    (pos_drop): Dropout(p=0.0, inplace=False)\n",
       "    (layers1): ModuleList(\n",
       "      (0): BasicLayer(\n",
       "        (blocks): ModuleList(\n",
       "          (0-1): 2 x SwinTransformerBlock(\n",
       "            (norm1): LayerNorm((48,), eps=1e-05, elementwise_affine=True)\n",
       "            (attn): WindowAttention(\n",
       "              (qkv): Linear(in_features=48, out_features=144, bias=True)\n",
       "              (attn_drop): Dropout(p=0.0, inplace=False)\n",
       "              (proj): Linear(in_features=48, out_features=48, bias=True)\n",
       "              (proj_drop): Dropout(p=0.0, inplace=False)\n",
       "              (softmax): Softmax(dim=-1)\n",
       "            )\n",
       "            (drop_path): Identity()\n",
       "            (norm2): LayerNorm((48,), eps=1e-05, elementwise_affine=True)\n",
       "            (mlp): MLPBlock(\n",
       "              (linear1): Linear(in_features=48, out_features=192, bias=True)\n",
       "              (linear2): Linear(in_features=192, out_features=48, bias=True)\n",
       "              (fn): GELU(approximate='none')\n",
       "              (drop1): Dropout(p=0.0, inplace=False)\n",
       "              (drop2): Dropout(p=0.0, inplace=False)\n",
       "            )\n",
       "          )\n",
       "        )\n",
       "        (downsample): PatchMerging(\n",
       "          (reduction): Linear(in_features=384, out_features=96, bias=False)\n",
       "          (norm): LayerNorm((384,), eps=1e-05, elementwise_affine=True)\n",
       "        )\n",
       "      )\n",
       "    )\n",
       "    (layers2): ModuleList(\n",
       "      (0): BasicLayer(\n",
       "        (blocks): ModuleList(\n",
       "          (0-1): 2 x SwinTransformerBlock(\n",
       "            (norm1): LayerNorm((96,), eps=1e-05, elementwise_affine=True)\n",
       "            (attn): WindowAttention(\n",
       "              (qkv): Linear(in_features=96, out_features=288, bias=True)\n",
       "              (attn_drop): Dropout(p=0.0, inplace=False)\n",
       "              (proj): Linear(in_features=96, out_features=96, bias=True)\n",
       "              (proj_drop): Dropout(p=0.0, inplace=False)\n",
       "              (softmax): Softmax(dim=-1)\n",
       "            )\n",
       "            (drop_path): Identity()\n",
       "            (norm2): LayerNorm((96,), eps=1e-05, elementwise_affine=True)\n",
       "            (mlp): MLPBlock(\n",
       "              (linear1): Linear(in_features=96, out_features=384, bias=True)\n",
       "              (linear2): Linear(in_features=384, out_features=96, bias=True)\n",
       "              (fn): GELU(approximate='none')\n",
       "              (drop1): Dropout(p=0.0, inplace=False)\n",
       "              (drop2): Dropout(p=0.0, inplace=False)\n",
       "            )\n",
       "          )\n",
       "        )\n",
       "        (downsample): PatchMerging(\n",
       "          (reduction): Linear(in_features=768, out_features=192, bias=False)\n",
       "          (norm): LayerNorm((768,), eps=1e-05, elementwise_affine=True)\n",
       "        )\n",
       "      )\n",
       "    )\n",
       "    (layers3): ModuleList(\n",
       "      (0): BasicLayer(\n",
       "        (blocks): ModuleList(\n",
       "          (0-1): 2 x SwinTransformerBlock(\n",
       "            (norm1): LayerNorm((192,), eps=1e-05, elementwise_affine=True)\n",
       "            (attn): WindowAttention(\n",
       "              (qkv): Linear(in_features=192, out_features=576, bias=True)\n",
       "              (attn_drop): Dropout(p=0.0, inplace=False)\n",
       "              (proj): Linear(in_features=192, out_features=192, bias=True)\n",
       "              (proj_drop): Dropout(p=0.0, inplace=False)\n",
       "              (softmax): Softmax(dim=-1)\n",
       "            )\n",
       "            (drop_path): Identity()\n",
       "            (norm2): LayerNorm((192,), eps=1e-05, elementwise_affine=True)\n",
       "            (mlp): MLPBlock(\n",
       "              (linear1): Linear(in_features=192, out_features=768, bias=True)\n",
       "              (linear2): Linear(in_features=768, out_features=192, bias=True)\n",
       "              (fn): GELU(approximate='none')\n",
       "              (drop1): Dropout(p=0.0, inplace=False)\n",
       "              (drop2): Dropout(p=0.0, inplace=False)\n",
       "            )\n",
       "          )\n",
       "        )\n",
       "        (downsample): PatchMerging(\n",
       "          (reduction): Linear(in_features=1536, out_features=384, bias=False)\n",
       "          (norm): LayerNorm((1536,), eps=1e-05, elementwise_affine=True)\n",
       "        )\n",
       "      )\n",
       "    )\n",
       "    (layers4): ModuleList(\n",
       "      (0): BasicLayer(\n",
       "        (blocks): ModuleList(\n",
       "          (0-1): 2 x SwinTransformerBlock(\n",
       "            (norm1): LayerNorm((384,), eps=1e-05, elementwise_affine=True)\n",
       "            (attn): WindowAttention(\n",
       "              (qkv): Linear(in_features=384, out_features=1152, bias=True)\n",
       "              (attn_drop): Dropout(p=0.0, inplace=False)\n",
       "              (proj): Linear(in_features=384, out_features=384, bias=True)\n",
       "              (proj_drop): Dropout(p=0.0, inplace=False)\n",
       "              (softmax): Softmax(dim=-1)\n",
       "            )\n",
       "            (drop_path): Identity()\n",
       "            (norm2): LayerNorm((384,), eps=1e-05, elementwise_affine=True)\n",
       "            (mlp): MLPBlock(\n",
       "              (linear1): Linear(in_features=384, out_features=1536, bias=True)\n",
       "              (linear2): Linear(in_features=1536, out_features=384, bias=True)\n",
       "              (fn): GELU(approximate='none')\n",
       "              (drop1): Dropout(p=0.0, inplace=False)\n",
       "              (drop2): Dropout(p=0.0, inplace=False)\n",
       "            )\n",
       "          )\n",
       "        )\n",
       "        (downsample): PatchMerging(\n",
       "          (reduction): Linear(in_features=3072, out_features=768, bias=False)\n",
       "          (norm): LayerNorm((3072,), eps=1e-05, elementwise_affine=True)\n",
       "        )\n",
       "      )\n",
       "    )\n",
       "  )\n",
       "  (encoder1_1): UnetrBasicBlock(\n",
       "    (layer): UnetResBlock(\n",
       "      (conv1): Convolution(\n",
       "        (conv): Conv3d(1, 48, kernel_size=(3, 3, 3), stride=(1, 1, 1), padding=(1, 1, 1), bias=False)\n",
       "      )\n",
       "      (conv2): Convolution(\n",
       "        (conv): Conv3d(48, 48, kernel_size=(3, 3, 3), stride=(1, 1, 1), padding=(1, 1, 1), bias=False)\n",
       "      )\n",
       "      (lrelu): LeakyReLU(negative_slope=0.01, inplace=True)\n",
       "      (norm1): InstanceNorm3d(48, eps=1e-05, momentum=0.1, affine=False, track_running_stats=False)\n",
       "      (norm2): InstanceNorm3d(48, eps=1e-05, momentum=0.1, affine=False, track_running_stats=False)\n",
       "      (conv3): Convolution(\n",
       "        (conv): Conv3d(1, 48, kernel_size=(1, 1, 1), stride=(1, 1, 1), bias=False)\n",
       "      )\n",
       "      (norm3): InstanceNorm3d(48, eps=1e-05, momentum=0.1, affine=False, track_running_stats=False)\n",
       "    )\n",
       "  )\n",
       "  (encoder1_2): UnetrBasicBlock(\n",
       "    (layer): UnetResBlock(\n",
       "      (conv1): Convolution(\n",
       "        (conv): Conv3d(1, 48, kernel_size=(3, 3, 3), stride=(1, 1, 1), padding=(1, 1, 1), bias=False)\n",
       "      )\n",
       "      (conv2): Convolution(\n",
       "        (conv): Conv3d(48, 48, kernel_size=(3, 3, 3), stride=(1, 1, 1), padding=(1, 1, 1), bias=False)\n",
       "      )\n",
       "      (lrelu): LeakyReLU(negative_slope=0.01, inplace=True)\n",
       "      (norm1): InstanceNorm3d(48, eps=1e-05, momentum=0.1, affine=False, track_running_stats=False)\n",
       "      (norm2): InstanceNorm3d(48, eps=1e-05, momentum=0.1, affine=False, track_running_stats=False)\n",
       "      (conv3): Convolution(\n",
       "        (conv): Conv3d(1, 48, kernel_size=(1, 1, 1), stride=(1, 1, 1), bias=False)\n",
       "      )\n",
       "      (norm3): InstanceNorm3d(48, eps=1e-05, momentum=0.1, affine=False, track_running_stats=False)\n",
       "    )\n",
       "  )\n",
       "  (encoder2_1): UnetrBasicBlock(\n",
       "    (layer): UnetResBlock(\n",
       "      (conv1): Convolution(\n",
       "        (conv): Conv3d(48, 48, kernel_size=(3, 3, 3), stride=(1, 1, 1), padding=(1, 1, 1), bias=False)\n",
       "      )\n",
       "      (conv2): Convolution(\n",
       "        (conv): Conv3d(48, 48, kernel_size=(3, 3, 3), stride=(1, 1, 1), padding=(1, 1, 1), bias=False)\n",
       "      )\n",
       "      (lrelu): LeakyReLU(negative_slope=0.01, inplace=True)\n",
       "      (norm1): InstanceNorm3d(48, eps=1e-05, momentum=0.1, affine=False, track_running_stats=False)\n",
       "      (norm2): InstanceNorm3d(48, eps=1e-05, momentum=0.1, affine=False, track_running_stats=False)\n",
       "    )\n",
       "  )\n",
       "  (encoder2_2): UnetrBasicBlock(\n",
       "    (layer): UnetResBlock(\n",
       "      (conv1): Convolution(\n",
       "        (conv): Conv3d(48, 48, kernel_size=(3, 3, 3), stride=(1, 1, 1), padding=(1, 1, 1), bias=False)\n",
       "      )\n",
       "      (conv2): Convolution(\n",
       "        (conv): Conv3d(48, 48, kernel_size=(3, 3, 3), stride=(1, 1, 1), padding=(1, 1, 1), bias=False)\n",
       "      )\n",
       "      (lrelu): LeakyReLU(negative_slope=0.01, inplace=True)\n",
       "      (norm1): InstanceNorm3d(48, eps=1e-05, momentum=0.1, affine=False, track_running_stats=False)\n",
       "      (norm2): InstanceNorm3d(48, eps=1e-05, momentum=0.1, affine=False, track_running_stats=False)\n",
       "    )\n",
       "  )\n",
       "  (encoder3_1): UnetrBasicBlock(\n",
       "    (layer): UnetResBlock(\n",
       "      (conv1): Convolution(\n",
       "        (conv): Conv3d(96, 96, kernel_size=(3, 3, 3), stride=(1, 1, 1), padding=(1, 1, 1), bias=False)\n",
       "      )\n",
       "      (conv2): Convolution(\n",
       "        (conv): Conv3d(96, 96, kernel_size=(3, 3, 3), stride=(1, 1, 1), padding=(1, 1, 1), bias=False)\n",
       "      )\n",
       "      (lrelu): LeakyReLU(negative_slope=0.01, inplace=True)\n",
       "      (norm1): InstanceNorm3d(96, eps=1e-05, momentum=0.1, affine=False, track_running_stats=False)\n",
       "      (norm2): InstanceNorm3d(96, eps=1e-05, momentum=0.1, affine=False, track_running_stats=False)\n",
       "    )\n",
       "  )\n",
       "  (encoder3_2): UnetrBasicBlock(\n",
       "    (layer): UnetResBlock(\n",
       "      (conv1): Convolution(\n",
       "        (conv): Conv3d(96, 96, kernel_size=(3, 3, 3), stride=(1, 1, 1), padding=(1, 1, 1), bias=False)\n",
       "      )\n",
       "      (conv2): Convolution(\n",
       "        (conv): Conv3d(96, 96, kernel_size=(3, 3, 3), stride=(1, 1, 1), padding=(1, 1, 1), bias=False)\n",
       "      )\n",
       "      (lrelu): LeakyReLU(negative_slope=0.01, inplace=True)\n",
       "      (norm1): InstanceNorm3d(96, eps=1e-05, momentum=0.1, affine=False, track_running_stats=False)\n",
       "      (norm2): InstanceNorm3d(96, eps=1e-05, momentum=0.1, affine=False, track_running_stats=False)\n",
       "    )\n",
       "  )\n",
       "  (encoder4_1): UnetrBasicBlock(\n",
       "    (layer): UnetResBlock(\n",
       "      (conv1): Convolution(\n",
       "        (conv): Conv3d(192, 192, kernel_size=(3, 3, 3), stride=(1, 1, 1), padding=(1, 1, 1), bias=False)\n",
       "      )\n",
       "      (conv2): Convolution(\n",
       "        (conv): Conv3d(192, 192, kernel_size=(3, 3, 3), stride=(1, 1, 1), padding=(1, 1, 1), bias=False)\n",
       "      )\n",
       "      (lrelu): LeakyReLU(negative_slope=0.01, inplace=True)\n",
       "      (norm1): InstanceNorm3d(192, eps=1e-05, momentum=0.1, affine=False, track_running_stats=False)\n",
       "      (norm2): InstanceNorm3d(192, eps=1e-05, momentum=0.1, affine=False, track_running_stats=False)\n",
       "    )\n",
       "  )\n",
       "  (encoder4_2): UnetrBasicBlock(\n",
       "    (layer): UnetResBlock(\n",
       "      (conv1): Convolution(\n",
       "        (conv): Conv3d(192, 192, kernel_size=(3, 3, 3), stride=(1, 1, 1), padding=(1, 1, 1), bias=False)\n",
       "      )\n",
       "      (conv2): Convolution(\n",
       "        (conv): Conv3d(192, 192, kernel_size=(3, 3, 3), stride=(1, 1, 1), padding=(1, 1, 1), bias=False)\n",
       "      )\n",
       "      (lrelu): LeakyReLU(negative_slope=0.01, inplace=True)\n",
       "      (norm1): InstanceNorm3d(192, eps=1e-05, momentum=0.1, affine=False, track_running_stats=False)\n",
       "      (norm2): InstanceNorm3d(192, eps=1e-05, momentum=0.1, affine=False, track_running_stats=False)\n",
       "    )\n",
       "  )\n",
       "  (encoder10_1): UnetrBasicBlock(\n",
       "    (layer): UnetResBlock(\n",
       "      (conv1): Convolution(\n",
       "        (conv): Conv3d(768, 768, kernel_size=(3, 3, 3), stride=(1, 1, 1), padding=(1, 1, 1), bias=False)\n",
       "      )\n",
       "      (conv2): Convolution(\n",
       "        (conv): Conv3d(768, 768, kernel_size=(3, 3, 3), stride=(1, 1, 1), padding=(1, 1, 1), bias=False)\n",
       "      )\n",
       "      (lrelu): LeakyReLU(negative_slope=0.01, inplace=True)\n",
       "      (norm1): InstanceNorm3d(768, eps=1e-05, momentum=0.1, affine=False, track_running_stats=False)\n",
       "      (norm2): InstanceNorm3d(768, eps=1e-05, momentum=0.1, affine=False, track_running_stats=False)\n",
       "    )\n",
       "  )\n",
       "  (encoder10_2): UnetrBasicBlock(\n",
       "    (layer): UnetResBlock(\n",
       "      (conv1): Convolution(\n",
       "        (conv): Conv3d(768, 768, kernel_size=(3, 3, 3), stride=(1, 1, 1), padding=(1, 1, 1), bias=False)\n",
       "      )\n",
       "      (conv2): Convolution(\n",
       "        (conv): Conv3d(768, 768, kernel_size=(3, 3, 3), stride=(1, 1, 1), padding=(1, 1, 1), bias=False)\n",
       "      )\n",
       "      (lrelu): LeakyReLU(negative_slope=0.01, inplace=True)\n",
       "      (norm1): InstanceNorm3d(768, eps=1e-05, momentum=0.1, affine=False, track_running_stats=False)\n",
       "      (norm2): InstanceNorm3d(768, eps=1e-05, momentum=0.1, affine=False, track_running_stats=False)\n",
       "    )\n",
       "  )\n",
       "  (decoder5): UnetrUpBlock(\n",
       "    (transp_conv): Convolution(\n",
       "      (conv): ConvTranspose3d(1536, 768, kernel_size=(2, 2, 2), stride=(2, 2, 2), bias=False)\n",
       "    )\n",
       "    (conv_block): UnetResBlock(\n",
       "      (conv1): Convolution(\n",
       "        (conv): Conv3d(1536, 768, kernel_size=(3, 3, 3), stride=(1, 1, 1), padding=(1, 1, 1), bias=False)\n",
       "      )\n",
       "      (conv2): Convolution(\n",
       "        (conv): Conv3d(768, 768, kernel_size=(3, 3, 3), stride=(1, 1, 1), padding=(1, 1, 1), bias=False)\n",
       "      )\n",
       "      (lrelu): LeakyReLU(negative_slope=0.01, inplace=True)\n",
       "      (norm1): InstanceNorm3d(768, eps=1e-05, momentum=0.1, affine=False, track_running_stats=False)\n",
       "      (norm2): InstanceNorm3d(768, eps=1e-05, momentum=0.1, affine=False, track_running_stats=False)\n",
       "      (conv3): Convolution(\n",
       "        (conv): Conv3d(1536, 768, kernel_size=(1, 1, 1), stride=(1, 1, 1), bias=False)\n",
       "      )\n",
       "      (norm3): InstanceNorm3d(768, eps=1e-05, momentum=0.1, affine=False, track_running_stats=False)\n",
       "    )\n",
       "  )\n",
       "  (decoder4): UnetrUpBlock(\n",
       "    (transp_conv): Convolution(\n",
       "      (conv): ConvTranspose3d(768, 384, kernel_size=(2, 2, 2), stride=(2, 2, 2), bias=False)\n",
       "    )\n",
       "    (conv_block): UnetResBlock(\n",
       "      (conv1): Convolution(\n",
       "        (conv): Conv3d(768, 384, kernel_size=(3, 3, 3), stride=(1, 1, 1), padding=(1, 1, 1), bias=False)\n",
       "      )\n",
       "      (conv2): Convolution(\n",
       "        (conv): Conv3d(384, 384, kernel_size=(3, 3, 3), stride=(1, 1, 1), padding=(1, 1, 1), bias=False)\n",
       "      )\n",
       "      (lrelu): LeakyReLU(negative_slope=0.01, inplace=True)\n",
       "      (norm1): InstanceNorm3d(384, eps=1e-05, momentum=0.1, affine=False, track_running_stats=False)\n",
       "      (norm2): InstanceNorm3d(384, eps=1e-05, momentum=0.1, affine=False, track_running_stats=False)\n",
       "      (conv3): Convolution(\n",
       "        (conv): Conv3d(768, 384, kernel_size=(1, 1, 1), stride=(1, 1, 1), bias=False)\n",
       "      )\n",
       "      (norm3): InstanceNorm3d(384, eps=1e-05, momentum=0.1, affine=False, track_running_stats=False)\n",
       "    )\n",
       "  )\n",
       "  (decoder3): UnetrUpBlock(\n",
       "    (transp_conv): Convolution(\n",
       "      (conv): ConvTranspose3d(384, 192, kernel_size=(2, 2, 2), stride=(2, 2, 2), bias=False)\n",
       "    )\n",
       "    (conv_block): UnetResBlock(\n",
       "      (conv1): Convolution(\n",
       "        (conv): Conv3d(384, 192, kernel_size=(3, 3, 3), stride=(1, 1, 1), padding=(1, 1, 1), bias=False)\n",
       "      )\n",
       "      (conv2): Convolution(\n",
       "        (conv): Conv3d(192, 192, kernel_size=(3, 3, 3), stride=(1, 1, 1), padding=(1, 1, 1), bias=False)\n",
       "      )\n",
       "      (lrelu): LeakyReLU(negative_slope=0.01, inplace=True)\n",
       "      (norm1): InstanceNorm3d(192, eps=1e-05, momentum=0.1, affine=False, track_running_stats=False)\n",
       "      (norm2): InstanceNorm3d(192, eps=1e-05, momentum=0.1, affine=False, track_running_stats=False)\n",
       "      (conv3): Convolution(\n",
       "        (conv): Conv3d(384, 192, kernel_size=(1, 1, 1), stride=(1, 1, 1), bias=False)\n",
       "      )\n",
       "      (norm3): InstanceNorm3d(192, eps=1e-05, momentum=0.1, affine=False, track_running_stats=False)\n",
       "    )\n",
       "  )\n",
       "  (decoder2): UnetrUpBlock(\n",
       "    (transp_conv): Convolution(\n",
       "      (conv): ConvTranspose3d(192, 96, kernel_size=(2, 2, 2), stride=(2, 2, 2), bias=False)\n",
       "    )\n",
       "    (conv_block): UnetResBlock(\n",
       "      (conv1): Convolution(\n",
       "        (conv): Conv3d(192, 96, kernel_size=(3, 3, 3), stride=(1, 1, 1), padding=(1, 1, 1), bias=False)\n",
       "      )\n",
       "      (conv2): Convolution(\n",
       "        (conv): Conv3d(96, 96, kernel_size=(3, 3, 3), stride=(1, 1, 1), padding=(1, 1, 1), bias=False)\n",
       "      )\n",
       "      (lrelu): LeakyReLU(negative_slope=0.01, inplace=True)\n",
       "      (norm1): InstanceNorm3d(96, eps=1e-05, momentum=0.1, affine=False, track_running_stats=False)\n",
       "      (norm2): InstanceNorm3d(96, eps=1e-05, momentum=0.1, affine=False, track_running_stats=False)\n",
       "      (conv3): Convolution(\n",
       "        (conv): Conv3d(192, 96, kernel_size=(1, 1, 1), stride=(1, 1, 1), bias=False)\n",
       "      )\n",
       "      (norm3): InstanceNorm3d(96, eps=1e-05, momentum=0.1, affine=False, track_running_stats=False)\n",
       "    )\n",
       "  )\n",
       "  (decoder1): UnetrUpBlock(\n",
       "    (transp_conv): Convolution(\n",
       "      (conv): ConvTranspose3d(96, 96, kernel_size=(2, 2, 2), stride=(2, 2, 2), bias=False)\n",
       "    )\n",
       "    (conv_block): UnetResBlock(\n",
       "      (conv1): Convolution(\n",
       "        (conv): Conv3d(192, 96, kernel_size=(3, 3, 3), stride=(1, 1, 1), padding=(1, 1, 1), bias=False)\n",
       "      )\n",
       "      (conv2): Convolution(\n",
       "        (conv): Conv3d(96, 96, kernel_size=(3, 3, 3), stride=(1, 1, 1), padding=(1, 1, 1), bias=False)\n",
       "      )\n",
       "      (lrelu): LeakyReLU(negative_slope=0.01, inplace=True)\n",
       "      (norm1): InstanceNorm3d(96, eps=1e-05, momentum=0.1, affine=False, track_running_stats=False)\n",
       "      (norm2): InstanceNorm3d(96, eps=1e-05, momentum=0.1, affine=False, track_running_stats=False)\n",
       "      (conv3): Convolution(\n",
       "        (conv): Conv3d(192, 96, kernel_size=(1, 1, 1), stride=(1, 1, 1), bias=False)\n",
       "      )\n",
       "      (norm3): InstanceNorm3d(96, eps=1e-05, momentum=0.1, affine=False, track_running_stats=False)\n",
       "    )\n",
       "  )\n",
       "  (out): UnetOutBlock(\n",
       "    (conv): Convolution(\n",
       "      (conv): Conv3d(96, 2, kernel_size=(1, 1, 1), stride=(1, 1, 1))\n",
       "    )\n",
       "  )\n",
       ")"
      ]
     },
     "execution_count": 89,
     "metadata": {},
     "output_type": "execute_result"
    }
   ],
   "source": [
    "device= \"cuda:0\"\n",
    "model = cm.Dual_SwinUNETR(img_size=(64,64,32), in_channels=1, out_channels=2, feature_size=48).to(device)\n",
    "model"
   ]
  },
  {
   "cell_type": "code",
   "execution_count": 90,
   "id": "08ec2b1c",
   "metadata": {},
   "outputs": [],
   "source": [
    "from monai.losses import HausdorffDTLoss"
   ]
  },
  {
   "cell_type": "code",
   "execution_count": 91,
   "id": "f9178ecb",
   "metadata": {},
   "outputs": [],
   "source": [
    "# loss_function = DiceCELoss(to_onehot_y=True, softmax=True)\n",
    "loss_function = HausdorffDTLoss(to_onehot_y=True, softmax=True)\n",
    "torch.backends.cudnn.benchmark = True"
   ]
  },
  {
   "cell_type": "code",
   "execution_count": 92,
   "id": "5f5e0967",
   "metadata": {},
   "outputs": [],
   "source": [
    "def validation(epoch_iterator_val):\n",
    "    model.eval()\n",
    "    dice_vals = list()\n",
    "    with torch.no_grad():\n",
    "        for step, batch in enumerate(epoch_iterator_val):\n",
    "            val_inputs_T2,val_inputs_SWI, val_labels = (batch[\"image1\"]).to(device),(batch[\"image2\"]).to(device), batch[\"seg\"].to(device)\n",
    "            val_inputs = torch.cat((val_inputs_T2,val_inputs_SWI),axis=1)\n",
    "            val_outputs = model(val_inputs)\n",
    "            \n",
    "            \n",
    "            # val_single_label = (val_labels == 3).to(val_labels.dtype)\n",
    "                      \n",
    "            if step==0:\n",
    "                # plt.figure(dpi=256)\n",
    "                # plt.subplot(161)\n",
    "                # plt.imshow(val_inputs[0,0,:,:,16].cpu(),cmap='gray')\n",
    "                # plt.axis('off')\n",
    "                # plt.title('input')\n",
    "                # plt.subplot(162)\n",
    "                # plt.imshow(val_outputs[0,0,:,:,16].cpu(),cmap='jet')\n",
    "                # plt.axis('off')\n",
    "                # plt.title('background')\n",
    "                # plt.subplot(163)\n",
    "                # plt.imshow(val_outputs[0,1,:,:,16].cpu(),cmap='jet')\n",
    "                # plt.axis('off')\n",
    "                # plt.title('BG')\n",
    "                # plt.subplot(164)\n",
    "                # plt.imshow(val_labels[0,0,:,:,16].cpu(),cmap='jet')\n",
    "                # plt.axis('off')\n",
    "                # plt.title('label')\n",
    "                plt.figure(dpi=256)\n",
    "                plt.subplot(161)\n",
    "                plt.imshow(torch.rot90(torch.sum(val_inputs[0,0,:,:,:].detach().cpu(),dim=2)),cmap='gray')\n",
    "                plt.axis('off')\n",
    "                plt.title('input')\n",
    "                plt.subplot(162)\n",
    "                plt.imshow(torch.rot90(torch.sum(val_outputs[0,0,:,:,:].detach().cpu()>.5,dim=2)),cmap='jet')\n",
    "                plt.axis('off')\n",
    "                plt.title('background')\n",
    "                plt.subplot(163)\n",
    "                plt.imshow(torch.rot90(torch.sum(val_outputs[0,1,:,:,:].detach().cpu()>.5,dim=2)),cmap='jet')\n",
    "                plt.axis('off')\n",
    "                plt.title('BG')\n",
    "                plt.subplot(164)\n",
    "                plt.imshow(torch.rot90(torch.sum(val_labels[0,0,:,:,:].detach().cpu()>.5,dim=2)),cmap='jet')\n",
    "                plt.axis('off')\n",
    "                plt.title('label')\n",
    "                # plt.subplot(166)\n",
    "                # plt.plot(epoch_loss_values, label='Loss Curve')\n",
    "                # plt.xlabel('Epoch')\n",
    "                # plt.ylabel('Loss')\n",
    "                # plt.legend()       \n",
    "                plt.show()          \n",
    "            \n",
    "            val_labels_list = decollate_batch(val_labels)#변수를 개별 레이블 텐서 목록으로 분할\n",
    "            val_labels_convert = [\n",
    "                post_label(val_label_tensor) for val_label_tensor in val_labels_list\n",
    "            ]\n",
    "            val_outputs_list = decollate_batch(val_outputs)\n",
    "            val_output_convert = [\n",
    "                post_pred(val_pred_tensor) for val_pred_tensor in val_outputs_list\n",
    "            ]\n",
    "            dice_metric(y_pred=val_output_convert, y=val_labels_convert)\n",
    "            dice = dice_metric.aggregate().item()\n",
    "            dice_vals.append(dice)\n",
    "            epoch_iterator_val.set_description(\n",
    "                \"Validate (%d / %d Steps) (dice=%2.5f)\" % (global_step, 10.0, dice)\n",
    "            )\n",
    "                  \n",
    "    dice_metric.reset()\n",
    "    mean_dice_val = np.mean(dice_vals)\n",
    "    return mean_dice_val"
   ]
  },
  {
   "cell_type": "code",
   "execution_count": 93,
   "id": "c8bd086c",
   "metadata": {},
   "outputs": [],
   "source": [
    "def train(global_step, train_loader, dice_val_best, global_step_best):\n",
    "    model.train()\n",
    "    epoch_loss = 0\n",
    "    step = 0\n",
    "    epoch_iterator = tqdm(\n",
    "        train_loader, desc=\"Training (X / X Steps) (loss=X.X)\", dynamic_ncols=True\n",
    "    )\n",
    "    for step, batch in enumerate(epoch_iterator):\n",
    "        step += 1\n",
    "        a, b, y = batch[\"image1\"].to(device), batch[\"image2\"].to(device), batch[\"seg\"].to(device)\n",
    "        x = torch.cat((a, b),axis=1)\n",
    "                        \n",
    "        ##training\n",
    "        logit_map = model(x)\n",
    "        loss = loss_function(logit_map, y)\n",
    "        loss.backward()\n",
    "        epoch_loss += loss.item()\n",
    "        loss_values.append(loss.item()) # 전체 loss 보기위해 새로 추가\n",
    "        optimizer.step()\n",
    "        optimizer.zero_grad()\n",
    "        epoch_iterator.set_description(\n",
    "            \"Training (%d / %d Steps) (loss=%2.5f)\" % (global_step, max_iterations, loss)\n",
    "        )\n",
    "        ##validaiotn \n",
    "        if (\n",
    "            global_step % eval_num == 0 and global_step != 0\n",
    "        ) or global_step == max_iterations:\n",
    "            epoch_iterator_val = tqdm(\n",
    "                valid_loader, desc=\"Validate (X / X Steps) (dice=X.X)\", dynamic_ncols=True\n",
    "            )\n",
    "            dice_val = validation(epoch_iterator_val)\n",
    "            epoch_loss /= step\n",
    "            epoch_loss_values.append(epoch_loss)\n",
    "            metric_values.append(dice_val)\n",
    "            if (dice_val > dice_val_best) & (dice_val < 1.0): # best parameter 뽑기 위해\n",
    "                dice_val_best = dice_val\n",
    "                global_step_best = global_step\n",
    "                torch.save(\n",
    "                    model.state_dict(), os.path.join( f\"T2,SWI_new_model_hausdorff_best_vxxxx_{global_step}.pth\")\n",
    "                )\n",
    "                print(\n",
    "                    \"Model Was Saved ! Current Best Avg. Dice: {} Current Avg. Dice: {}\".format(\n",
    "                        dice_val_best, dice_val\n",
    "                    )\n",
    "                )\n",
    "            else:\n",
    "                print(\n",
    "                    \"Model Was Not Saved ! Current Best Avg. Dice: {} Current Avg. Dice: {}\".format(\n",
    "                        dice_val_best, dice_val\n",
    "                    )\n",
    "                )\n",
    "        global_step += 1\n",
    "\n",
    "#    scheduler.step()\n",
    "\n",
    "    return global_step, dice_val_best, global_step_best"
   ]
  },
  {
   "cell_type": "code",
   "execution_count": 24,
   "id": "a0f38ad9",
   "metadata": {},
   "outputs": [],
   "source": [
    "max_iterations = 100\n",
    "eval_num = 10\n",
    "post_label = AsDiscrete(to_onehot=2)\n",
    "post_pred = AsDiscrete(argmax=True, to_onehot=2)\n",
    "dice_metric = DiceMetric(include_background=True, reduction=\"mean\", get_not_nans=False)\n",
    "global_step = 0\n",
    "dice_val_best = 0.85\n",
    "global_step_best = 0\n",
    "epoch_loss_values = []\n",
    "metric_values = []\n",
    "loss_values = [] # 새로 추가해줌 (전체 loss 보려고)\n",
    "#optimizer\n",
    "optimizer = torch.optim.AdamW(model.parameters(), lr=1e-3, weight_decay=1e-4)"
   ]
  },
  {
   "cell_type": "code",
   "execution_count": 94,
   "id": "68fe0fef",
   "metadata": {},
   "outputs": [
    {
     "data": {
      "text/plain": [
       "<All keys matched successfully>"
      ]
     },
     "execution_count": 94,
     "metadata": {},
     "output_type": "execute_result"
    }
   ],
   "source": [
    "model.load_state_dict(torch.load(\"T2,SWI_newmodel_hausdorff_last_vxxxx_1024.pth\"))"
   ]
  },
  {
   "cell_type": "code",
   "execution_count": 26,
   "id": "c767ac26",
   "metadata": {
    "collapsed": true,
    "jupyter": {
     "outputs_hidden": true
    }
   },
   "outputs": [
    {
     "name": "stderr",
     "output_type": "stream",
     "text": [
      "\r\n",
      "Training (X / X Steps) (loss=X.X):   0%|                 | 0/32 [00:00<?, ?it/s]"
     ]
    },
    {
     "name": "stdout",
     "output_type": "stream",
     "text": [
      "torch.Size([3, 2, 64, 64, 32])\n",
      "torch.Size([3, 1, 64, 64, 32])\n",
      "torch.Size([3, 1, 64, 64, 32])\n",
      "torch.Size([3, 48, 64, 64, 32])\n",
      "torch.Size([3, 96, 64, 64, 32])\n",
      "torch.Size([3, 48, 32, 32, 16])\n",
      "torch.Size([3, 96, 32, 32, 16])\n",
      "torch.Size([3, 96, 16, 16, 8])\n",
      "torch.Size([3, 192, 16, 16, 8])\n",
      "torch.Size([3, 192, 8, 8, 4])\n",
      "torch.Size([3, 384, 8, 8, 4])\n",
      "torch.Size([3, 768, 2, 2, 1])\n",
      "torch.Size([3, 1536, 2, 2, 1])\n",
      "torch.Size([3, 768, 4, 4, 2])\n",
      "torch.Size([3, 384, 8, 8, 4])\n",
      "torch.Size([3, 192, 16, 16, 8])\n",
      "torch.Size([3, 96, 32, 32, 16])\n",
      "torch.Size([3, 96, 64, 64, 32])\n"
     ]
    },
    {
     "name": "stderr",
     "output_type": "stream",
     "text": [
      "Training (0 / 100 Steps) (loss=0.13031):   3%|   | 1/32 [00:51<26:23, 51.10s/it]"
     ]
    },
    {
     "name": "stdout",
     "output_type": "stream",
     "text": [
      "torch.Size([3, 2, 64, 64, 32])\n",
      "torch.Size([3, 1, 64, 64, 32])\n",
      "torch.Size([3, 1, 64, 64, 32])\n",
      "torch.Size([3, 48, 64, 64, 32])\n",
      "torch.Size([3, 96, 64, 64, 32])\n",
      "torch.Size([3, 48, 32, 32, 16])\n",
      "torch.Size([3, 96, 32, 32, 16])\n",
      "torch.Size([3, 96, 16, 16, 8])\n",
      "torch.Size([3, 192, 16, 16, 8])\n",
      "torch.Size([3, 192, 8, 8, 4])\n",
      "torch.Size([3, 384, 8, 8, 4])\n",
      "torch.Size([3, 768, 2, 2, 1])\n",
      "torch.Size([3, 1536, 2, 2, 1])\n",
      "torch.Size([3, 768, 4, 4, 2])\n",
      "torch.Size([3, 384, 8, 8, 4])\n",
      "torch.Size([3, 192, 16, 16, 8])\n",
      "torch.Size([3, 96, 32, 32, 16])\n",
      "torch.Size([3, 96, 64, 64, 32])\n"
     ]
    },
    {
     "name": "stderr",
     "output_type": "stream",
     "text": [
      "Training (1 / 100 Steps) (loss=0.16185):   6%|▏  | 2/32 [00:52<10:49, 21.66s/it]"
     ]
    },
    {
     "name": "stdout",
     "output_type": "stream",
     "text": [
      "torch.Size([3, 2, 64, 64, 32])\n",
      "torch.Size([3, 1, 64, 64, 32])\n",
      "torch.Size([3, 1, 64, 64, 32])\n",
      "torch.Size([3, 48, 64, 64, 32])\n",
      "torch.Size([3, 96, 64, 64, 32])\n",
      "torch.Size([3, 48, 32, 32, 16])\n",
      "torch.Size([3, 96, 32, 32, 16])\n",
      "torch.Size([3, 96, 16, 16, 8])\n",
      "torch.Size([3, 192, 16, 16, 8])\n",
      "torch.Size([3, 192, 8, 8, 4])\n",
      "torch.Size([3, 384, 8, 8, 4])\n",
      "torch.Size([3, 768, 2, 2, 1])\n",
      "torch.Size([3, 1536, 2, 2, 1])\n",
      "torch.Size([3, 768, 4, 4, 2])\n",
      "torch.Size([3, 384, 8, 8, 4])\n",
      "torch.Size([3, 192, 16, 16, 8])\n",
      "torch.Size([3, 96, 32, 32, 16])\n",
      "torch.Size([3, 96, 64, 64, 32])\n"
     ]
    },
    {
     "name": "stderr",
     "output_type": "stream",
     "text": [
      "Training (2 / 100 Steps) (loss=0.13040):   9%|▎  | 3/32 [00:53<05:54, 12.24s/it]"
     ]
    },
    {
     "name": "stdout",
     "output_type": "stream",
     "text": [
      "torch.Size([3, 2, 64, 64, 32])\n",
      "torch.Size([3, 1, 64, 64, 32])\n",
      "torch.Size([3, 1, 64, 64, 32])\n",
      "torch.Size([3, 48, 64, 64, 32])\n",
      "torch.Size([3, 96, 64, 64, 32])\n",
      "torch.Size([3, 48, 32, 32, 16])\n",
      "torch.Size([3, 96, 32, 32, 16])\n",
      "torch.Size([3, 96, 16, 16, 8])\n",
      "torch.Size([3, 192, 16, 16, 8])\n",
      "torch.Size([3, 192, 8, 8, 4])\n",
      "torch.Size([3, 384, 8, 8, 4])\n",
      "torch.Size([3, 768, 2, 2, 1])\n",
      "torch.Size([3, 1536, 2, 2, 1])\n",
      "torch.Size([3, 768, 4, 4, 2])\n",
      "torch.Size([3, 384, 8, 8, 4])\n",
      "torch.Size([3, 192, 16, 16, 8])\n",
      "torch.Size([3, 96, 32, 32, 16])\n",
      "torch.Size([3, 96, 64, 64, 32])\n"
     ]
    },
    {
     "name": "stderr",
     "output_type": "stream",
     "text": [
      "Training (3 / 100 Steps) (loss=0.13534):  12%|▍  | 4/32 [00:54<03:38,  7.82s/it]"
     ]
    },
    {
     "name": "stdout",
     "output_type": "stream",
     "text": [
      "torch.Size([3, 2, 64, 64, 32])\n",
      "torch.Size([3, 1, 64, 64, 32])\n",
      "torch.Size([3, 1, 64, 64, 32])\n",
      "torch.Size([3, 48, 64, 64, 32])\n",
      "torch.Size([3, 96, 64, 64, 32])\n",
      "torch.Size([3, 48, 32, 32, 16])\n",
      "torch.Size([3, 96, 32, 32, 16])\n",
      "torch.Size([3, 96, 16, 16, 8])\n",
      "torch.Size([3, 192, 16, 16, 8])\n",
      "torch.Size([3, 192, 8, 8, 4])\n",
      "torch.Size([3, 384, 8, 8, 4])\n",
      "torch.Size([3, 768, 2, 2, 1])\n",
      "torch.Size([3, 1536, 2, 2, 1])\n",
      "torch.Size([3, 768, 4, 4, 2])\n",
      "torch.Size([3, 384, 8, 8, 4])\n",
      "torch.Size([3, 192, 16, 16, 8])\n",
      "torch.Size([3, 96, 32, 32, 16])\n",
      "torch.Size([3, 96, 64, 64, 32])\n"
     ]
    },
    {
     "name": "stderr",
     "output_type": "stream",
     "text": [
      "Training (4 / 100 Steps) (loss=0.29308):  16%|▍  | 5/32 [00:55<02:25,  5.38s/it]"
     ]
    },
    {
     "name": "stdout",
     "output_type": "stream",
     "text": [
      "torch.Size([3, 2, 64, 64, 32])\n",
      "torch.Size([3, 1, 64, 64, 32])\n",
      "torch.Size([3, 1, 64, 64, 32])\n",
      "torch.Size([3, 48, 64, 64, 32])\n",
      "torch.Size([3, 96, 64, 64, 32])\n",
      "torch.Size([3, 48, 32, 32, 16])\n",
      "torch.Size([3, 96, 32, 32, 16])\n",
      "torch.Size([3, 96, 16, 16, 8])\n",
      "torch.Size([3, 192, 16, 16, 8])\n",
      "torch.Size([3, 192, 8, 8, 4])\n",
      "torch.Size([3, 384, 8, 8, 4])\n",
      "torch.Size([3, 768, 2, 2, 1])\n",
      "torch.Size([3, 1536, 2, 2, 1])\n",
      "torch.Size([3, 768, 4, 4, 2])\n",
      "torch.Size([3, 384, 8, 8, 4])\n",
      "torch.Size([3, 192, 16, 16, 8])\n",
      "torch.Size([3, 96, 32, 32, 16])\n",
      "torch.Size([3, 96, 64, 64, 32])\n"
     ]
    },
    {
     "name": "stderr",
     "output_type": "stream",
     "text": [
      "Training (5 / 100 Steps) (loss=0.24843):  19%|▌  | 6/32 [00:56<01:41,  3.90s/it]"
     ]
    },
    {
     "name": "stdout",
     "output_type": "stream",
     "text": [
      "torch.Size([3, 2, 64, 64, 32])\n",
      "torch.Size([3, 1, 64, 64, 32])\n",
      "torch.Size([3, 1, 64, 64, 32])\n",
      "torch.Size([3, 48, 64, 64, 32])\n",
      "torch.Size([3, 96, 64, 64, 32])\n",
      "torch.Size([3, 48, 32, 32, 16])\n",
      "torch.Size([3, 96, 32, 32, 16])\n",
      "torch.Size([3, 96, 16, 16, 8])\n",
      "torch.Size([3, 192, 16, 16, 8])\n",
      "torch.Size([3, 192, 8, 8, 4])\n",
      "torch.Size([3, 384, 8, 8, 4])\n",
      "torch.Size([3, 768, 2, 2, 1])\n",
      "torch.Size([3, 1536, 2, 2, 1])\n",
      "torch.Size([3, 768, 4, 4, 2])\n",
      "torch.Size([3, 384, 8, 8, 4])\n",
      "torch.Size([3, 192, 16, 16, 8])\n",
      "torch.Size([3, 96, 32, 32, 16])\n",
      "torch.Size([3, 96, 64, 64, 32])\n"
     ]
    },
    {
     "name": "stderr",
     "output_type": "stream",
     "text": [
      "Training (6 / 100 Steps) (loss=0.08650):  22%|▋  | 7/32 [00:57<01:14,  2.97s/it]"
     ]
    },
    {
     "name": "stdout",
     "output_type": "stream",
     "text": [
      "torch.Size([3, 2, 64, 64, 32])\n",
      "torch.Size([3, 1, 64, 64, 32])\n",
      "torch.Size([3, 1, 64, 64, 32])\n",
      "torch.Size([3, 48, 64, 64, 32])\n",
      "torch.Size([3, 96, 64, 64, 32])\n",
      "torch.Size([3, 48, 32, 32, 16])\n",
      "torch.Size([3, 96, 32, 32, 16])\n",
      "torch.Size([3, 96, 16, 16, 8])\n",
      "torch.Size([3, 192, 16, 16, 8])\n",
      "torch.Size([3, 192, 8, 8, 4])\n",
      "torch.Size([3, 384, 8, 8, 4])\n",
      "torch.Size([3, 768, 2, 2, 1])\n",
      "torch.Size([3, 1536, 2, 2, 1])\n",
      "torch.Size([3, 768, 4, 4, 2])\n",
      "torch.Size([3, 384, 8, 8, 4])\n",
      "torch.Size([3, 192, 16, 16, 8])\n",
      "torch.Size([3, 96, 32, 32, 16])\n",
      "torch.Size([3, 96, 64, 64, 32])\n"
     ]
    },
    {
     "name": "stderr",
     "output_type": "stream",
     "text": [
      "Training (7 / 100 Steps) (loss=0.61690):  25%|▊  | 8/32 [00:58<00:56,  2.35s/it]"
     ]
    },
    {
     "name": "stdout",
     "output_type": "stream",
     "text": [
      "torch.Size([3, 2, 64, 64, 32])\n",
      "torch.Size([3, 1, 64, 64, 32])\n",
      "torch.Size([3, 1, 64, 64, 32])\n",
      "torch.Size([3, 48, 64, 64, 32])\n",
      "torch.Size([3, 96, 64, 64, 32])\n",
      "torch.Size([3, 48, 32, 32, 16])\n",
      "torch.Size([3, 96, 32, 32, 16])\n",
      "torch.Size([3, 96, 16, 16, 8])\n",
      "torch.Size([3, 192, 16, 16, 8])\n",
      "torch.Size([3, 192, 8, 8, 4])\n",
      "torch.Size([3, 384, 8, 8, 4])\n",
      "torch.Size([3, 768, 2, 2, 1])\n",
      "torch.Size([3, 1536, 2, 2, 1])\n",
      "torch.Size([3, 768, 4, 4, 2])\n",
      "torch.Size([3, 384, 8, 8, 4])\n",
      "torch.Size([3, 192, 16, 16, 8])\n",
      "torch.Size([3, 96, 32, 32, 16])\n",
      "torch.Size([3, 96, 64, 64, 32])\n"
     ]
    },
    {
     "name": "stderr",
     "output_type": "stream",
     "text": [
      "Training (8 / 100 Steps) (loss=0.11997):  28%|▊  | 9/32 [00:59<00:44,  1.94s/it]"
     ]
    },
    {
     "name": "stdout",
     "output_type": "stream",
     "text": [
      "torch.Size([3, 2, 64, 64, 32])\n",
      "torch.Size([3, 1, 64, 64, 32])\n",
      "torch.Size([3, 1, 64, 64, 32])\n",
      "torch.Size([3, 48, 64, 64, 32])\n",
      "torch.Size([3, 96, 64, 64, 32])\n",
      "torch.Size([3, 48, 32, 32, 16])\n",
      "torch.Size([3, 96, 32, 32, 16])\n",
      "torch.Size([3, 96, 16, 16, 8])\n",
      "torch.Size([3, 192, 16, 16, 8])\n",
      "torch.Size([3, 192, 8, 8, 4])\n",
      "torch.Size([3, 384, 8, 8, 4])\n",
      "torch.Size([3, 768, 2, 2, 1])\n",
      "torch.Size([3, 1536, 2, 2, 1])\n",
      "torch.Size([3, 768, 4, 4, 2])\n",
      "torch.Size([3, 384, 8, 8, 4])\n",
      "torch.Size([3, 192, 16, 16, 8])\n",
      "torch.Size([3, 96, 32, 32, 16])\n",
      "torch.Size([3, 96, 64, 64, 32])\n"
     ]
    },
    {
     "name": "stderr",
     "output_type": "stream",
     "text": [
      "Training (9 / 100 Steps) (loss=0.23973):  31%|▋ | 10/32 [01:00<00:36,  1.66s/it]"
     ]
    },
    {
     "name": "stdout",
     "output_type": "stream",
     "text": [
      "torch.Size([3, 2, 64, 64, 32])\n",
      "torch.Size([3, 1, 64, 64, 32])\n",
      "torch.Size([3, 1, 64, 64, 32])\n",
      "torch.Size([3, 48, 64, 64, 32])\n",
      "torch.Size([3, 96, 64, 64, 32])\n",
      "torch.Size([3, 48, 32, 32, 16])\n",
      "torch.Size([3, 96, 32, 32, 16])\n",
      "torch.Size([3, 96, 16, 16, 8])\n",
      "torch.Size([3, 192, 16, 16, 8])\n",
      "torch.Size([3, 192, 8, 8, 4])\n",
      "torch.Size([3, 384, 8, 8, 4])\n",
      "torch.Size([3, 768, 2, 2, 1])\n",
      "torch.Size([3, 1536, 2, 2, 1])\n",
      "torch.Size([3, 768, 4, 4, 2])\n",
      "torch.Size([3, 384, 8, 8, 4])\n",
      "torch.Size([3, 192, 16, 16, 8])\n",
      "torch.Size([3, 96, 32, 32, 16])\n",
      "torch.Size([3, 96, 64, 64, 32])\n"
     ]
    },
    {
     "name": "stderr",
     "output_type": "stream",
     "text": [
      "Training (10 / 100 Steps) (loss=0.03744):  31%|▎| 10/32 [01:01<00:36,  1.66s/it]\n",
      "Validate (X / X Steps) (dice=X.X):   0%|                  | 0/8 [00:00<?, ?it/s]\u001b[A"
     ]
    },
    {
     "name": "stdout",
     "output_type": "stream",
     "text": [
      "torch.Size([3, 2, 64, 64, 32])\n",
      "torch.Size([3, 1, 64, 64, 32])\n",
      "torch.Size([3, 1, 64, 64, 32])\n",
      "torch.Size([3, 48, 64, 64, 32])\n",
      "torch.Size([3, 96, 64, 64, 32])\n",
      "torch.Size([3, 48, 32, 32, 16])\n",
      "torch.Size([3, 96, 32, 32, 16])\n",
      "torch.Size([3, 96, 16, 16, 8])\n",
      "torch.Size([3, 192, 16, 16, 8])\n",
      "torch.Size([3, 192, 8, 8, 4])\n",
      "torch.Size([3, 384, 8, 8, 4])\n",
      "torch.Size([3, 768, 2, 2, 1])\n",
      "torch.Size([3, 1536, 2, 2, 1])\n",
      "torch.Size([3, 768, 4, 4, 2])\n",
      "torch.Size([3, 384, 8, 8, 4])\n",
      "torch.Size([3, 192, 16, 16, 8])\n",
      "torch.Size([3, 96, 32, 32, 16])\n",
      "torch.Size([3, 96, 64, 64, 32])\n"
     ]
    },
    {
     "data": {
      "image/png": "[encoded data removed]",
      "text/plain": [
       "<Figure size 1638.4x1228.8 with 4 Axes>"
      ]
     },
     "metadata": {},
     "output_type": "display_data"
    },
    {
     "name": "stderr",
     "output_type": "stream",
     "text": [
      "\n",
      "Validate (0 / 10 Steps) (dice=0.85261):   0%|             | 0/8 [00:00<?, ?it/s]\u001b[A\n",
      "Validate (0 / 10 Steps) (dice=0.85261):  12%|▋    | 1/8 [00:00<00:03,  2.04it/s]\u001b[A"
     ]
    },
    {
     "name": "stdout",
     "output_type": "stream",
     "text": [
      "torch.Size([3, 2, 64, 64, 32])\n",
      "torch.Size([3, 1, 64, 64, 32])\n",
      "torch.Size([3, 1, 64, 64, 32])\n",
      "torch.Size([3, 48, 64, 64, 32])\n",
      "torch.Size([3, 96, 64, 64, 32])\n",
      "torch.Size([3, 48, 32, 32, 16])\n",
      "torch.Size([3, 96, 32, 32, 16])\n",
      "torch.Size([3, 96, 16, 16, 8])\n",
      "torch.Size([3, 192, 16, 16, 8])\n",
      "torch.Size([3, 192, 8, 8, 4])\n",
      "torch.Size([3, 384, 8, 8, 4])\n",
      "torch.Size([3, 768, 2, 2, 1])\n",
      "torch.Size([3, 1536, 2, 2, 1])\n",
      "torch.Size([3, 768, 4, 4, 2])\n",
      "torch.Size([3, 384, 8, 8, 4])\n",
      "torch.Size([3, 192, 16, 16, 8])\n",
      "torch.Size([3, 96, 32, 32, 16])\n",
      "torch.Size([3, 96, 64, 64, 32])\n"
     ]
    },
    {
     "name": "stderr",
     "output_type": "stream",
     "text": [
      "\n",
      "Validate (0 / 10 Steps) (dice=0.88210):  12%|▋    | 1/8 [00:00<00:03,  2.04it/s]\u001b[A\n",
      "Validate (0 / 10 Steps) (dice=0.88210):  25%|█▎   | 2/8 [00:00<00:02,  2.46it/s]\u001b[A"
     ]
    },
    {
     "name": "stdout",
     "output_type": "stream",
     "text": [
      "torch.Size([3, 2, 64, 64, 32])\n",
      "torch.Size([3, 1, 64, 64, 32])\n",
      "torch.Size([3, 1, 64, 64, 32])\n",
      "torch.Size([3, 48, 64, 64, 32])\n",
      "torch.Size([3, 96, 64, 64, 32])\n",
      "torch.Size([3, 48, 32, 32, 16])\n",
      "torch.Size([3, 96, 32, 32, 16])\n",
      "torch.Size([3, 96, 16, 16, 8])\n",
      "torch.Size([3, 192, 16, 16, 8])\n",
      "torch.Size([3, 192, 8, 8, 4])\n",
      "torch.Size([3, 384, 8, 8, 4])\n",
      "torch.Size([3, 768, 2, 2, 1])\n",
      "torch.Size([3, 1536, 2, 2, 1])\n",
      "torch.Size([3, 768, 4, 4, 2])\n",
      "torch.Size([3, 384, 8, 8, 4])\n",
      "torch.Size([3, 192, 16, 16, 8])\n",
      "torch.Size([3, 96, 32, 32, 16])\n",
      "torch.Size([3, 96, 64, 64, 32])\n"
     ]
    },
    {
     "name": "stderr",
     "output_type": "stream",
     "text": [
      "\n",
      "Validate (0 / 10 Steps) (dice=0.88089):  25%|█▎   | 2/8 [00:01<00:02,  2.46it/s]\u001b[A\n",
      "Validate (0 / 10 Steps) (dice=0.88089):  38%|█▉   | 3/8 [00:01<00:01,  2.65it/s]\u001b[A"
     ]
    },
    {
     "name": "stdout",
     "output_type": "stream",
     "text": [
      "torch.Size([3, 2, 64, 64, 32])\n",
      "torch.Size([3, 1, 64, 64, 32])\n",
      "torch.Size([3, 1, 64, 64, 32])\n",
      "torch.Size([3, 48, 64, 64, 32])\n",
      "torch.Size([3, 96, 64, 64, 32])\n",
      "torch.Size([3, 48, 32, 32, 16])\n",
      "torch.Size([3, 96, 32, 32, 16])\n",
      "torch.Size([3, 96, 16, 16, 8])\n",
      "torch.Size([3, 192, 16, 16, 8])\n",
      "torch.Size([3, 192, 8, 8, 4])\n",
      "torch.Size([3, 384, 8, 8, 4])\n",
      "torch.Size([3, 768, 2, 2, 1])\n",
      "torch.Size([3, 1536, 2, 2, 1])\n",
      "torch.Size([3, 768, 4, 4, 2])\n",
      "torch.Size([3, 384, 8, 8, 4])\n",
      "torch.Size([3, 192, 16, 16, 8])\n",
      "torch.Size([3, 96, 32, 32, 16])\n",
      "torch.Size([3, 96, 64, 64, 32])\n"
     ]
    },
    {
     "name": "stderr",
     "output_type": "stream",
     "text": [
      "\n",
      "Validate (0 / 10 Steps) (dice=0.88895):  38%|█▉   | 3/8 [00:01<00:01,  2.65it/s]\u001b[A\n",
      "Validate (0 / 10 Steps) (dice=0.88895):  50%|██▌  | 4/8 [00:01<00:01,  2.76it/s]\u001b[A"
     ]
    },
    {
     "name": "stdout",
     "output_type": "stream",
     "text": [
      "torch.Size([3, 2, 64, 64, 32])\n",
      "torch.Size([3, 1, 64, 64, 32])\n",
      "torch.Size([3, 1, 64, 64, 32])\n",
      "torch.Size([3, 48, 64, 64, 32])\n",
      "torch.Size([3, 96, 64, 64, 32])\n",
      "torch.Size([3, 48, 32, 32, 16])\n",
      "torch.Size([3, 96, 32, 32, 16])\n",
      "torch.Size([3, 96, 16, 16, 8])\n",
      "torch.Size([3, 192, 16, 16, 8])\n",
      "torch.Size([3, 192, 8, 8, 4])\n",
      "torch.Size([3, 384, 8, 8, 4])\n",
      "torch.Size([3, 768, 2, 2, 1])\n",
      "torch.Size([3, 1536, 2, 2, 1])\n",
      "torch.Size([3, 768, 4, 4, 2])\n",
      "torch.Size([3, 384, 8, 8, 4])\n",
      "torch.Size([3, 192, 16, 16, 8])\n",
      "torch.Size([3, 96, 32, 32, 16])\n",
      "torch.Size([3, 96, 64, 64, 32])\n"
     ]
    },
    {
     "name": "stderr",
     "output_type": "stream",
     "text": [
      "\n",
      "Validate (0 / 10 Steps) (dice=0.88493):  50%|██▌  | 4/8 [00:01<00:01,  2.76it/s]\u001b[A\n",
      "Validate (0 / 10 Steps) (dice=0.88493):  62%|███▏ | 5/8 [00:01<00:01,  2.83it/s]\u001b[A"
     ]
    },
    {
     "name": "stdout",
     "output_type": "stream",
     "text": [
      "torch.Size([3, 2, 64, 64, 32])\n",
      "torch.Size([3, 1, 64, 64, 32])\n",
      "torch.Size([3, 1, 64, 64, 32])\n",
      "torch.Size([3, 48, 64, 64, 32])\n",
      "torch.Size([3, 96, 64, 64, 32])\n",
      "torch.Size([3, 48, 32, 32, 16])\n",
      "torch.Size([3, 96, 32, 32, 16])\n",
      "torch.Size([3, 96, 16, 16, 8])\n",
      "torch.Size([3, 192, 16, 16, 8])\n",
      "torch.Size([3, 192, 8, 8, 4])\n",
      "torch.Size([3, 384, 8, 8, 4])\n",
      "torch.Size([3, 768, 2, 2, 1])\n",
      "torch.Size([3, 1536, 2, 2, 1])\n",
      "torch.Size([3, 768, 4, 4, 2])\n",
      "torch.Size([3, 384, 8, 8, 4])\n",
      "torch.Size([3, 192, 16, 16, 8])\n",
      "torch.Size([3, 96, 32, 32, 16])\n",
      "torch.Size([3, 96, 64, 64, 32])\n"
     ]
    },
    {
     "name": "stderr",
     "output_type": "stream",
     "text": [
      "\n",
      "Validate (0 / 10 Steps) (dice=0.88883):  62%|███▏ | 5/8 [00:02<00:01,  2.83it/s]\u001b[A\n",
      "Validate (0 / 10 Steps) (dice=0.88883):  75%|███▊ | 6/8 [00:02<00:00,  2.86it/s]\u001b[A"
     ]
    },
    {
     "name": "stdout",
     "output_type": "stream",
     "text": [
      "torch.Size([3, 2, 64, 64, 32])\n",
      "torch.Size([3, 1, 64, 64, 32])\n",
      "torch.Size([3, 1, 64, 64, 32])\n",
      "torch.Size([3, 48, 64, 64, 32])\n",
      "torch.Size([3, 96, 64, 64, 32])\n",
      "torch.Size([3, 48, 32, 32, 16])\n",
      "torch.Size([3, 96, 32, 32, 16])\n",
      "torch.Size([3, 96, 16, 16, 8])\n",
      "torch.Size([3, 192, 16, 16, 8])\n",
      "torch.Size([3, 192, 8, 8, 4])\n",
      "torch.Size([3, 384, 8, 8, 4])\n",
      "torch.Size([3, 768, 2, 2, 1])\n",
      "torch.Size([3, 1536, 2, 2, 1])\n",
      "torch.Size([3, 768, 4, 4, 2])\n",
      "torch.Size([3, 384, 8, 8, 4])\n",
      "torch.Size([3, 192, 16, 16, 8])\n",
      "torch.Size([3, 96, 32, 32, 16])\n",
      "torch.Size([3, 96, 64, 64, 32])\n"
     ]
    },
    {
     "name": "stderr",
     "output_type": "stream",
     "text": [
      "\n",
      "Validate (0 / 10 Steps) (dice=0.88594):  75%|███▊ | 6/8 [00:02<00:00,  2.86it/s]\u001b[A\n",
      "Validate (0 / 10 Steps) (dice=0.88594):  88%|████▍| 7/8 [00:02<00:00,  2.89it/s]\u001b[A"
     ]
    },
    {
     "name": "stdout",
     "output_type": "stream",
     "text": [
      "torch.Size([3, 2, 64, 64, 32])\n",
      "torch.Size([3, 1, 64, 64, 32])\n",
      "torch.Size([3, 1, 64, 64, 32])\n",
      "torch.Size([3, 48, 64, 64, 32])\n",
      "torch.Size([3, 96, 64, 64, 32])\n",
      "torch.Size([3, 48, 32, 32, 16])\n",
      "torch.Size([3, 96, 32, 32, 16])\n",
      "torch.Size([3, 96, 16, 16, 8])\n",
      "torch.Size([3, 192, 16, 16, 8])\n",
      "torch.Size([3, 192, 8, 8, 4])\n",
      "torch.Size([3, 384, 8, 8, 4])\n",
      "torch.Size([3, 768, 2, 2, 1])\n",
      "torch.Size([3, 1536, 2, 2, 1])\n",
      "torch.Size([3, 768, 4, 4, 2])\n",
      "torch.Size([3, 384, 8, 8, 4])\n",
      "torch.Size([3, 192, 16, 16, 8])\n",
      "torch.Size([3, 96, 32, 32, 16])\n",
      "torch.Size([3, 96, 64, 64, 32])\n"
     ]
    },
    {
     "name": "stderr",
     "output_type": "stream",
     "text": [
      "\n",
      "Validate (0 / 10 Steps) (dice=0.88174):  88%|████▍| 7/8 [00:02<00:00,  2.89it/s]\u001b[A\n",
      "Validate (0 / 10 Steps) (dice=0.88174): 100%|█████| 8/8 [00:02<00:00,  2.78it/s]\u001b[A\n",
      "Training (10 / 100 Steps) (loss=0.03744):  34%|▎| 11/32 [01:04<00:53,  2.53s/it]"
     ]
    },
    {
     "name": "stdout",
     "output_type": "stream",
     "text": [
      "Model Was Saved ! Current Best Avg. Dice: 0.8807482048869133 Current Avg. Dice: 0.8807482048869133\n",
      "torch.Size([3, 2, 64, 64, 32])\n",
      "torch.Size([3, 1, 64, 64, 32])\n",
      "torch.Size([3, 1, 64, 64, 32])\n",
      "torch.Size([3, 48, 64, 64, 32])\n",
      "torch.Size([3, 96, 64, 64, 32])\n",
      "torch.Size([3, 48, 32, 32, 16])\n",
      "torch.Size([3, 96, 32, 32, 16])\n",
      "torch.Size([3, 96, 16, 16, 8])\n",
      "torch.Size([3, 192, 16, 16, 8])\n",
      "torch.Size([3, 192, 8, 8, 4])\n",
      "torch.Size([3, 384, 8, 8, 4])\n",
      "torch.Size([3, 768, 2, 2, 1])\n",
      "torch.Size([3, 1536, 2, 2, 1])\n",
      "torch.Size([3, 768, 4, 4, 2])\n",
      "torch.Size([3, 384, 8, 8, 4])\n",
      "torch.Size([3, 192, 16, 16, 8])\n",
      "torch.Size([3, 96, 32, 32, 16])\n",
      "torch.Size([3, 96, 64, 64, 32])\n"
     ]
    },
    {
     "name": "stderr",
     "output_type": "stream",
     "text": [
      "Training (11 / 100 Steps) (loss=0.06422):  38%|▍| 12/32 [01:05<00:41,  2.08s/it]"
     ]
    },
    {
     "name": "stdout",
     "output_type": "stream",
     "text": [
      "torch.Size([3, 2, 64, 64, 32])\n",
      "torch.Size([3, 1, 64, 64, 32])\n",
      "torch.Size([3, 1, 64, 64, 32])\n",
      "torch.Size([3, 48, 64, 64, 32])\n",
      "torch.Size([3, 96, 64, 64, 32])\n",
      "torch.Size([3, 48, 32, 32, 16])\n",
      "torch.Size([3, 96, 32, 32, 16])\n",
      "torch.Size([3, 96, 16, 16, 8])\n",
      "torch.Size([3, 192, 16, 16, 8])\n",
      "torch.Size([3, 192, 8, 8, 4])\n",
      "torch.Size([3, 384, 8, 8, 4])\n",
      "torch.Size([3, 768, 2, 2, 1])\n",
      "torch.Size([3, 1536, 2, 2, 1])\n",
      "torch.Size([3, 768, 4, 4, 2])\n",
      "torch.Size([3, 384, 8, 8, 4])\n",
      "torch.Size([3, 192, 16, 16, 8])\n",
      "torch.Size([3, 96, 32, 32, 16])\n",
      "torch.Size([3, 96, 64, 64, 32])\n"
     ]
    },
    {
     "name": "stderr",
     "output_type": "stream",
     "text": [
      "Training (12 / 100 Steps) (loss=0.14662):  41%|▍| 13/32 [01:07<00:33,  1.77s/it]"
     ]
    },
    {
     "name": "stdout",
     "output_type": "stream",
     "text": [
      "torch.Size([3, 2, 64, 64, 32])\n",
      "torch.Size([3, 1, 64, 64, 32])\n",
      "torch.Size([3, 1, 64, 64, 32])\n",
      "torch.Size([3, 48, 64, 64, 32])\n",
      "torch.Size([3, 96, 64, 64, 32])\n",
      "torch.Size([3, 48, 32, 32, 16])\n",
      "torch.Size([3, 96, 32, 32, 16])\n",
      "torch.Size([3, 96, 16, 16, 8])\n",
      "torch.Size([3, 192, 16, 16, 8])\n",
      "torch.Size([3, 192, 8, 8, 4])\n",
      "torch.Size([3, 384, 8, 8, 4])\n",
      "torch.Size([3, 768, 2, 2, 1])\n",
      "torch.Size([3, 1536, 2, 2, 1])\n",
      "torch.Size([3, 768, 4, 4, 2])\n",
      "torch.Size([3, 384, 8, 8, 4])\n",
      "torch.Size([3, 192, 16, 16, 8])\n",
      "torch.Size([3, 96, 32, 32, 16])\n",
      "torch.Size([3, 96, 64, 64, 32])\n"
     ]
    },
    {
     "name": "stderr",
     "output_type": "stream",
     "text": [
      "Training (13 / 100 Steps) (loss=0.26911):  44%|▍| 14/32 [01:08<00:27,  1.55s/it]"
     ]
    },
    {
     "name": "stdout",
     "output_type": "stream",
     "text": [
      "torch.Size([3, 2, 64, 64, 32])\n",
      "torch.Size([3, 1, 64, 64, 32])\n",
      "torch.Size([3, 1, 64, 64, 32])\n",
      "torch.Size([3, 48, 64, 64, 32])\n",
      "torch.Size([3, 96, 64, 64, 32])\n",
      "torch.Size([3, 48, 32, 32, 16])\n",
      "torch.Size([3, 96, 32, 32, 16])\n",
      "torch.Size([3, 96, 16, 16, 8])\n",
      "torch.Size([3, 192, 16, 16, 8])\n",
      "torch.Size([3, 192, 8, 8, 4])\n",
      "torch.Size([3, 384, 8, 8, 4])\n",
      "torch.Size([3, 768, 2, 2, 1])\n",
      "torch.Size([3, 1536, 2, 2, 1])\n",
      "torch.Size([3, 768, 4, 4, 2])\n",
      "torch.Size([3, 384, 8, 8, 4])\n",
      "torch.Size([3, 192, 16, 16, 8])\n",
      "torch.Size([3, 96, 32, 32, 16])\n",
      "torch.Size([3, 96, 64, 64, 32])\n"
     ]
    },
    {
     "name": "stderr",
     "output_type": "stream",
     "text": [
      "Training (14 / 100 Steps) (loss=0.24313):  47%|▍| 15/32 [01:09<00:23,  1.40s/it]"
     ]
    },
    {
     "name": "stdout",
     "output_type": "stream",
     "text": [
      "torch.Size([3, 2, 64, 64, 32])\n",
      "torch.Size([3, 1, 64, 64, 32])\n",
      "torch.Size([3, 1, 64, 64, 32])\n",
      "torch.Size([3, 48, 64, 64, 32])\n",
      "torch.Size([3, 96, 64, 64, 32])\n",
      "torch.Size([3, 48, 32, 32, 16])\n",
      "torch.Size([3, 96, 32, 32, 16])\n",
      "torch.Size([3, 96, 16, 16, 8])\n",
      "torch.Size([3, 192, 16, 16, 8])\n",
      "torch.Size([3, 192, 8, 8, 4])\n",
      "torch.Size([3, 384, 8, 8, 4])\n",
      "torch.Size([3, 768, 2, 2, 1])\n",
      "torch.Size([3, 1536, 2, 2, 1])\n",
      "torch.Size([3, 768, 4, 4, 2])\n",
      "torch.Size([3, 384, 8, 8, 4])\n",
      "torch.Size([3, 192, 16, 16, 8])\n",
      "torch.Size([3, 96, 32, 32, 16])\n",
      "torch.Size([3, 96, 64, 64, 32])\n"
     ]
    },
    {
     "name": "stderr",
     "output_type": "stream",
     "text": [
      "Training (15 / 100 Steps) (loss=0.07751):  50%|▌| 16/32 [01:10<00:20,  1.29s/it]"
     ]
    },
    {
     "name": "stdout",
     "output_type": "stream",
     "text": [
      "torch.Size([3, 2, 64, 64, 32])\n",
      "torch.Size([3, 1, 64, 64, 32])\n",
      "torch.Size([3, 1, 64, 64, 32])\n",
      "torch.Size([3, 48, 64, 64, 32])\n",
      "torch.Size([3, 96, 64, 64, 32])\n",
      "torch.Size([3, 48, 32, 32, 16])\n",
      "torch.Size([3, 96, 32, 32, 16])\n",
      "torch.Size([3, 96, 16, 16, 8])\n",
      "torch.Size([3, 192, 16, 16, 8])\n",
      "torch.Size([3, 192, 8, 8, 4])\n",
      "torch.Size([3, 384, 8, 8, 4])\n",
      "torch.Size([3, 768, 2, 2, 1])\n",
      "torch.Size([3, 1536, 2, 2, 1])\n",
      "torch.Size([3, 768, 4, 4, 2])\n",
      "torch.Size([3, 384, 8, 8, 4])\n",
      "torch.Size([3, 192, 16, 16, 8])\n",
      "torch.Size([3, 96, 32, 32, 16])\n",
      "torch.Size([3, 96, 64, 64, 32])\n"
     ]
    },
    {
     "name": "stderr",
     "output_type": "stream",
     "text": [
      "Training (16 / 100 Steps) (loss=0.10928):  53%|▌| 17/32 [01:11<00:18,  1.22s/it]"
     ]
    },
    {
     "name": "stdout",
     "output_type": "stream",
     "text": [
      "torch.Size([3, 2, 64, 64, 32])\n",
      "torch.Size([3, 1, 64, 64, 32])\n",
      "torch.Size([3, 1, 64, 64, 32])\n",
      "torch.Size([3, 48, 64, 64, 32])\n",
      "torch.Size([3, 96, 64, 64, 32])\n",
      "torch.Size([3, 48, 32, 32, 16])\n",
      "torch.Size([3, 96, 32, 32, 16])\n",
      "torch.Size([3, 96, 16, 16, 8])\n",
      "torch.Size([3, 192, 16, 16, 8])\n",
      "torch.Size([3, 192, 8, 8, 4])\n",
      "torch.Size([3, 384, 8, 8, 4])\n",
      "torch.Size([3, 768, 2, 2, 1])\n",
      "torch.Size([3, 1536, 2, 2, 1])\n",
      "torch.Size([3, 768, 4, 4, 2])\n",
      "torch.Size([3, 384, 8, 8, 4])\n",
      "torch.Size([3, 192, 16, 16, 8])\n",
      "torch.Size([3, 96, 32, 32, 16])\n",
      "torch.Size([3, 96, 64, 64, 32])\n"
     ]
    },
    {
     "name": "stderr",
     "output_type": "stream",
     "text": [
      "Training (17 / 100 Steps) (loss=0.05424):  56%|▌| 18/32 [01:12<00:16,  1.17s/it]"
     ]
    },
    {
     "name": "stdout",
     "output_type": "stream",
     "text": [
      "torch.Size([3, 2, 64, 64, 32])\n",
      "torch.Size([3, 1, 64, 64, 32])\n",
      "torch.Size([3, 1, 64, 64, 32])\n",
      "torch.Size([3, 48, 64, 64, 32])\n",
      "torch.Size([3, 96, 64, 64, 32])\n",
      "torch.Size([3, 48, 32, 32, 16])\n",
      "torch.Size([3, 96, 32, 32, 16])\n",
      "torch.Size([3, 96, 16, 16, 8])\n",
      "torch.Size([3, 192, 16, 16, 8])\n",
      "torch.Size([3, 192, 8, 8, 4])\n",
      "torch.Size([3, 384, 8, 8, 4])\n",
      "torch.Size([3, 768, 2, 2, 1])\n",
      "torch.Size([3, 1536, 2, 2, 1])\n",
      "torch.Size([3, 768, 4, 4, 2])\n",
      "torch.Size([3, 384, 8, 8, 4])\n",
      "torch.Size([3, 192, 16, 16, 8])\n",
      "torch.Size([3, 96, 32, 32, 16])\n",
      "torch.Size([3, 96, 64, 64, 32])\n"
     ]
    },
    {
     "name": "stderr",
     "output_type": "stream",
     "text": [
      "Training (18 / 100 Steps) (loss=0.05557):  59%|▌| 19/32 [01:13<00:14,  1.13s/it]"
     ]
    },
    {
     "name": "stdout",
     "output_type": "stream",
     "text": [
      "torch.Size([3, 2, 64, 64, 32])\n",
      "torch.Size([3, 1, 64, 64, 32])\n",
      "torch.Size([3, 1, 64, 64, 32])\n",
      "torch.Size([3, 48, 64, 64, 32])\n",
      "torch.Size([3, 96, 64, 64, 32])\n",
      "torch.Size([3, 48, 32, 32, 16])\n",
      "torch.Size([3, 96, 32, 32, 16])\n",
      "torch.Size([3, 96, 16, 16, 8])\n",
      "torch.Size([3, 192, 16, 16, 8])\n",
      "torch.Size([3, 192, 8, 8, 4])\n",
      "torch.Size([3, 384, 8, 8, 4])\n",
      "torch.Size([3, 768, 2, 2, 1])\n",
      "torch.Size([3, 1536, 2, 2, 1])\n",
      "torch.Size([3, 768, 4, 4, 2])\n",
      "torch.Size([3, 384, 8, 8, 4])\n",
      "torch.Size([3, 192, 16, 16, 8])\n",
      "torch.Size([3, 96, 32, 32, 16])\n",
      "torch.Size([3, 96, 64, 64, 32])\n"
     ]
    },
    {
     "name": "stderr",
     "output_type": "stream",
     "text": [
      "Training (19 / 100 Steps) (loss=0.25362):  62%|▋| 20/32 [01:14<00:13,  1.11s/it]"
     ]
    },
    {
     "name": "stdout",
     "output_type": "stream",
     "text": [
      "torch.Size([3, 2, 64, 64, 32])\n",
      "torch.Size([3, 1, 64, 64, 32])\n",
      "torch.Size([3, 1, 64, 64, 32])\n",
      "torch.Size([3, 48, 64, 64, 32])\n",
      "torch.Size([3, 96, 64, 64, 32])\n",
      "torch.Size([3, 48, 32, 32, 16])\n",
      "torch.Size([3, 96, 32, 32, 16])\n",
      "torch.Size([3, 96, 16, 16, 8])\n",
      "torch.Size([3, 192, 16, 16, 8])\n",
      "torch.Size([3, 192, 8, 8, 4])\n",
      "torch.Size([3, 384, 8, 8, 4])\n",
      "torch.Size([3, 768, 2, 2, 1])\n",
      "torch.Size([3, 1536, 2, 2, 1])\n",
      "torch.Size([3, 768, 4, 4, 2])\n",
      "torch.Size([3, 384, 8, 8, 4])\n",
      "torch.Size([3, 192, 16, 16, 8])\n",
      "torch.Size([3, 96, 32, 32, 16])\n",
      "torch.Size([3, 96, 64, 64, 32])\n"
     ]
    },
    {
     "name": "stderr",
     "output_type": "stream",
     "text": [
      "Training (20 / 100 Steps) (loss=0.07772):  62%|▋| 20/32 [01:15<00:13,  1.11s/it]\n",
      "Validate (X / X Steps) (dice=X.X):   0%|                  | 0/8 [00:00<?, ?it/s]\u001b[A"
     ]
    },
    {
     "name": "stdout",
     "output_type": "stream",
     "text": [
      "torch.Size([3, 2, 64, 64, 32])\n",
      "torch.Size([3, 1, 64, 64, 32])\n",
      "torch.Size([3, 1, 64, 64, 32])\n",
      "torch.Size([3, 48, 64, 64, 32])\n",
      "torch.Size([3, 96, 64, 64, 32])\n",
      "torch.Size([3, 48, 32, 32, 16])\n",
      "torch.Size([3, 96, 32, 32, 16])\n",
      "torch.Size([3, 96, 16, 16, 8])\n",
      "torch.Size([3, 192, 16, 16, 8])\n",
      "torch.Size([3, 192, 8, 8, 4])\n",
      "torch.Size([3, 384, 8, 8, 4])\n",
      "torch.Size([3, 768, 2, 2, 1])\n",
      "torch.Size([3, 1536, 2, 2, 1])\n",
      "torch.Size([3, 768, 4, 4, 2])\n",
      "torch.Size([3, 384, 8, 8, 4])\n",
      "torch.Size([3, 192, 16, 16, 8])\n",
      "torch.Size([3, 96, 32, 32, 16])\n",
      "torch.Size([3, 96, 64, 64, 32])\n"
     ]
    },
    {
     "data": {
      "image/png": "[encoded data removed]",
      "text/plain": [
       "<Figure size 1638.4x1228.8 with 4 Axes>"
      ]
     },
     "metadata": {},
     "output_type": "display_data"
    },
    {
     "name": "stderr",
     "output_type": "stream",
     "text": [
      "\n",
      "Validate (0 / 10 Steps) (dice=0.90929):   0%|             | 0/8 [00:00<?, ?it/s]\u001b[A\n",
      "Validate (0 / 10 Steps) (dice=0.90929):  12%|▋    | 1/8 [00:00<00:03,  2.00it/s]\u001b[A"
     ]
    },
    {
     "name": "stdout",
     "output_type": "stream",
     "text": [
      "torch.Size([3, 2, 64, 64, 32])\n",
      "torch.Size([3, 1, 64, 64, 32])\n",
      "torch.Size([3, 1, 64, 64, 32])\n",
      "torch.Size([3, 48, 64, 64, 32])\n",
      "torch.Size([3, 96, 64, 64, 32])\n",
      "torch.Size([3, 48, 32, 32, 16])\n",
      "torch.Size([3, 96, 32, 32, 16])\n",
      "torch.Size([3, 96, 16, 16, 8])\n",
      "torch.Size([3, 192, 16, 16, 8])\n",
      "torch.Size([3, 192, 8, 8, 4])\n",
      "torch.Size([3, 384, 8, 8, 4])\n",
      "torch.Size([3, 768, 2, 2, 1])\n",
      "torch.Size([3, 1536, 2, 2, 1])\n",
      "torch.Size([3, 768, 4, 4, 2])\n",
      "torch.Size([3, 384, 8, 8, 4])\n",
      "torch.Size([3, 192, 16, 16, 8])\n",
      "torch.Size([3, 96, 32, 32, 16])\n",
      "torch.Size([3, 96, 64, 64, 32])\n"
     ]
    },
    {
     "name": "stderr",
     "output_type": "stream",
     "text": [
      "\n",
      "Validate (0 / 10 Steps) (dice=0.91385):  12%|▋    | 1/8 [00:00<00:03,  2.00it/s]\u001b[A\n",
      "Validate (0 / 10 Steps) (dice=0.91385):  25%|█▎   | 2/8 [00:00<00:02,  2.44it/s]\u001b[A"
     ]
    },
    {
     "name": "stdout",
     "output_type": "stream",
     "text": [
      "torch.Size([3, 2, 64, 64, 32])\n",
      "torch.Size([3, 1, 64, 64, 32])\n",
      "torch.Size([3, 1, 64, 64, 32])\n",
      "torch.Size([3, 48, 64, 64, 32])\n",
      "torch.Size([3, 96, 64, 64, 32])\n",
      "torch.Size([3, 48, 32, 32, 16])\n",
      "torch.Size([3, 96, 32, 32, 16])\n",
      "torch.Size([3, 96, 16, 16, 8])\n",
      "torch.Size([3, 192, 16, 16, 8])\n",
      "torch.Size([3, 192, 8, 8, 4])\n",
      "torch.Size([3, 384, 8, 8, 4])\n",
      "torch.Size([3, 768, 2, 2, 1])\n",
      "torch.Size([3, 1536, 2, 2, 1])\n",
      "torch.Size([3, 768, 4, 4, 2])\n",
      "torch.Size([3, 384, 8, 8, 4])\n",
      "torch.Size([3, 192, 16, 16, 8])\n",
      "torch.Size([3, 96, 32, 32, 16])\n",
      "torch.Size([3, 96, 64, 64, 32])\n"
     ]
    },
    {
     "name": "stderr",
     "output_type": "stream",
     "text": [
      "\n",
      "Validate (0 / 10 Steps) (dice=0.91293):  25%|█▎   | 2/8 [00:01<00:02,  2.44it/s]\u001b[A\n",
      "Validate (0 / 10 Steps) (dice=0.91293):  38%|█▉   | 3/8 [00:01<00:01,  2.66it/s]\u001b[A"
     ]
    },
    {
     "name": "stdout",
     "output_type": "stream",
     "text": [
      "torch.Size([3, 2, 64, 64, 32])\n",
      "torch.Size([3, 1, 64, 64, 32])\n",
      "torch.Size([3, 1, 64, 64, 32])\n",
      "torch.Size([3, 48, 64, 64, 32])\n",
      "torch.Size([3, 96, 64, 64, 32])\n",
      "torch.Size([3, 48, 32, 32, 16])\n",
      "torch.Size([3, 96, 32, 32, 16])\n",
      "torch.Size([3, 96, 16, 16, 8])\n",
      "torch.Size([3, 192, 16, 16, 8])\n",
      "torch.Size([3, 192, 8, 8, 4])\n",
      "torch.Size([3, 384, 8, 8, 4])\n",
      "torch.Size([3, 768, 2, 2, 1])\n",
      "torch.Size([3, 1536, 2, 2, 1])\n",
      "torch.Size([3, 768, 4, 4, 2])\n",
      "torch.Size([3, 384, 8, 8, 4])\n",
      "torch.Size([3, 192, 16, 16, 8])\n",
      "torch.Size([3, 96, 32, 32, 16])\n",
      "torch.Size([3, 96, 64, 64, 32])\n"
     ]
    },
    {
     "name": "stderr",
     "output_type": "stream",
     "text": [
      "\n",
      "Validate (0 / 10 Steps) (dice=0.91359):  38%|█▉   | 3/8 [00:01<00:01,  2.66it/s]\u001b[A\n",
      "Validate (0 / 10 Steps) (dice=0.91359):  50%|██▌  | 4/8 [00:01<00:01,  2.76it/s]\u001b[A"
     ]
    },
    {
     "name": "stdout",
     "output_type": "stream",
     "text": [
      "torch.Size([3, 2, 64, 64, 32])\n",
      "torch.Size([3, 1, 64, 64, 32])\n",
      "torch.Size([3, 1, 64, 64, 32])\n",
      "torch.Size([3, 48, 64, 64, 32])\n",
      "torch.Size([3, 96, 64, 64, 32])\n",
      "torch.Size([3, 48, 32, 32, 16])\n",
      "torch.Size([3, 96, 32, 32, 16])\n",
      "torch.Size([3, 96, 16, 16, 8])\n",
      "torch.Size([3, 192, 16, 16, 8])\n",
      "torch.Size([3, 192, 8, 8, 4])\n",
      "torch.Size([3, 384, 8, 8, 4])\n",
      "torch.Size([3, 768, 2, 2, 1])\n",
      "torch.Size([3, 1536, 2, 2, 1])\n",
      "torch.Size([3, 768, 4, 4, 2])\n",
      "torch.Size([3, 384, 8, 8, 4])\n",
      "torch.Size([3, 192, 16, 16, 8])\n",
      "torch.Size([3, 96, 32, 32, 16])\n",
      "torch.Size([3, 96, 64, 64, 32])\n"
     ]
    },
    {
     "name": "stderr",
     "output_type": "stream",
     "text": [
      "\n",
      "Validate (0 / 10 Steps) (dice=0.91673):  50%|██▌  | 4/8 [00:01<00:01,  2.76it/s]\u001b[A\n",
      "Validate (0 / 10 Steps) (dice=0.91673):  62%|███▏ | 5/8 [00:01<00:01,  2.78it/s]\u001b[A"
     ]
    },
    {
     "name": "stdout",
     "output_type": "stream",
     "text": [
      "torch.Size([3, 2, 64, 64, 32])\n",
      "torch.Size([3, 1, 64, 64, 32])\n",
      "torch.Size([3, 1, 64, 64, 32])\n",
      "torch.Size([3, 48, 64, 64, 32])\n",
      "torch.Size([3, 96, 64, 64, 32])\n",
      "torch.Size([3, 48, 32, 32, 16])\n",
      "torch.Size([3, 96, 32, 32, 16])\n",
      "torch.Size([3, 96, 16, 16, 8])\n",
      "torch.Size([3, 192, 16, 16, 8])\n",
      "torch.Size([3, 192, 8, 8, 4])\n",
      "torch.Size([3, 384, 8, 8, 4])\n",
      "torch.Size([3, 768, 2, 2, 1])\n",
      "torch.Size([3, 1536, 2, 2, 1])\n",
      "torch.Size([3, 768, 4, 4, 2])\n",
      "torch.Size([3, 384, 8, 8, 4])\n",
      "torch.Size([3, 192, 16, 16, 8])\n",
      "torch.Size([3, 96, 32, 32, 16])\n",
      "torch.Size([3, 96, 64, 64, 32])\n"
     ]
    },
    {
     "name": "stderr",
     "output_type": "stream",
     "text": [
      "\n",
      "Validate (0 / 10 Steps) (dice=0.91681):  62%|███▏ | 5/8 [00:02<00:01,  2.78it/s]\u001b[A\n",
      "Validate (0 / 10 Steps) (dice=0.91681):  75%|███▊ | 6/8 [00:02<00:00,  2.83it/s]\u001b[A"
     ]
    },
    {
     "name": "stdout",
     "output_type": "stream",
     "text": [
      "torch.Size([3, 2, 64, 64, 32])\n",
      "torch.Size([3, 1, 64, 64, 32])\n",
      "torch.Size([3, 1, 64, 64, 32])\n",
      "torch.Size([3, 48, 64, 64, 32])\n",
      "torch.Size([3, 96, 64, 64, 32])\n",
      "torch.Size([3, 48, 32, 32, 16])\n",
      "torch.Size([3, 96, 32, 32, 16])\n",
      "torch.Size([3, 96, 16, 16, 8])\n",
      "torch.Size([3, 192, 16, 16, 8])\n",
      "torch.Size([3, 192, 8, 8, 4])\n",
      "torch.Size([3, 384, 8, 8, 4])\n",
      "torch.Size([3, 768, 2, 2, 1])\n",
      "torch.Size([3, 1536, 2, 2, 1])\n",
      "torch.Size([3, 768, 4, 4, 2])\n",
      "torch.Size([3, 384, 8, 8, 4])\n",
      "torch.Size([3, 192, 16, 16, 8])\n",
      "torch.Size([3, 96, 32, 32, 16])\n",
      "torch.Size([3, 96, 64, 64, 32])\n"
     ]
    },
    {
     "name": "stderr",
     "output_type": "stream",
     "text": [
      "\n",
      "Validate (0 / 10 Steps) (dice=0.91472):  75%|███▊ | 6/8 [00:02<00:00,  2.83it/s]\u001b[A\n",
      "Validate (0 / 10 Steps) (dice=0.91472):  88%|████▍| 7/8 [00:02<00:00,  2.86it/s]\u001b[A"
     ]
    },
    {
     "name": "stdout",
     "output_type": "stream",
     "text": [
      "torch.Size([3, 2, 64, 64, 32])\n",
      "torch.Size([3, 1, 64, 64, 32])\n",
      "torch.Size([3, 1, 64, 64, 32])\n",
      "torch.Size([3, 48, 64, 64, 32])\n",
      "torch.Size([3, 96, 64, 64, 32])\n",
      "torch.Size([3, 48, 32, 32, 16])\n",
      "torch.Size([3, 96, 32, 32, 16])\n",
      "torch.Size([3, 96, 16, 16, 8])\n",
      "torch.Size([3, 192, 16, 16, 8])\n",
      "torch.Size([3, 192, 8, 8, 4])\n",
      "torch.Size([3, 384, 8, 8, 4])\n",
      "torch.Size([3, 768, 2, 2, 1])\n",
      "torch.Size([3, 1536, 2, 2, 1])\n",
      "torch.Size([3, 768, 4, 4, 2])\n",
      "torch.Size([3, 384, 8, 8, 4])\n",
      "torch.Size([3, 192, 16, 16, 8])\n",
      "torch.Size([3, 96, 32, 32, 16])\n",
      "torch.Size([3, 96, 64, 64, 32])\n"
     ]
    },
    {
     "name": "stderr",
     "output_type": "stream",
     "text": [
      "\n",
      "Validate (0 / 10 Steps) (dice=0.91593):  88%|████▍| 7/8 [00:02<00:00,  2.86it/s]\u001b[A\n",
      "Validate (0 / 10 Steps) (dice=0.91593): 100%|█████| 8/8 [00:02<00:00,  2.75it/s]\u001b[A\n",
      "Training (20 / 100 Steps) (loss=0.07772):  66%|▋| 21/32 [01:18<00:23,  2.13s/it]"
     ]
    },
    {
     "name": "stdout",
     "output_type": "stream",
     "text": [
      "Model Was Saved ! Current Best Avg. Dice: 0.9142308756709099 Current Avg. Dice: 0.9142308756709099\n",
      "torch.Size([3, 2, 64, 64, 32])\n",
      "torch.Size([3, 1, 64, 64, 32])\n",
      "torch.Size([3, 1, 64, 64, 32])\n",
      "torch.Size([3, 48, 64, 64, 32])\n",
      "torch.Size([3, 96, 64, 64, 32])\n",
      "torch.Size([3, 48, 32, 32, 16])\n",
      "torch.Size([3, 96, 32, 32, 16])\n",
      "torch.Size([3, 96, 16, 16, 8])\n",
      "torch.Size([3, 192, 16, 16, 8])\n",
      "torch.Size([3, 192, 8, 8, 4])\n",
      "torch.Size([3, 384, 8, 8, 4])\n",
      "torch.Size([3, 768, 2, 2, 1])\n",
      "torch.Size([3, 1536, 2, 2, 1])\n",
      "torch.Size([3, 768, 4, 4, 2])\n",
      "torch.Size([3, 384, 8, 8, 4])\n",
      "torch.Size([3, 192, 16, 16, 8])\n",
      "torch.Size([3, 96, 32, 32, 16])\n",
      "torch.Size([3, 96, 64, 64, 32])\n"
     ]
    },
    {
     "name": "stderr",
     "output_type": "stream",
     "text": [
      "Training (21 / 100 Steps) (loss=0.05991):  69%|▋| 22/32 [01:19<00:18,  1.80s/it]"
     ]
    },
    {
     "name": "stdout",
     "output_type": "stream",
     "text": [
      "torch.Size([3, 2, 64, 64, 32])\n",
      "torch.Size([3, 1, 64, 64, 32])\n",
      "torch.Size([3, 1, 64, 64, 32])\n",
      "torch.Size([3, 48, 64, 64, 32])\n",
      "torch.Size([3, 96, 64, 64, 32])\n",
      "torch.Size([3, 48, 32, 32, 16])\n",
      "torch.Size([3, 96, 32, 32, 16])\n",
      "torch.Size([3, 96, 16, 16, 8])\n",
      "torch.Size([3, 192, 16, 16, 8])\n",
      "torch.Size([3, 192, 8, 8, 4])\n",
      "torch.Size([3, 384, 8, 8, 4])\n",
      "torch.Size([3, 768, 2, 2, 1])\n",
      "torch.Size([3, 1536, 2, 2, 1])\n",
      "torch.Size([3, 768, 4, 4, 2])\n",
      "torch.Size([3, 384, 8, 8, 4])\n",
      "torch.Size([3, 192, 16, 16, 8])\n",
      "torch.Size([3, 96, 32, 32, 16])\n",
      "torch.Size([3, 96, 64, 64, 32])\n"
     ]
    },
    {
     "name": "stderr",
     "output_type": "stream",
     "text": [
      "Training (22 / 100 Steps) (loss=0.07924):  72%|▋| 23/32 [01:20<00:14,  1.58s/it]"
     ]
    },
    {
     "name": "stdout",
     "output_type": "stream",
     "text": [
      "torch.Size([3, 2, 64, 64, 32])\n",
      "torch.Size([3, 1, 64, 64, 32])\n",
      "torch.Size([3, 1, 64, 64, 32])\n",
      "torch.Size([3, 48, 64, 64, 32])\n",
      "torch.Size([3, 96, 64, 64, 32])\n",
      "torch.Size([3, 48, 32, 32, 16])\n",
      "torch.Size([3, 96, 32, 32, 16])\n",
      "torch.Size([3, 96, 16, 16, 8])\n",
      "torch.Size([3, 192, 16, 16, 8])\n",
      "torch.Size([3, 192, 8, 8, 4])\n",
      "torch.Size([3, 384, 8, 8, 4])\n",
      "torch.Size([3, 768, 2, 2, 1])\n",
      "torch.Size([3, 1536, 2, 2, 1])\n",
      "torch.Size([3, 768, 4, 4, 2])\n",
      "torch.Size([3, 384, 8, 8, 4])\n",
      "torch.Size([3, 192, 16, 16, 8])\n",
      "torch.Size([3, 96, 32, 32, 16])\n",
      "torch.Size([3, 96, 64, 64, 32])\n"
     ]
    },
    {
     "name": "stderr",
     "output_type": "stream",
     "text": [
      "Training (23 / 100 Steps) (loss=0.12027):  75%|▊| 24/32 [01:22<00:11,  1.42s/it]"
     ]
    },
    {
     "name": "stdout",
     "output_type": "stream",
     "text": [
      "torch.Size([3, 2, 64, 64, 32])\n",
      "torch.Size([3, 1, 64, 64, 32])\n",
      "torch.Size([3, 1, 64, 64, 32])\n",
      "torch.Size([3, 48, 64, 64, 32])\n",
      "torch.Size([3, 96, 64, 64, 32])\n",
      "torch.Size([3, 48, 32, 32, 16])\n",
      "torch.Size([3, 96, 32, 32, 16])\n",
      "torch.Size([3, 96, 16, 16, 8])\n",
      "torch.Size([3, 192, 16, 16, 8])\n",
      "torch.Size([3, 192, 8, 8, 4])\n",
      "torch.Size([3, 384, 8, 8, 4])\n",
      "torch.Size([3, 768, 2, 2, 1])\n",
      "torch.Size([3, 1536, 2, 2, 1])\n",
      "torch.Size([3, 768, 4, 4, 2])\n",
      "torch.Size([3, 384, 8, 8, 4])\n",
      "torch.Size([3, 192, 16, 16, 8])\n",
      "torch.Size([3, 96, 32, 32, 16])\n",
      "torch.Size([3, 96, 64, 64, 32])\n"
     ]
    },
    {
     "name": "stderr",
     "output_type": "stream",
     "text": [
      "Training (24 / 100 Steps) (loss=0.18341):  78%|▊| 25/32 [01:23<00:09,  1.30s/it]"
     ]
    },
    {
     "name": "stdout",
     "output_type": "stream",
     "text": [
      "torch.Size([3, 2, 64, 64, 32])\n",
      "torch.Size([3, 1, 64, 64, 32])\n",
      "torch.Size([3, 1, 64, 64, 32])\n",
      "torch.Size([3, 48, 64, 64, 32])\n",
      "torch.Size([3, 96, 64, 64, 32])\n",
      "torch.Size([3, 48, 32, 32, 16])\n",
      "torch.Size([3, 96, 32, 32, 16])\n",
      "torch.Size([3, 96, 16, 16, 8])\n",
      "torch.Size([3, 192, 16, 16, 8])\n",
      "torch.Size([3, 192, 8, 8, 4])\n",
      "torch.Size([3, 384, 8, 8, 4])\n",
      "torch.Size([3, 768, 2, 2, 1])\n",
      "torch.Size([3, 1536, 2, 2, 1])\n",
      "torch.Size([3, 768, 4, 4, 2])\n",
      "torch.Size([3, 384, 8, 8, 4])\n",
      "torch.Size([3, 192, 16, 16, 8])\n",
      "torch.Size([3, 96, 32, 32, 16])\n",
      "torch.Size([3, 96, 64, 64, 32])\n"
     ]
    },
    {
     "name": "stderr",
     "output_type": "stream",
     "text": [
      "Training (25 / 100 Steps) (loss=0.17633):  81%|▊| 26/32 [01:24<00:07,  1.23s/it]"
     ]
    },
    {
     "name": "stdout",
     "output_type": "stream",
     "text": [
      "torch.Size([3, 2, 64, 64, 32])\n",
      "torch.Size([3, 1, 64, 64, 32])\n",
      "torch.Size([3, 1, 64, 64, 32])\n",
      "torch.Size([3, 48, 64, 64, 32])\n",
      "torch.Size([3, 96, 64, 64, 32])\n",
      "torch.Size([3, 48, 32, 32, 16])\n",
      "torch.Size([3, 96, 32, 32, 16])\n",
      "torch.Size([3, 96, 16, 16, 8])\n",
      "torch.Size([3, 192, 16, 16, 8])\n",
      "torch.Size([3, 192, 8, 8, 4])\n",
      "torch.Size([3, 384, 8, 8, 4])\n",
      "torch.Size([3, 768, 2, 2, 1])\n",
      "torch.Size([3, 1536, 2, 2, 1])\n",
      "torch.Size([3, 768, 4, 4, 2])\n",
      "torch.Size([3, 384, 8, 8, 4])\n",
      "torch.Size([3, 192, 16, 16, 8])\n",
      "torch.Size([3, 96, 32, 32, 16])\n",
      "torch.Size([3, 96, 64, 64, 32])\n"
     ]
    },
    {
     "name": "stderr",
     "output_type": "stream",
     "text": [
      "Training (26 / 100 Steps) (loss=0.17216):  84%|▊| 27/32 [01:25<00:05,  1.17s/it]"
     ]
    },
    {
     "name": "stdout",
     "output_type": "stream",
     "text": [
      "torch.Size([3, 2, 64, 64, 32])\n",
      "torch.Size([3, 1, 64, 64, 32])\n",
      "torch.Size([3, 1, 64, 64, 32])\n",
      "torch.Size([3, 48, 64, 64, 32])\n",
      "torch.Size([3, 96, 64, 64, 32])\n",
      "torch.Size([3, 48, 32, 32, 16])\n",
      "torch.Size([3, 96, 32, 32, 16])\n",
      "torch.Size([3, 96, 16, 16, 8])\n",
      "torch.Size([3, 192, 16, 16, 8])\n",
      "torch.Size([3, 192, 8, 8, 4])\n",
      "torch.Size([3, 384, 8, 8, 4])\n",
      "torch.Size([3, 768, 2, 2, 1])\n",
      "torch.Size([3, 1536, 2, 2, 1])\n",
      "torch.Size([3, 768, 4, 4, 2])\n",
      "torch.Size([3, 384, 8, 8, 4])\n",
      "torch.Size([3, 192, 16, 16, 8])\n",
      "torch.Size([3, 96, 32, 32, 16])\n",
      "torch.Size([3, 96, 64, 64, 32])\n"
     ]
    },
    {
     "name": "stderr",
     "output_type": "stream",
     "text": [
      "Training (27 / 100 Steps) (loss=0.10526):  88%|▉| 28/32 [01:26<00:04,  1.14s/it]"
     ]
    },
    {
     "name": "stdout",
     "output_type": "stream",
     "text": [
      "torch.Size([3, 2, 64, 64, 32])\n",
      "torch.Size([3, 1, 64, 64, 32])\n",
      "torch.Size([3, 1, 64, 64, 32])\n",
      "torch.Size([3, 48, 64, 64, 32])\n",
      "torch.Size([3, 96, 64, 64, 32])\n",
      "torch.Size([3, 48, 32, 32, 16])\n",
      "torch.Size([3, 96, 32, 32, 16])\n",
      "torch.Size([3, 96, 16, 16, 8])\n",
      "torch.Size([3, 192, 16, 16, 8])\n",
      "torch.Size([3, 192, 8, 8, 4])\n",
      "torch.Size([3, 384, 8, 8, 4])\n",
      "torch.Size([3, 768, 2, 2, 1])\n",
      "torch.Size([3, 1536, 2, 2, 1])\n",
      "torch.Size([3, 768, 4, 4, 2])\n",
      "torch.Size([3, 384, 8, 8, 4])\n",
      "torch.Size([3, 192, 16, 16, 8])\n",
      "torch.Size([3, 96, 32, 32, 16])\n",
      "torch.Size([3, 96, 64, 64, 32])\n"
     ]
    },
    {
     "name": "stderr",
     "output_type": "stream",
     "text": [
      "Training (28 / 100 Steps) (loss=0.07715):  91%|▉| 29/32 [01:27<00:03,  1.11s/it]"
     ]
    },
    {
     "name": "stdout",
     "output_type": "stream",
     "text": [
      "torch.Size([3, 2, 64, 64, 32])\n",
      "torch.Size([3, 1, 64, 64, 32])\n",
      "torch.Size([3, 1, 64, 64, 32])\n",
      "torch.Size([3, 48, 64, 64, 32])\n",
      "torch.Size([3, 96, 64, 64, 32])\n",
      "torch.Size([3, 48, 32, 32, 16])\n",
      "torch.Size([3, 96, 32, 32, 16])\n",
      "torch.Size([3, 96, 16, 16, 8])\n",
      "torch.Size([3, 192, 16, 16, 8])\n",
      "torch.Size([3, 192, 8, 8, 4])\n",
      "torch.Size([3, 384, 8, 8, 4])\n",
      "torch.Size([3, 768, 2, 2, 1])\n",
      "torch.Size([3, 1536, 2, 2, 1])\n",
      "torch.Size([3, 768, 4, 4, 2])\n",
      "torch.Size([3, 384, 8, 8, 4])\n",
      "torch.Size([3, 192, 16, 16, 8])\n",
      "torch.Size([3, 96, 32, 32, 16])\n",
      "torch.Size([3, 96, 64, 64, 32])\n"
     ]
    },
    {
     "name": "stderr",
     "output_type": "stream",
     "text": [
      "Training (29 / 100 Steps) (loss=0.29242):  94%|▉| 30/32 [01:28<00:02,  1.09s/it]"
     ]
    },
    {
     "name": "stdout",
     "output_type": "stream",
     "text": [
      "torch.Size([3, 2, 64, 64, 32])\n",
      "torch.Size([3, 1, 64, 64, 32])\n",
      "torch.Size([3, 1, 64, 64, 32])\n",
      "torch.Size([3, 48, 64, 64, 32])\n",
      "torch.Size([3, 96, 64, 64, 32])\n",
      "torch.Size([3, 48, 32, 32, 16])\n",
      "torch.Size([3, 96, 32, 32, 16])\n",
      "torch.Size([3, 96, 16, 16, 8])\n",
      "torch.Size([3, 192, 16, 16, 8])\n",
      "torch.Size([3, 192, 8, 8, 4])\n",
      "torch.Size([3, 384, 8, 8, 4])\n",
      "torch.Size([3, 768, 2, 2, 1])\n",
      "torch.Size([3, 1536, 2, 2, 1])\n",
      "torch.Size([3, 768, 4, 4, 2])\n",
      "torch.Size([3, 384, 8, 8, 4])\n",
      "torch.Size([3, 192, 16, 16, 8])\n",
      "torch.Size([3, 96, 32, 32, 16])\n",
      "torch.Size([3, 96, 64, 64, 32])\n"
     ]
    },
    {
     "name": "stderr",
     "output_type": "stream",
     "text": [
      "Training (30 / 100 Steps) (loss=0.05310):  94%|▉| 30/32 [01:29<00:02,  1.09s/it]\n",
      "Validate (X / X Steps) (dice=X.X):   0%|                  | 0/8 [00:00<?, ?it/s]\u001b[A"
     ]
    },
    {
     "name": "stdout",
     "output_type": "stream",
     "text": [
      "torch.Size([3, 2, 64, 64, 32])\n",
      "torch.Size([3, 1, 64, 64, 32])\n",
      "torch.Size([3, 1, 64, 64, 32])\n",
      "torch.Size([3, 48, 64, 64, 32])\n",
      "torch.Size([3, 96, 64, 64, 32])\n",
      "torch.Size([3, 48, 32, 32, 16])\n",
      "torch.Size([3, 96, 32, 32, 16])\n",
      "torch.Size([3, 96, 16, 16, 8])\n",
      "torch.Size([3, 192, 16, 16, 8])\n",
      "torch.Size([3, 192, 8, 8, 4])\n",
      "torch.Size([3, 384, 8, 8, 4])\n",
      "torch.Size([3, 768, 2, 2, 1])\n",
      "torch.Size([3, 1536, 2, 2, 1])\n",
      "torch.Size([3, 768, 4, 4, 2])\n",
      "torch.Size([3, 384, 8, 8, 4])\n",
      "torch.Size([3, 192, 16, 16, 8])\n",
      "torch.Size([3, 96, 32, 32, 16])\n",
      "torch.Size([3, 96, 64, 64, 32])\n"
     ]
    },
    {
     "data": {
      "image/png": "[encoded data removed]",
      "text/plain": [
       "<Figure size 1638.4x1228.8 with 4 Axes>"
      ]
     },
     "metadata": {},
     "output_type": "display_data"
    },
    {
     "name": "stderr",
     "output_type": "stream",
     "text": [
      "\n",
      "Validate (0 / 10 Steps) (dice=0.85413):   0%|             | 0/8 [00:00<?, ?it/s]\u001b[A\n",
      "Validate (0 / 10 Steps) (dice=0.85413):  12%|▋    | 1/8 [00:00<00:03,  1.99it/s]\u001b[A"
     ]
    },
    {
     "name": "stdout",
     "output_type": "stream",
     "text": [
      "torch.Size([3, 2, 64, 64, 32])\n",
      "torch.Size([3, 1, 64, 64, 32])\n",
      "torch.Size([3, 1, 64, 64, 32])\n",
      "torch.Size([3, 48, 64, 64, 32])\n",
      "torch.Size([3, 96, 64, 64, 32])\n",
      "torch.Size([3, 48, 32, 32, 16])\n",
      "torch.Size([3, 96, 32, 32, 16])\n",
      "torch.Size([3, 96, 16, 16, 8])\n",
      "torch.Size([3, 192, 16, 16, 8])\n",
      "torch.Size([3, 192, 8, 8, 4])\n",
      "torch.Size([3, 384, 8, 8, 4])\n",
      "torch.Size([3, 768, 2, 2, 1])\n",
      "torch.Size([3, 1536, 2, 2, 1])\n",
      "torch.Size([3, 768, 4, 4, 2])\n",
      "torch.Size([3, 384, 8, 8, 4])\n",
      "torch.Size([3, 192, 16, 16, 8])\n",
      "torch.Size([3, 96, 32, 32, 16])\n",
      "torch.Size([3, 96, 64, 64, 32])\n"
     ]
    },
    {
     "name": "stderr",
     "output_type": "stream",
     "text": [
      "\n",
      "Validate (0 / 10 Steps) (dice=0.86285):  12%|▋    | 1/8 [00:00<00:03,  1.99it/s]\u001b[A\n",
      "Validate (0 / 10 Steps) (dice=0.86285):  25%|█▎   | 2/8 [00:00<00:02,  2.48it/s]\u001b[A"
     ]
    },
    {
     "name": "stdout",
     "output_type": "stream",
     "text": [
      "torch.Size([3, 2, 64, 64, 32])\n",
      "torch.Size([3, 1, 64, 64, 32])\n",
      "torch.Size([3, 1, 64, 64, 32])\n",
      "torch.Size([3, 48, 64, 64, 32])\n",
      "torch.Size([3, 96, 64, 64, 32])\n",
      "torch.Size([3, 48, 32, 32, 16])\n",
      "torch.Size([3, 96, 32, 32, 16])\n",
      "torch.Size([3, 96, 16, 16, 8])\n",
      "torch.Size([3, 192, 16, 16, 8])\n",
      "torch.Size([3, 192, 8, 8, 4])\n",
      "torch.Size([3, 384, 8, 8, 4])\n",
      "torch.Size([3, 768, 2, 2, 1])\n",
      "torch.Size([3, 1536, 2, 2, 1])\n",
      "torch.Size([3, 768, 4, 4, 2])\n",
      "torch.Size([3, 384, 8, 8, 4])\n",
      "torch.Size([3, 192, 16, 16, 8])\n",
      "torch.Size([3, 96, 32, 32, 16])\n",
      "torch.Size([3, 96, 64, 64, 32])\n"
     ]
    },
    {
     "name": "stderr",
     "output_type": "stream",
     "text": [
      "\n",
      "Validate (0 / 10 Steps) (dice=0.86984):  25%|█▎   | 2/8 [00:01<00:02,  2.48it/s]\u001b[A\n",
      "Validate (0 / 10 Steps) (dice=0.86984):  38%|█▉   | 3/8 [00:01<00:01,  2.65it/s]\u001b[A"
     ]
    },
    {
     "name": "stdout",
     "output_type": "stream",
     "text": [
      "torch.Size([3, 2, 64, 64, 32])\n",
      "torch.Size([3, 1, 64, 64, 32])\n",
      "torch.Size([3, 1, 64, 64, 32])\n",
      "torch.Size([3, 48, 64, 64, 32])\n",
      "torch.Size([3, 96, 64, 64, 32])\n",
      "torch.Size([3, 48, 32, 32, 16])\n",
      "torch.Size([3, 96, 32, 32, 16])\n",
      "torch.Size([3, 96, 16, 16, 8])\n",
      "torch.Size([3, 192, 16, 16, 8])\n",
      "torch.Size([3, 192, 8, 8, 4])\n",
      "torch.Size([3, 384, 8, 8, 4])\n",
      "torch.Size([3, 768, 2, 2, 1])\n",
      "torch.Size([3, 1536, 2, 2, 1])\n",
      "torch.Size([3, 768, 4, 4, 2])\n",
      "torch.Size([3, 384, 8, 8, 4])\n",
      "torch.Size([3, 192, 16, 16, 8])\n",
      "torch.Size([3, 96, 32, 32, 16])\n",
      "torch.Size([3, 96, 64, 64, 32])\n"
     ]
    },
    {
     "name": "stderr",
     "output_type": "stream",
     "text": [
      "\n",
      "Validate (0 / 10 Steps) (dice=0.86646):  38%|█▉   | 3/8 [00:01<00:01,  2.65it/s]\u001b[A\n",
      "Validate (0 / 10 Steps) (dice=0.86646):  50%|██▌  | 4/8 [00:01<00:01,  2.76it/s]\u001b[A"
     ]
    },
    {
     "name": "stdout",
     "output_type": "stream",
     "text": [
      "torch.Size([3, 2, 64, 64, 32])\n",
      "torch.Size([3, 1, 64, 64, 32])\n",
      "torch.Size([3, 1, 64, 64, 32])\n",
      "torch.Size([3, 48, 64, 64, 32])\n",
      "torch.Size([3, 96, 64, 64, 32])\n",
      "torch.Size([3, 48, 32, 32, 16])\n",
      "torch.Size([3, 96, 32, 32, 16])\n",
      "torch.Size([3, 96, 16, 16, 8])\n",
      "torch.Size([3, 192, 16, 16, 8])\n",
      "torch.Size([3, 192, 8, 8, 4])\n",
      "torch.Size([3, 384, 8, 8, 4])\n",
      "torch.Size([3, 768, 2, 2, 1])\n",
      "torch.Size([3, 1536, 2, 2, 1])\n",
      "torch.Size([3, 768, 4, 4, 2])\n",
      "torch.Size([3, 384, 8, 8, 4])\n",
      "torch.Size([3, 192, 16, 16, 8])\n",
      "torch.Size([3, 96, 32, 32, 16])\n",
      "torch.Size([3, 96, 64, 64, 32])\n"
     ]
    },
    {
     "name": "stderr",
     "output_type": "stream",
     "text": [
      "\n",
      "Validate (0 / 10 Steps) (dice=0.86580):  50%|██▌  | 4/8 [00:01<00:01,  2.76it/s]\u001b[A\n",
      "Validate (0 / 10 Steps) (dice=0.86580):  62%|███▏ | 5/8 [00:01<00:01,  2.83it/s]\u001b[A"
     ]
    },
    {
     "name": "stdout",
     "output_type": "stream",
     "text": [
      "torch.Size([3, 2, 64, 64, 32])\n",
      "torch.Size([3, 1, 64, 64, 32])\n",
      "torch.Size([3, 1, 64, 64, 32])\n",
      "torch.Size([3, 48, 64, 64, 32])\n",
      "torch.Size([3, 96, 64, 64, 32])\n",
      "torch.Size([3, 48, 32, 32, 16])\n",
      "torch.Size([3, 96, 32, 32, 16])\n",
      "torch.Size([3, 96, 16, 16, 8])\n",
      "torch.Size([3, 192, 16, 16, 8])\n",
      "torch.Size([3, 192, 8, 8, 4])\n",
      "torch.Size([3, 384, 8, 8, 4])\n",
      "torch.Size([3, 768, 2, 2, 1])\n",
      "torch.Size([3, 1536, 2, 2, 1])\n",
      "torch.Size([3, 768, 4, 4, 2])\n",
      "torch.Size([3, 384, 8, 8, 4])\n",
      "torch.Size([3, 192, 16, 16, 8])\n",
      "torch.Size([3, 96, 32, 32, 16])\n",
      "torch.Size([3, 96, 64, 64, 32])\n"
     ]
    },
    {
     "name": "stderr",
     "output_type": "stream",
     "text": [
      "\n",
      "Validate (0 / 10 Steps) (dice=0.87046):  62%|███▏ | 5/8 [00:02<00:01,  2.83it/s]\u001b[A\n",
      "Validate (0 / 10 Steps) (dice=0.87046):  75%|███▊ | 6/8 [00:02<00:00,  2.85it/s]\u001b[A"
     ]
    },
    {
     "name": "stdout",
     "output_type": "stream",
     "text": [
      "torch.Size([3, 2, 64, 64, 32])\n",
      "torch.Size([3, 1, 64, 64, 32])\n",
      "torch.Size([3, 1, 64, 64, 32])\n",
      "torch.Size([3, 48, 64, 64, 32])\n",
      "torch.Size([3, 96, 64, 64, 32])\n",
      "torch.Size([3, 48, 32, 32, 16])\n",
      "torch.Size([3, 96, 32, 32, 16])\n",
      "torch.Size([3, 96, 16, 16, 8])\n",
      "torch.Size([3, 192, 16, 16, 8])\n",
      "torch.Size([3, 192, 8, 8, 4])\n",
      "torch.Size([3, 384, 8, 8, 4])\n",
      "torch.Size([3, 768, 2, 2, 1])\n",
      "torch.Size([3, 1536, 2, 2, 1])\n",
      "torch.Size([3, 768, 4, 4, 2])\n",
      "torch.Size([3, 384, 8, 8, 4])\n",
      "torch.Size([3, 192, 16, 16, 8])\n",
      "torch.Size([3, 96, 32, 32, 16])\n",
      "torch.Size([3, 96, 64, 64, 32])\n"
     ]
    },
    {
     "name": "stderr",
     "output_type": "stream",
     "text": [
      "\n",
      "Validate (0 / 10 Steps) (dice=0.87557):  75%|███▊ | 6/8 [00:02<00:00,  2.85it/s]\u001b[A\n",
      "Validate (0 / 10 Steps) (dice=0.87557):  88%|████▍| 7/8 [00:02<00:00,  2.89it/s]\u001b[A"
     ]
    },
    {
     "name": "stdout",
     "output_type": "stream",
     "text": [
      "torch.Size([3, 2, 64, 64, 32])\n",
      "torch.Size([3, 1, 64, 64, 32])\n",
      "torch.Size([3, 1, 64, 64, 32])\n",
      "torch.Size([3, 48, 64, 64, 32])\n",
      "torch.Size([3, 96, 64, 64, 32])\n",
      "torch.Size([3, 48, 32, 32, 16])\n",
      "torch.Size([3, 96, 32, 32, 16])\n",
      "torch.Size([3, 96, 16, 16, 8])\n",
      "torch.Size([3, 192, 16, 16, 8])\n",
      "torch.Size([3, 192, 8, 8, 4])\n",
      "torch.Size([3, 384, 8, 8, 4])\n",
      "torch.Size([3, 768, 2, 2, 1])\n",
      "torch.Size([3, 1536, 2, 2, 1])\n",
      "torch.Size([3, 768, 4, 4, 2])\n",
      "torch.Size([3, 384, 8, 8, 4])\n",
      "torch.Size([3, 192, 16, 16, 8])\n",
      "torch.Size([3, 96, 32, 32, 16])\n",
      "torch.Size([3, 96, 64, 64, 32])\n"
     ]
    },
    {
     "name": "stderr",
     "output_type": "stream",
     "text": [
      "\n",
      "Validate (0 / 10 Steps) (dice=0.87226):  88%|████▍| 7/8 [00:02<00:00,  2.89it/s]\u001b[A\n",
      "Validate (0 / 10 Steps) (dice=0.87226): 100%|█████| 8/8 [00:02<00:00,  2.78it/s]\u001b[A\n",
      "Training (30 / 100 Steps) (loss=0.05310):  97%|▉| 31/32 [01:32<00:01,  1.94s/it]"
     ]
    },
    {
     "name": "stdout",
     "output_type": "stream",
     "text": [
      "Model Was Not Saved ! Current Best Avg. Dice: 0.9142308756709099 Current Avg. Dice: 0.867171086370945\n",
      "torch.Size([3, 2, 64, 64, 32])\n",
      "torch.Size([3, 1, 64, 64, 32])\n",
      "torch.Size([3, 1, 64, 64, 32])\n",
      "torch.Size([3, 48, 64, 64, 32])\n",
      "torch.Size([3, 96, 64, 64, 32])\n",
      "torch.Size([3, 48, 32, 32, 16])\n",
      "torch.Size([3, 96, 32, 32, 16])\n",
      "torch.Size([3, 96, 16, 16, 8])\n",
      "torch.Size([3, 192, 16, 16, 8])\n",
      "torch.Size([3, 192, 8, 8, 4])\n",
      "torch.Size([3, 384, 8, 8, 4])\n",
      "torch.Size([3, 768, 2, 2, 1])\n",
      "torch.Size([3, 1536, 2, 2, 1])\n",
      "torch.Size([3, 768, 4, 4, 2])\n",
      "torch.Size([3, 384, 8, 8, 4])\n",
      "torch.Size([3, 192, 16, 16, 8])\n",
      "torch.Size([3, 96, 32, 32, 16])\n",
      "torch.Size([3, 96, 64, 64, 32])\n"
     ]
    },
    {
     "name": "stderr",
     "output_type": "stream",
     "text": [
      "Training (31 / 100 Steps) (loss=0.22978): 100%|█| 32/32 [01:33<00:00,  2.91s/it]\n",
      "Training (X / X Steps) (loss=X.X):   0%|                 | 0/32 [00:00<?, ?it/s]"
     ]
    },
    {
     "name": "stdout",
     "output_type": "stream",
     "text": [
      "torch.Size([3, 2, 64, 64, 32])\n",
      "torch.Size([3, 1, 64, 64, 32])\n",
      "torch.Size([3, 1, 64, 64, 32])\n",
      "torch.Size([3, 48, 64, 64, 32])\n",
      "torch.Size([3, 96, 64, 64, 32])\n",
      "torch.Size([3, 48, 32, 32, 16])\n",
      "torch.Size([3, 96, 32, 32, 16])\n",
      "torch.Size([3, 96, 16, 16, 8])\n",
      "torch.Size([3, 192, 16, 16, 8])\n",
      "torch.Size([3, 192, 8, 8, 4])\n",
      "torch.Size([3, 384, 8, 8, 4])\n",
      "torch.Size([3, 768, 2, 2, 1])\n",
      "torch.Size([3, 1536, 2, 2, 1])\n",
      "torch.Size([3, 768, 4, 4, 2])\n",
      "torch.Size([3, 384, 8, 8, 4])\n",
      "torch.Size([3, 192, 16, 16, 8])\n",
      "torch.Size([3, 96, 32, 32, 16])\n",
      "torch.Size([3, 96, 64, 64, 32])\n"
     ]
    },
    {
     "name": "stderr",
     "output_type": "stream",
     "text": [
      "Training (32 / 100 Steps) (loss=0.05632):   3%|  | 1/32 [00:01<00:36,  1.17s/it]\n"
     ]
    },
    {
     "name": "stdout",
     "output_type": "stream",
     "text": [
      "torch.Size([3, 2, 64, 64, 32])\n",
      "torch.Size([3, 1, 64, 64, 32])\n",
      "torch.Size([3, 1, 64, 64, 32])\n"
     ]
    },
    {
     "ename": "KeyboardInterrupt",
     "evalue": "",
     "output_type": "error",
     "traceback": [
      "\u001b[0;31m---------------------------------------------------------------------------\u001b[0m",
      "\u001b[0;31mKeyboardInterrupt\u001b[0m                         Traceback (most recent call last)",
      "Cell \u001b[0;32mIn[26], line 2\u001b[0m\n\u001b[1;32m      1\u001b[0m \u001b[38;5;28;01mwhile\u001b[39;00m global_step \u001b[38;5;241m<\u001b[39m max_iterations:\n\u001b[0;32m----> 2\u001b[0m     global_step, dice_val_best, global_step_best \u001b[38;5;241m=\u001b[39m \u001b[43mtrain\u001b[49m\u001b[43m(\u001b[49m\n\u001b[1;32m      3\u001b[0m \u001b[43m        \u001b[49m\u001b[43mglobal_step\u001b[49m\u001b[43m,\u001b[49m\u001b[43m \u001b[49m\u001b[43mtrain_loader\u001b[49m\u001b[43m,\u001b[49m\u001b[43m \u001b[49m\u001b[43mdice_val_best\u001b[49m\u001b[43m,\u001b[49m\u001b[43m \u001b[49m\u001b[43mglobal_step_best\u001b[49m\n\u001b[1;32m      4\u001b[0m \u001b[43m    \u001b[49m\u001b[43m)\u001b[49m\n\u001b[1;32m      6\u001b[0m torch\u001b[38;5;241m.\u001b[39msave(model\u001b[38;5;241m.\u001b[39mstate_dict(), os\u001b[38;5;241m.\u001b[39mpath\u001b[38;5;241m.\u001b[39mjoin( \u001b[38;5;124mf\u001b[39m\u001b[38;5;124m\"\u001b[39m\u001b[38;5;124mT2,SWI_newmodel_hausdorff_last_vxxxx_\u001b[39m\u001b[38;5;132;01m{\u001b[39;00mglobal_step\u001b[38;5;132;01m}\u001b[39;00m\u001b[38;5;124m.pth\u001b[39m\u001b[38;5;124m\"\u001b[39m))\n",
      "Cell \u001b[0;32mIn[23], line 14\u001b[0m, in \u001b[0;36mtrain\u001b[0;34m(global_step, train_loader, dice_val_best, global_step_best)\u001b[0m\n\u001b[1;32m     11\u001b[0m x \u001b[38;5;241m=\u001b[39m torch\u001b[38;5;241m.\u001b[39mcat((a, b),axis\u001b[38;5;241m=\u001b[39m\u001b[38;5;241m1\u001b[39m)\n\u001b[1;32m     13\u001b[0m \u001b[38;5;66;03m##training\u001b[39;00m\n\u001b[0;32m---> 14\u001b[0m logit_map \u001b[38;5;241m=\u001b[39m \u001b[43mmodel\u001b[49m\u001b[43m(\u001b[49m\u001b[43mx\u001b[49m\u001b[43m)\u001b[49m\n\u001b[1;32m     15\u001b[0m loss \u001b[38;5;241m=\u001b[39m loss_function(logit_map, y)\n\u001b[1;32m     16\u001b[0m loss\u001b[38;5;241m.\u001b[39mbackward()\n",
      "File \u001b[0;32m~/anaconda3/envs/hwasan/lib/python3.8/site-packages/torch/nn/modules/module.py:1501\u001b[0m, in \u001b[0;36mModule._call_impl\u001b[0;34m(self, *args, **kwargs)\u001b[0m\n\u001b[1;32m   1496\u001b[0m \u001b[38;5;66;03m# If we don't have any hooks, we want to skip the rest of the logic in\u001b[39;00m\n\u001b[1;32m   1497\u001b[0m \u001b[38;5;66;03m# this function, and just call forward.\u001b[39;00m\n\u001b[1;32m   1498\u001b[0m \u001b[38;5;28;01mif\u001b[39;00m \u001b[38;5;129;01mnot\u001b[39;00m (\u001b[38;5;28mself\u001b[39m\u001b[38;5;241m.\u001b[39m_backward_hooks \u001b[38;5;129;01mor\u001b[39;00m \u001b[38;5;28mself\u001b[39m\u001b[38;5;241m.\u001b[39m_backward_pre_hooks \u001b[38;5;129;01mor\u001b[39;00m \u001b[38;5;28mself\u001b[39m\u001b[38;5;241m.\u001b[39m_forward_hooks \u001b[38;5;129;01mor\u001b[39;00m \u001b[38;5;28mself\u001b[39m\u001b[38;5;241m.\u001b[39m_forward_pre_hooks\n\u001b[1;32m   1499\u001b[0m         \u001b[38;5;129;01mor\u001b[39;00m _global_backward_pre_hooks \u001b[38;5;129;01mor\u001b[39;00m _global_backward_hooks\n\u001b[1;32m   1500\u001b[0m         \u001b[38;5;129;01mor\u001b[39;00m _global_forward_hooks \u001b[38;5;129;01mor\u001b[39;00m _global_forward_pre_hooks):\n\u001b[0;32m-> 1501\u001b[0m     \u001b[38;5;28;01mreturn\u001b[39;00m \u001b[43mforward_call\u001b[49m\u001b[43m(\u001b[49m\u001b[38;5;241;43m*\u001b[39;49m\u001b[43margs\u001b[49m\u001b[43m,\u001b[49m\u001b[43m \u001b[49m\u001b[38;5;241;43m*\u001b[39;49m\u001b[38;5;241;43m*\u001b[39;49m\u001b[43mkwargs\u001b[49m\u001b[43m)\u001b[49m\n\u001b[1;32m   1502\u001b[0m \u001b[38;5;66;03m# Do not call functions when jit is used\u001b[39;00m\n\u001b[1;32m   1503\u001b[0m full_backward_hooks, non_full_backward_hooks \u001b[38;5;241m=\u001b[39m [], []\n",
      "File \u001b[0;32m~/hufsbaby/ycm/multi_seg/cm_dual_encoder_sur.py:366\u001b[0m, in \u001b[0;36mDual_SwinUNETR.forward\u001b[0;34m(self, x)\u001b[0m\n\u001b[1;32m    364\u001b[0m x2 \u001b[38;5;241m=\u001b[39m x[:,\u001b[38;5;241m1\u001b[39m:,:,:,:]\n\u001b[1;32m    365\u001b[0m \u001b[38;5;28mprint\u001b[39m(x2\u001b[38;5;241m.\u001b[39mshape)\n\u001b[0;32m--> 366\u001b[0m hidden_states_out1 \u001b[38;5;241m=\u001b[39m \u001b[38;5;28;43mself\u001b[39;49m\u001b[38;5;241;43m.\u001b[39;49m\u001b[43mswinViT\u001b[49m\u001b[43m(\u001b[49m\u001b[43mx1\u001b[49m\u001b[43m,\u001b[49m\u001b[43m \u001b[49m\u001b[38;5;28;43mself\u001b[39;49m\u001b[38;5;241;43m.\u001b[39;49m\u001b[43mnormalize\u001b[49m\u001b[43m)\u001b[49m\n\u001b[1;32m    367\u001b[0m hidden_states_out2 \u001b[38;5;241m=\u001b[39m \u001b[38;5;28mself\u001b[39m\u001b[38;5;241m.\u001b[39mswinViT(x2, \u001b[38;5;28mself\u001b[39m\u001b[38;5;241m.\u001b[39mnormalize)\n\u001b[1;32m    368\u001b[0m enc0_1 \u001b[38;5;241m=\u001b[39m \u001b[38;5;28mself\u001b[39m\u001b[38;5;241m.\u001b[39mencoder1_1(x1)\n",
      "File \u001b[0;32m~/anaconda3/envs/hwasan/lib/python3.8/site-packages/torch/nn/modules/module.py:1501\u001b[0m, in \u001b[0;36mModule._call_impl\u001b[0;34m(self, *args, **kwargs)\u001b[0m\n\u001b[1;32m   1496\u001b[0m \u001b[38;5;66;03m# If we don't have any hooks, we want to skip the rest of the logic in\u001b[39;00m\n\u001b[1;32m   1497\u001b[0m \u001b[38;5;66;03m# this function, and just call forward.\u001b[39;00m\n\u001b[1;32m   1498\u001b[0m \u001b[38;5;28;01mif\u001b[39;00m \u001b[38;5;129;01mnot\u001b[39;00m (\u001b[38;5;28mself\u001b[39m\u001b[38;5;241m.\u001b[39m_backward_hooks \u001b[38;5;129;01mor\u001b[39;00m \u001b[38;5;28mself\u001b[39m\u001b[38;5;241m.\u001b[39m_backward_pre_hooks \u001b[38;5;129;01mor\u001b[39;00m \u001b[38;5;28mself\u001b[39m\u001b[38;5;241m.\u001b[39m_forward_hooks \u001b[38;5;129;01mor\u001b[39;00m \u001b[38;5;28mself\u001b[39m\u001b[38;5;241m.\u001b[39m_forward_pre_hooks\n\u001b[1;32m   1499\u001b[0m         \u001b[38;5;129;01mor\u001b[39;00m _global_backward_pre_hooks \u001b[38;5;129;01mor\u001b[39;00m _global_backward_hooks\n\u001b[1;32m   1500\u001b[0m         \u001b[38;5;129;01mor\u001b[39;00m _global_forward_hooks \u001b[38;5;129;01mor\u001b[39;00m _global_forward_pre_hooks):\n\u001b[0;32m-> 1501\u001b[0m     \u001b[38;5;28;01mreturn\u001b[39;00m \u001b[43mforward_call\u001b[49m\u001b[43m(\u001b[49m\u001b[38;5;241;43m*\u001b[39;49m\u001b[43margs\u001b[49m\u001b[43m,\u001b[49m\u001b[43m \u001b[49m\u001b[38;5;241;43m*\u001b[39;49m\u001b[38;5;241;43m*\u001b[39;49m\u001b[43mkwargs\u001b[49m\u001b[43m)\u001b[49m\n\u001b[1;32m   1502\u001b[0m \u001b[38;5;66;03m# Do not call functions when jit is used\u001b[39;00m\n\u001b[1;32m   1503\u001b[0m full_backward_hooks, non_full_backward_hooks \u001b[38;5;241m=\u001b[39m [], []\n",
      "File \u001b[0;32m~/hufsbaby/ycm/multi_seg/cm_dual_encoder_sur.py:1114\u001b[0m, in \u001b[0;36mSwinTransformer.forward\u001b[0;34m(self, x, normalize)\u001b[0m\n\u001b[1;32m   1112\u001b[0m \u001b[38;5;28;01mif\u001b[39;00m \u001b[38;5;28mself\u001b[39m\u001b[38;5;241m.\u001b[39muse_v2:\n\u001b[1;32m   1113\u001b[0m     x2 \u001b[38;5;241m=\u001b[39m \u001b[38;5;28mself\u001b[39m\u001b[38;5;241m.\u001b[39mlayers3c[\u001b[38;5;241m0\u001b[39m](x2\u001b[38;5;241m.\u001b[39mcontiguous())\n\u001b[0;32m-> 1114\u001b[0m x3 \u001b[38;5;241m=\u001b[39m \u001b[38;5;28;43mself\u001b[39;49m\u001b[38;5;241;43m.\u001b[39;49m\u001b[43mlayers3\u001b[49m\u001b[43m[\u001b[49m\u001b[38;5;241;43m0\u001b[39;49m\u001b[43m]\u001b[49m\u001b[43m(\u001b[49m\u001b[43mx2\u001b[49m\u001b[38;5;241;43m.\u001b[39;49m\u001b[43mcontiguous\u001b[49m\u001b[43m(\u001b[49m\u001b[43m)\u001b[49m\u001b[43m)\u001b[49m\n\u001b[1;32m   1115\u001b[0m x3_out \u001b[38;5;241m=\u001b[39m \u001b[38;5;28mself\u001b[39m\u001b[38;5;241m.\u001b[39mproj_out(x3, normalize)\n\u001b[1;32m   1116\u001b[0m \u001b[38;5;28;01mif\u001b[39;00m \u001b[38;5;28mself\u001b[39m\u001b[38;5;241m.\u001b[39muse_v2:\n",
      "File \u001b[0;32m~/anaconda3/envs/hwasan/lib/python3.8/site-packages/torch/nn/modules/module.py:1501\u001b[0m, in \u001b[0;36mModule._call_impl\u001b[0;34m(self, *args, **kwargs)\u001b[0m\n\u001b[1;32m   1496\u001b[0m \u001b[38;5;66;03m# If we don't have any hooks, we want to skip the rest of the logic in\u001b[39;00m\n\u001b[1;32m   1497\u001b[0m \u001b[38;5;66;03m# this function, and just call forward.\u001b[39;00m\n\u001b[1;32m   1498\u001b[0m \u001b[38;5;28;01mif\u001b[39;00m \u001b[38;5;129;01mnot\u001b[39;00m (\u001b[38;5;28mself\u001b[39m\u001b[38;5;241m.\u001b[39m_backward_hooks \u001b[38;5;129;01mor\u001b[39;00m \u001b[38;5;28mself\u001b[39m\u001b[38;5;241m.\u001b[39m_backward_pre_hooks \u001b[38;5;129;01mor\u001b[39;00m \u001b[38;5;28mself\u001b[39m\u001b[38;5;241m.\u001b[39m_forward_hooks \u001b[38;5;129;01mor\u001b[39;00m \u001b[38;5;28mself\u001b[39m\u001b[38;5;241m.\u001b[39m_forward_pre_hooks\n\u001b[1;32m   1499\u001b[0m         \u001b[38;5;129;01mor\u001b[39;00m _global_backward_pre_hooks \u001b[38;5;129;01mor\u001b[39;00m _global_backward_hooks\n\u001b[1;32m   1500\u001b[0m         \u001b[38;5;129;01mor\u001b[39;00m _global_forward_hooks \u001b[38;5;129;01mor\u001b[39;00m _global_forward_pre_hooks):\n\u001b[0;32m-> 1501\u001b[0m     \u001b[38;5;28;01mreturn\u001b[39;00m \u001b[43mforward_call\u001b[49m\u001b[43m(\u001b[49m\u001b[38;5;241;43m*\u001b[39;49m\u001b[43margs\u001b[49m\u001b[43m,\u001b[49m\u001b[43m \u001b[49m\u001b[38;5;241;43m*\u001b[39;49m\u001b[38;5;241;43m*\u001b[39;49m\u001b[43mkwargs\u001b[49m\u001b[43m)\u001b[49m\n\u001b[1;32m   1502\u001b[0m \u001b[38;5;66;03m# Do not call functions when jit is used\u001b[39;00m\n\u001b[1;32m   1503\u001b[0m full_backward_hooks, non_full_backward_hooks \u001b[38;5;241m=\u001b[39m [], []\n",
      "File \u001b[0;32m~/hufsbaby/ycm/multi_seg/cm_dual_encoder_sur.py:973\u001b[0m, in \u001b[0;36mBasicLayer.forward\u001b[0;34m(self, x)\u001b[0m\n\u001b[1;32m    971\u001b[0m     x \u001b[38;5;241m=\u001b[39m x\u001b[38;5;241m.\u001b[39mview(b, d, h, w, \u001b[38;5;241m-\u001b[39m\u001b[38;5;241m1\u001b[39m)\n\u001b[1;32m    972\u001b[0m     \u001b[38;5;28;01mif\u001b[39;00m \u001b[38;5;28mself\u001b[39m\u001b[38;5;241m.\u001b[39mdownsample \u001b[38;5;129;01mis\u001b[39;00m \u001b[38;5;129;01mnot\u001b[39;00m \u001b[38;5;28;01mNone\u001b[39;00m:\n\u001b[0;32m--> 973\u001b[0m         x \u001b[38;5;241m=\u001b[39m \u001b[38;5;28;43mself\u001b[39;49m\u001b[38;5;241;43m.\u001b[39;49m\u001b[43mdownsample\u001b[49m\u001b[43m(\u001b[49m\u001b[43mx\u001b[49m\u001b[43m)\u001b[49m\n\u001b[1;32m    974\u001b[0m     x \u001b[38;5;241m=\u001b[39m rearrange(x, \u001b[38;5;124m\"\u001b[39m\u001b[38;5;124mb d h w c -> b c d h w\u001b[39m\u001b[38;5;124m\"\u001b[39m)\n\u001b[1;32m    976\u001b[0m \u001b[38;5;28;01melif\u001b[39;00m \u001b[38;5;28mlen\u001b[39m(x_shape) \u001b[38;5;241m==\u001b[39m \u001b[38;5;241m4\u001b[39m:\n",
      "File \u001b[0;32m~/anaconda3/envs/hwasan/lib/python3.8/site-packages/torch/nn/modules/module.py:1501\u001b[0m, in \u001b[0;36mModule._call_impl\u001b[0;34m(self, *args, **kwargs)\u001b[0m\n\u001b[1;32m   1496\u001b[0m \u001b[38;5;66;03m# If we don't have any hooks, we want to skip the rest of the logic in\u001b[39;00m\n\u001b[1;32m   1497\u001b[0m \u001b[38;5;66;03m# this function, and just call forward.\u001b[39;00m\n\u001b[1;32m   1498\u001b[0m \u001b[38;5;28;01mif\u001b[39;00m \u001b[38;5;129;01mnot\u001b[39;00m (\u001b[38;5;28mself\u001b[39m\u001b[38;5;241m.\u001b[39m_backward_hooks \u001b[38;5;129;01mor\u001b[39;00m \u001b[38;5;28mself\u001b[39m\u001b[38;5;241m.\u001b[39m_backward_pre_hooks \u001b[38;5;129;01mor\u001b[39;00m \u001b[38;5;28mself\u001b[39m\u001b[38;5;241m.\u001b[39m_forward_hooks \u001b[38;5;129;01mor\u001b[39;00m \u001b[38;5;28mself\u001b[39m\u001b[38;5;241m.\u001b[39m_forward_pre_hooks\n\u001b[1;32m   1499\u001b[0m         \u001b[38;5;129;01mor\u001b[39;00m _global_backward_pre_hooks \u001b[38;5;129;01mor\u001b[39;00m _global_backward_hooks\n\u001b[1;32m   1500\u001b[0m         \u001b[38;5;129;01mor\u001b[39;00m _global_forward_hooks \u001b[38;5;129;01mor\u001b[39;00m _global_forward_pre_hooks):\n\u001b[0;32m-> 1501\u001b[0m     \u001b[38;5;28;01mreturn\u001b[39;00m \u001b[43mforward_call\u001b[49m\u001b[43m(\u001b[49m\u001b[38;5;241;43m*\u001b[39;49m\u001b[43margs\u001b[49m\u001b[43m,\u001b[49m\u001b[43m \u001b[49m\u001b[38;5;241;43m*\u001b[39;49m\u001b[38;5;241;43m*\u001b[39;49m\u001b[43mkwargs\u001b[49m\u001b[43m)\u001b[49m\n\u001b[1;32m   1502\u001b[0m \u001b[38;5;66;03m# Do not call functions when jit is used\u001b[39;00m\n\u001b[1;32m   1503\u001b[0m full_backward_hooks, non_full_backward_hooks \u001b[38;5;241m=\u001b[39m [], []\n",
      "File \u001b[0;32m~/hufsbaby/ycm/multi_seg/cm_dual_encoder_sur.py:835\u001b[0m, in \u001b[0;36mPatchMerging.forward\u001b[0;34m(self, x)\u001b[0m\n\u001b[1;32m    833\u001b[0m \u001b[38;5;28;01mif\u001b[39;00m pad_input:\n\u001b[1;32m    834\u001b[0m     x \u001b[38;5;241m=\u001b[39m F\u001b[38;5;241m.\u001b[39mpad(x, (\u001b[38;5;241m0\u001b[39m, \u001b[38;5;241m0\u001b[39m, \u001b[38;5;241m0\u001b[39m, w \u001b[38;5;241m%\u001b[39m \u001b[38;5;241m2\u001b[39m, \u001b[38;5;241m0\u001b[39m, h \u001b[38;5;241m%\u001b[39m \u001b[38;5;241m2\u001b[39m, \u001b[38;5;241m0\u001b[39m, d \u001b[38;5;241m%\u001b[39m \u001b[38;5;241m2\u001b[39m))\n\u001b[0;32m--> 835\u001b[0m x0 \u001b[38;5;241m=\u001b[39m \u001b[43mx\u001b[49m\u001b[43m[\u001b[49m\u001b[43m:\u001b[49m\u001b[43m,\u001b[49m\u001b[43m \u001b[49m\u001b[38;5;241;43m0\u001b[39;49m\u001b[43m:\u001b[49m\u001b[43m:\u001b[49m\u001b[38;5;241;43m2\u001b[39;49m\u001b[43m,\u001b[49m\u001b[43m \u001b[49m\u001b[38;5;241;43m0\u001b[39;49m\u001b[43m:\u001b[49m\u001b[43m:\u001b[49m\u001b[38;5;241;43m2\u001b[39;49m\u001b[43m,\u001b[49m\u001b[43m \u001b[49m\u001b[38;5;241;43m0\u001b[39;49m\u001b[43m:\u001b[49m\u001b[43m:\u001b[49m\u001b[38;5;241;43m2\u001b[39;49m\u001b[43m,\u001b[49m\u001b[43m \u001b[49m\u001b[43m:\u001b[49m\u001b[43m]\u001b[49m\n\u001b[1;32m    836\u001b[0m x1 \u001b[38;5;241m=\u001b[39m x[:, \u001b[38;5;241m1\u001b[39m::\u001b[38;5;241m2\u001b[39m, \u001b[38;5;241m0\u001b[39m::\u001b[38;5;241m2\u001b[39m, \u001b[38;5;241m0\u001b[39m::\u001b[38;5;241m2\u001b[39m, :]\n\u001b[1;32m    837\u001b[0m x2 \u001b[38;5;241m=\u001b[39m x[:, \u001b[38;5;241m0\u001b[39m::\u001b[38;5;241m2\u001b[39m, \u001b[38;5;241m1\u001b[39m::\u001b[38;5;241m2\u001b[39m, \u001b[38;5;241m0\u001b[39m::\u001b[38;5;241m2\u001b[39m, :]\n",
      "File \u001b[0;32m~/anaconda3/envs/hwasan/lib/python3.8/site-packages/monai/data/meta_tensor.py:303\u001b[0m, in \u001b[0;36mMetaTensor.__torch_function__\u001b[0;34m(cls, func, types, args, kwargs)\u001b[0m\n\u001b[1;32m    301\u001b[0m \u001b[38;5;28;01melse\u001b[39;00m:\n\u001b[1;32m    302\u001b[0m     unpack \u001b[38;5;241m=\u001b[39m \u001b[38;5;28;01mFalse\u001b[39;00m\n\u001b[0;32m--> 303\u001b[0m ret \u001b[38;5;241m=\u001b[39m \u001b[43mMetaTensor\u001b[49m\u001b[38;5;241;43m.\u001b[39;49m\u001b[43mupdate_meta\u001b[49m\u001b[43m(\u001b[49m\u001b[43mret\u001b[49m\u001b[43m,\u001b[49m\u001b[43m \u001b[49m\u001b[43mfunc\u001b[49m\u001b[43m,\u001b[49m\u001b[43m \u001b[49m\u001b[43margs\u001b[49m\u001b[43m,\u001b[49m\u001b[43m \u001b[49m\u001b[43mkwargs\u001b[49m\u001b[43m)\u001b[49m\n\u001b[1;32m    304\u001b[0m \u001b[38;5;28;01mreturn\u001b[39;00m ret[\u001b[38;5;241m0\u001b[39m] \u001b[38;5;28;01mif\u001b[39;00m unpack \u001b[38;5;28;01melse\u001b[39;00m ret\n",
      "File \u001b[0;32m~/anaconda3/envs/hwasan/lib/python3.8/site-packages/monai/data/meta_tensor.py:223\u001b[0m, in \u001b[0;36mMetaTensor.update_meta\u001b[0;34m(rets, func, args, kwargs)\u001b[0m\n\u001b[1;32m    219\u001b[0m         \u001b[38;5;66;03m# the following is not implemented but the network arch may run into this case:\u001b[39;00m\n\u001b[1;32m    220\u001b[0m         \u001b[38;5;66;03m# if func == torch.cat and any(m.is_batch if hasattr(m, \"is_batch\") else False for m in meta_args):\u001b[39;00m\n\u001b[1;32m    221\u001b[0m         \u001b[38;5;66;03m#     raise NotImplementedError(\"torch.cat is not implemented for batch of MetaTensors.\")\u001b[39;00m\n\u001b[1;32m    222\u001b[0m         \u001b[38;5;28;01mif\u001b[39;00m is_batch:\n\u001b[0;32m--> 223\u001b[0m             ret \u001b[38;5;241m=\u001b[39m \u001b[43mMetaTensor\u001b[49m\u001b[38;5;241;43m.\u001b[39;49m\u001b[43m_handle_batched\u001b[49m\u001b[43m(\u001b[49m\u001b[43mret\u001b[49m\u001b[43m,\u001b[49m\u001b[43m \u001b[49m\u001b[43midx\u001b[49m\u001b[43m,\u001b[49m\u001b[43m \u001b[49m\u001b[43mmetas\u001b[49m\u001b[43m,\u001b[49m\u001b[43m \u001b[49m\u001b[43mfunc\u001b[49m\u001b[43m,\u001b[49m\u001b[43m \u001b[49m\u001b[43margs\u001b[49m\u001b[43m,\u001b[49m\u001b[43m \u001b[49m\u001b[43mkwargs\u001b[49m\u001b[43m)\u001b[49m\n\u001b[1;32m    224\u001b[0m     out\u001b[38;5;241m.\u001b[39mappend(ret)\n\u001b[1;32m    225\u001b[0m \u001b[38;5;66;03m# if the input was a tuple, then return it as a tuple\u001b[39;00m\n",
      "File \u001b[0;32m~/anaconda3/envs/hwasan/lib/python3.8/site-packages/monai/data/meta_tensor.py:237\u001b[0m, in \u001b[0;36mMetaTensor._handle_batched\u001b[0;34m(cls, ret, idx, metas, func, args, kwargs)\u001b[0m\n\u001b[1;32m    231\u001b[0m \u001b[38;5;66;03m# If we have a batch of data, then we need to be careful if a slice of\u001b[39;00m\n\u001b[1;32m    232\u001b[0m \u001b[38;5;66;03m# the data is returned. Depending on how the data are indexed, we return\u001b[39;00m\n\u001b[1;32m    233\u001b[0m \u001b[38;5;66;03m# some or all of the metadata, and the return object may or may not be a\u001b[39;00m\n\u001b[1;32m    234\u001b[0m \u001b[38;5;66;03m# batch of data (e.g., `batch[:,-1]` versus `batch[0]`).\u001b[39;00m\n\u001b[1;32m    235\u001b[0m \u001b[38;5;66;03m# if indexing e.g., `batch[0]`\u001b[39;00m\n\u001b[1;32m    236\u001b[0m \u001b[38;5;28;01mif\u001b[39;00m func \u001b[38;5;241m==\u001b[39m torch\u001b[38;5;241m.\u001b[39mTensor\u001b[38;5;241m.\u001b[39m\u001b[38;5;21m__getitem__\u001b[39m:\n\u001b[0;32m--> 237\u001b[0m     \u001b[38;5;28;01mif\u001b[39;00m idx \u001b[38;5;241m>\u001b[39m \u001b[38;5;241m0\u001b[39m \u001b[38;5;129;01mor\u001b[39;00m \u001b[38;5;28mlen\u001b[39m(args) \u001b[38;5;241m<\u001b[39m \u001b[38;5;241m2\u001b[39m \u001b[38;5;129;01mor\u001b[39;00m \u001b[38;5;28;43mlen\u001b[39;49m\u001b[43m(\u001b[49m\u001b[43margs\u001b[49m\u001b[43m[\u001b[49m\u001b[38;5;241;43m0\u001b[39;49m\u001b[43m]\u001b[49m\u001b[43m)\u001b[49m \u001b[38;5;241m<\u001b[39m \u001b[38;5;241m1\u001b[39m:\n\u001b[1;32m    238\u001b[0m         \u001b[38;5;28;01mreturn\u001b[39;00m ret\n\u001b[1;32m    239\u001b[0m     batch_idx \u001b[38;5;241m=\u001b[39m args[\u001b[38;5;241m1\u001b[39m][\u001b[38;5;241m0\u001b[39m] \u001b[38;5;28;01mif\u001b[39;00m \u001b[38;5;28misinstance\u001b[39m(args[\u001b[38;5;241m1\u001b[39m], Sequence) \u001b[38;5;28;01melse\u001b[39;00m args[\u001b[38;5;241m1\u001b[39m]\n",
      "File \u001b[0;32m~/anaconda3/envs/hwasan/lib/python3.8/site-packages/torch/_tensor.py:906\u001b[0m, in \u001b[0;36mTensor.__len__\u001b[0;34m(self)\u001b[0m\n\u001b[1;32m    904\u001b[0m \u001b[38;5;28;01mdef\u001b[39;00m \u001b[38;5;21m__len__\u001b[39m(\u001b[38;5;28mself\u001b[39m):\n\u001b[1;32m    905\u001b[0m     \u001b[38;5;28;01mif\u001b[39;00m has_torch_function_unary(\u001b[38;5;28mself\u001b[39m):\n\u001b[0;32m--> 906\u001b[0m         \u001b[38;5;28;01mreturn\u001b[39;00m \u001b[43mhandle_torch_function\u001b[49m\u001b[43m(\u001b[49m\u001b[43mTensor\u001b[49m\u001b[38;5;241;43m.\u001b[39;49m\u001b[38;5;21;43m__len__\u001b[39;49m\u001b[43m,\u001b[49m\u001b[43m \u001b[49m\u001b[43m(\u001b[49m\u001b[38;5;28;43mself\u001b[39;49m\u001b[43m,\u001b[49m\u001b[43m)\u001b[49m\u001b[43m,\u001b[49m\u001b[43m \u001b[49m\u001b[38;5;28;43mself\u001b[39;49m\u001b[43m)\u001b[49m\n\u001b[1;32m    907\u001b[0m     \u001b[38;5;28;01mif\u001b[39;00m \u001b[38;5;28mself\u001b[39m\u001b[38;5;241m.\u001b[39mdim() \u001b[38;5;241m==\u001b[39m \u001b[38;5;241m0\u001b[39m:\n\u001b[1;32m    908\u001b[0m         \u001b[38;5;28;01mraise\u001b[39;00m \u001b[38;5;167;01mTypeError\u001b[39;00m(\u001b[38;5;124m\"\u001b[39m\u001b[38;5;124mlen() of a 0-d tensor\u001b[39m\u001b[38;5;124m\"\u001b[39m)\n",
      "File \u001b[0;32m~/anaconda3/envs/hwasan/lib/python3.8/site-packages/torch/overrides.py:1551\u001b[0m, in \u001b[0;36mhandle_torch_function\u001b[0;34m(public_api, relevant_args, *args, **kwargs)\u001b[0m\n\u001b[1;32m   1545\u001b[0m     warnings\u001b[38;5;241m.\u001b[39mwarn(\u001b[38;5;124m\"\u001b[39m\u001b[38;5;124mDefining your `__torch_function__ as a plain method is deprecated and \u001b[39m\u001b[38;5;124m\"\u001b[39m\n\u001b[1;32m   1546\u001b[0m                   \u001b[38;5;124m\"\u001b[39m\u001b[38;5;124mwill be an error in future, please define it as a classmethod.\u001b[39m\u001b[38;5;124m\"\u001b[39m,\n\u001b[1;32m   1547\u001b[0m                   \u001b[38;5;167;01mDeprecationWarning\u001b[39;00m)\n\u001b[1;32m   1549\u001b[0m \u001b[38;5;66;03m# Use `public_api` instead of `implementation` so __torch_function__\u001b[39;00m\n\u001b[1;32m   1550\u001b[0m \u001b[38;5;66;03m# implementations can do equality/identity comparisons.\u001b[39;00m\n\u001b[0;32m-> 1551\u001b[0m result \u001b[38;5;241m=\u001b[39m \u001b[43mtorch_func_method\u001b[49m\u001b[43m(\u001b[49m\u001b[43mpublic_api\u001b[49m\u001b[43m,\u001b[49m\u001b[43m \u001b[49m\u001b[43mtypes\u001b[49m\u001b[43m,\u001b[49m\u001b[43m \u001b[49m\u001b[43margs\u001b[49m\u001b[43m,\u001b[49m\u001b[43m \u001b[49m\u001b[43mkwargs\u001b[49m\u001b[43m)\u001b[49m\n\u001b[1;32m   1553\u001b[0m \u001b[38;5;28;01mif\u001b[39;00m result \u001b[38;5;129;01mis\u001b[39;00m \u001b[38;5;129;01mnot\u001b[39;00m \u001b[38;5;28mNotImplemented\u001b[39m:\n\u001b[1;32m   1554\u001b[0m     \u001b[38;5;28;01mreturn\u001b[39;00m result\n",
      "File \u001b[0;32m~/anaconda3/envs/hwasan/lib/python3.8/site-packages/monai/data/meta_tensor.py:282\u001b[0m, in \u001b[0;36mMetaTensor.__torch_function__\u001b[0;34m(cls, func, types, args, kwargs)\u001b[0m\n\u001b[1;32m    280\u001b[0m \u001b[38;5;28;01mif\u001b[39;00m kwargs \u001b[38;5;129;01mis\u001b[39;00m \u001b[38;5;28;01mNone\u001b[39;00m:\n\u001b[1;32m    281\u001b[0m     kwargs \u001b[38;5;241m=\u001b[39m {}\n\u001b[0;32m--> 282\u001b[0m ret \u001b[38;5;241m=\u001b[39m \u001b[38;5;28;43msuper\u001b[39;49m\u001b[43m(\u001b[49m\u001b[43m)\u001b[49m\u001b[38;5;241;43m.\u001b[39;49m\u001b[43m__torch_function__\u001b[49m\u001b[43m(\u001b[49m\u001b[43mfunc\u001b[49m\u001b[43m,\u001b[49m\u001b[43m \u001b[49m\u001b[43mtypes\u001b[49m\u001b[43m,\u001b[49m\u001b[43m \u001b[49m\u001b[43margs\u001b[49m\u001b[43m,\u001b[49m\u001b[43m \u001b[49m\u001b[43mkwargs\u001b[49m\u001b[43m)\u001b[49m\n\u001b[1;32m    283\u001b[0m \u001b[38;5;66;03m# if `out` has been used as argument, metadata is not copied, nothing to do.\u001b[39;00m\n\u001b[1;32m    284\u001b[0m \u001b[38;5;66;03m# if \"out\" in kwargs:\u001b[39;00m\n\u001b[1;32m    285\u001b[0m \u001b[38;5;66;03m#     return ret\u001b[39;00m\n\u001b[1;32m    286\u001b[0m \u001b[38;5;28;01mif\u001b[39;00m _not_requiring_metadata(ret):\n",
      "File \u001b[0;32m~/anaconda3/envs/hwasan/lib/python3.8/site-packages/torch/_tensor.py:1295\u001b[0m, in \u001b[0;36mTensor.__torch_function__\u001b[0;34m(cls, func, types, args, kwargs)\u001b[0m\n\u001b[1;32m   1292\u001b[0m     \u001b[38;5;28;01mreturn\u001b[39;00m \u001b[38;5;28mNotImplemented\u001b[39m\n\u001b[1;32m   1294\u001b[0m \u001b[38;5;28;01mwith\u001b[39;00m _C\u001b[38;5;241m.\u001b[39mDisableTorchFunctionSubclass():\n\u001b[0;32m-> 1295\u001b[0m     ret \u001b[38;5;241m=\u001b[39m \u001b[43mfunc\u001b[49m\u001b[43m(\u001b[49m\u001b[38;5;241;43m*\u001b[39;49m\u001b[43margs\u001b[49m\u001b[43m,\u001b[49m\u001b[43m \u001b[49m\u001b[38;5;241;43m*\u001b[39;49m\u001b[38;5;241;43m*\u001b[39;49m\u001b[43mkwargs\u001b[49m\u001b[43m)\u001b[49m\n\u001b[1;32m   1296\u001b[0m     \u001b[38;5;28;01mif\u001b[39;00m func \u001b[38;5;129;01min\u001b[39;00m get_default_nowrap_functions():\n\u001b[1;32m   1297\u001b[0m         \u001b[38;5;28;01mreturn\u001b[39;00m ret\n",
      "File \u001b[0;32m~/anaconda3/envs/hwasan/lib/python3.8/site-packages/torch/_tensor.py:918\u001b[0m, in \u001b[0;36mTensor.__len__\u001b[0;34m(self)\u001b[0m\n\u001b[1;32m    909\u001b[0m \u001b[38;5;28;01mif\u001b[39;00m torch\u001b[38;5;241m.\u001b[39m_C\u001b[38;5;241m.\u001b[39m_get_tracing_state():\n\u001b[1;32m    910\u001b[0m     warnings\u001b[38;5;241m.\u001b[39mwarn(\n\u001b[1;32m    911\u001b[0m         \u001b[38;5;124m\"\u001b[39m\u001b[38;5;124mUsing len to get tensor shape might cause the trace to be incorrect. \u001b[39m\u001b[38;5;124m\"\u001b[39m\n\u001b[1;32m    912\u001b[0m         \u001b[38;5;124m\"\u001b[39m\u001b[38;5;124mRecommended usage would be tensor.shape[0]. \u001b[39m\u001b[38;5;124m\"\u001b[39m\n\u001b[0;32m   (...)\u001b[0m\n\u001b[1;32m    916\u001b[0m         stacklevel\u001b[38;5;241m=\u001b[39m\u001b[38;5;241m2\u001b[39m,\n\u001b[1;32m    917\u001b[0m     )\n\u001b[0;32m--> 918\u001b[0m \u001b[38;5;28;01mreturn\u001b[39;00m \u001b[38;5;28;43mself\u001b[39;49m\u001b[38;5;241;43m.\u001b[39;49m\u001b[43mshape\u001b[49m[\u001b[38;5;241m0\u001b[39m]\n",
      "\u001b[0;31mKeyboardInterrupt\u001b[0m: "
     ]
    }
   ],
   "source": [
    "while global_step < max_iterations:\n",
    "    global_step, dice_val_best, global_step_best = train(\n",
    "        global_step, train_loader, dice_val_best, global_step_best\n",
    "    )\n",
    "\n",
    "torch.save(model.state_dict(), os.path.join( f\"T2,SWI_newmodel_hausdorff_last_vxxxx_{global_step}.pth\"))"
   ]
  },
  {
   "cell_type": "code",
   "execution_count": 28,
   "id": "015f520c",
   "metadata": {},
   "outputs": [
    {
     "data": {
      "image/png": "[encoded data removed]",
      "text/plain": [
       "<Figure size 800x400 with 1 Axes>"
      ]
     },
     "metadata": {},
     "output_type": "display_data"
    }
   ],
   "source": [
    "plt.figure(figsize=(8, 4))\n",
    "plt.plot(loss_values, label='Loss Curve')\n",
    "plt.xlabel('Step')\n",
    "plt.ylabel('Loss')\n",
    "plt.legend()\n",
    "plt.ylim(0, 2)\n",
    "\n",
    "plt.savefig('/home/oem/hufsbaby/joon/Brain_segmentation_0731/new_model_T2,SWI_loss_4500_3500_4500_var.png')\n",
    "plt.show()"
   ]
  },
  {
   "cell_type": "code",
   "execution_count": 29,
   "id": "2c7c1f58",
   "metadata": {},
   "outputs": [
    {
     "data": {
      "text/plain": [
       "1024"
      ]
     },
     "execution_count": 29,
     "metadata": {},
     "output_type": "execute_result"
    }
   ],
   "source": [
    "global_step"
   ]
  },
  {
   "cell_type": "code",
   "execution_count": 2,
   "id": "9e32280e",
   "metadata": {},
   "outputs": [],
   "source": [
    "# input_RS = []\n",
    "# for i in df_idx_list:\n",
    "#     p = df.iloc[i,0]\n",
    "#     if i in test_list:\n",
    "#         input_RS.append(p)\n",
    "        \n",
    "# print(input_RS)"
   ]
  },
  {
   "cell_type": "code",
   "execution_count": 3,
   "id": "11a4d06a",
   "metadata": {},
   "outputs": [],
   "source": [
    "# test_data = [\n",
    "#     {\n",
    "#         \"image1\": os.path.join(data_Root,str(idx)+'/'+\n",
    "#                                     \"T2_r1.nii.gz\"),\n",
    "#         \"seg\": os.path.join(data_Root,str(idx)+'/'+\n",
    "#                                     \"wmbg_cx.nii.gz\"),            \n",
    "#     }\n",
    "#     for idx in input_RS\n",
    "# ]"
   ]
  },
  {
   "cell_type": "code",
   "execution_count": 4,
   "id": "bfca4067",
   "metadata": {},
   "outputs": [],
   "source": [
    "# print(len(test_data))\n",
    "# test_data"
   ]
  },
  {
   "cell_type": "code",
   "execution_count": 59,
   "id": "d2a77cbf",
   "metadata": {},
   "outputs": [],
   "source": [
    "test_transforms = Compose(\n",
    "    [\n",
    "        LoadImaged(keys=[\"image1\", \"image2\", \"seg\"]),\n",
    "        EnsureChannelFirstd(keys=[\"image1\", \"image2\", \"seg\"]),  \n",
    "        ConvertToOneCLass(keys = [\"seg\"]), # 위에서 정의한 class \n",
    "        CropForegroundd(keys = [\"image1\", \"image2\",\"seg\"], source_key = \"seg\", margin = (32, 32, 32)), ######## mask 중심으로 crop\n",
    "        ToTensord(keys=[\"image1\", \"image2\", \"seg\"]),\n",
    "    ]\n",
    ")"
   ]
  },
  {
   "cell_type": "code",
   "execution_count": 60,
   "id": "458ef303",
   "metadata": {},
   "outputs": [
    {
     "name": "stderr",
     "output_type": "stream",
     "text": [
      "Loading dataset:  12%|███▌                        | 1/8 [00:00<00:03,  1.94it/s]"
     ]
    },
    {
     "name": "stdout",
     "output_type": "stream",
     "text": [
      "torch.Size([1, 208, 320, 320])\n"
     ]
    },
    {
     "name": "stderr",
     "output_type": "stream",
     "text": [
      "\r\n",
      "Loading dataset:  25%|███████                     | 2/8 [00:01<00:03,  1.84it/s]"
     ]
    },
    {
     "name": "stdout",
     "output_type": "stream",
     "text": [
      "torch.Size([1, 208, 320, 320])\n"
     ]
    },
    {
     "name": "stderr",
     "output_type": "stream",
     "text": [
      "\r\n",
      "Loading dataset:  38%|██████████▌                 | 3/8 [00:01<00:02,  1.80it/s]"
     ]
    },
    {
     "name": "stdout",
     "output_type": "stream",
     "text": [
      "torch.Size([1, 208, 320, 320])\n"
     ]
    },
    {
     "name": "stderr",
     "output_type": "stream",
     "text": [
      "\r\n",
      "Loading dataset:  50%|██████████████              | 4/8 [00:02<00:02,  1.77it/s]"
     ]
    },
    {
     "name": "stdout",
     "output_type": "stream",
     "text": [
      "torch.Size([1, 208, 320, 320])\n"
     ]
    },
    {
     "name": "stderr",
     "output_type": "stream",
     "text": [
      "\r\n",
      "Loading dataset:  62%|█████████████████▌          | 5/8 [00:02<00:01,  1.69it/s]"
     ]
    },
    {
     "name": "stdout",
     "output_type": "stream",
     "text": [
      "torch.Size([1, 208, 320, 320])\n"
     ]
    },
    {
     "name": "stderr",
     "output_type": "stream",
     "text": [
      "\r\n",
      "Loading dataset:  75%|█████████████████████       | 6/8 [00:03<00:01,  1.64it/s]"
     ]
    },
    {
     "name": "stdout",
     "output_type": "stream",
     "text": [
      "torch.Size([1, 208, 320, 320])\n"
     ]
    },
    {
     "name": "stderr",
     "output_type": "stream",
     "text": [
      "\r\n",
      "Loading dataset:  88%|████████████████████████▌   | 7/8 [00:04<00:00,  1.63it/s]"
     ]
    },
    {
     "name": "stdout",
     "output_type": "stream",
     "text": [
      "torch.Size([1, 208, 320, 320])\n"
     ]
    },
    {
     "name": "stderr",
     "output_type": "stream",
     "text": [
      "Loading dataset: 100%|████████████████████████████| 8/8 [00:04<00:00,  1.69it/s]"
     ]
    },
    {
     "name": "stdout",
     "output_type": "stream",
     "text": [
      "torch.Size([1, 208, 320, 320])\n"
     ]
    },
    {
     "name": "stderr",
     "output_type": "stream",
     "text": [
      "\n"
     ]
    },
    {
     "name": "stdout",
     "output_type": "stream",
     "text": [
      "image shape: torch.Size([127, 101, 95])\n",
      "image shape: torch.Size([127, 101, 95])\n"
     ]
    },
    {
     "data": {
      "image/png": "[encoded data removed]",
      "text/plain": [
       "<Figure size 1638.4x1228.8 with 3 Axes>"
      ]
     },
     "metadata": {},
     "output_type": "display_data"
    }
   ],
   "source": [
    "check_ds2 = CacheDataset(data=val_data, transform = test_transforms)\n",
    "check_loader2 = DataLoader(check_ds2, batch_size=1, num_workers = 4)\n",
    "check_data2 = first(check_loader2)\n",
    "\n",
    "for N in range(len(check_data2[\"image1\"])):\n",
    "    pre1 = (check_data2[\"image1\"][N][0])\n",
    "    pre2 = (check_data2[\"image2\"][N][0])\n",
    "    seg = (check_data2[\"seg\"][N][0])\n",
    "\n",
    "    print(f\"image shape: {pre1.shape}\")\n",
    "    print(f\"image shape: {pre2.shape}\")\n",
    "    \n",
    "    plt.figure(dpi=256)\n",
    "    plt.subplot(131)\n",
    "    plt.imshow(torch.sum(pre1,axis=2),cmap='jet')\n",
    "    plt.axis('off')\n",
    "    plt.subplot(132)\n",
    "    plt.imshow(torch.sum(pre2,axis=2),cmap='jet')\n",
    "    plt.axis('off')\n",
    "    plt.subplot(133)\n",
    "    plt.imshow(torch.sum(seg,axis=2),cmap='jet')\n",
    "    plt.axis('off')\n",
    "    plt.show()"
   ]
  },
  {
   "cell_type": "code",
   "execution_count": 61,
   "id": "19ea4cb5",
   "metadata": {},
   "outputs": [],
   "source": [
    "test_ds = Dataset(\n",
    "    data=val_data,\n",
    "    transform=test_transforms,\n",
    ")"
   ]
  },
  {
   "cell_type": "code",
   "execution_count": 62,
   "id": "2e99dba3",
   "metadata": {},
   "outputs": [],
   "source": [
    "test_loader = DataLoader(\n",
    "    test_ds, batch_size=1, shuffle=False, \n",
    ")"
   ]
  },
  {
   "cell_type": "code",
   "execution_count": 63,
   "id": "eb85275d",
   "metadata": {},
   "outputs": [],
   "source": [
    "from monai.inferers import sliding_window_inference\n",
    "import nibabel as nib"
   ]
  },
  {
   "cell_type": "code",
   "execution_count": 64,
   "id": "8d3cf66e",
   "metadata": {},
   "outputs": [],
   "source": [
    "# from collections import OrderedDict\n",
    "# device = 'cuda:0'\n",
    "# model = monai.networks.nets.SwinUNETR(img_size=(96,96,32), in_channels=1, out_channels=2, feature_size=48).to(device)\n",
    "# loaded_state_dict = torch.load('/home/oem/hufsbaby/joon/Brain(0731)/SingleBrain_T2_model_last_vxxxx_9024.pth')\n",
    "# current_state_dict = model.state_dict()\n",
    "# current_state_dict.update(loaded_state_dict)\n",
    "# # model.load_state_dict(current_state_dict)\n",
    "# #model.load_state_dict('./SingleBrain_model_best_vxxxx.pth')"
   ]
  },
  {
   "cell_type": "code",
   "execution_count": 65,
   "id": "d5cf846c",
   "metadata": {},
   "outputs": [],
   "source": [
    "# model.eval()\n",
    "# with torch.no_grad():\n",
    "#     for idx, batch in enumerate(check_loader2):\n",
    "#         test_inputs = batch['image1'].to(device)\n",
    "#         GT = batch['seg'].to(device)\n",
    "#         test_outputs = sliding_window_inference(test_inputs, (64,64,32), 2, model, overlap=0.5,mode='gaussian').softmax(1)\n",
    "#         # print(test_outputs.unique())\n",
    "#         label_0 = (test_outputs[0,0].detach().cpu()>0.95).astype(int) * 0\n",
    "#         label_1 = (test_outputs[0,1].detach().cpu()>0.95).astype(int) * 1\n",
    "#         test_outputs = torch.tensor((label_0 + label_1)[np.newaxis, np.newaxis])\n",
    "#         # print(type(test_outputs))\n",
    "        \n",
    "#         pid = batch[\"image1_meta_dict\"]['filename_or_obj'][0].split('/')[-1].split('_')[0]\n",
    "#         # print(f\"test_inputs shape : {test_inputs.shape}\")\n",
    "#         # print(f\"GT(=label) shape : {GT.shape}\")\n",
    "#         # print(f\"dl_outputs shape : {test_outputs.shape}\")\n",
    "        \n",
    "#         plt.figure(dpi = 256)\n",
    "#         plt.subplot(131)\n",
    "#         plt.imshow(torch.rot90(test_inputs[0,0,:,160,:].detach().cpu()), cmap='gray')\n",
    "#         plt.gca().set_title('image')\n",
    "#         plt.axis('off')\n",
    "#         plt.subplot(132)\n",
    "#         plt.imshow(torch.rot90(GT[0,0,:,160,:].detach().cpu()), cmap='gray')\n",
    "#         plt.gca().set_title('label')\n",
    "#         plt.axis('off')\n",
    "#         plt.subplot(133)\n",
    "#         plt.imshow(torch.rot90(test_outputs[0,0,:,160,:].detach().cpu()), cmap='gray')\n",
    "#         plt.gca().set_title('dl_output')\n",
    "#         plt.axis('off')\n",
    "#         plt.show()\n",
    "\n",
    "    \n",
    "        \n"
   ]
  },
  {
   "cell_type": "code",
   "execution_count": 66,
   "id": "f5d3b3d9",
   "metadata": {},
   "outputs": [],
   "source": [
    "# model.eval()\n",
    "# dice_vals = list()\n",
    "# with torch.no_grad():\n",
    "#     for step, batch in enumerate(test_loader):\n",
    "#         test_inputs = (batch[\"image1\"]).to(device)\n",
    "#         labels = batch['seg'].to(device)\n",
    "#         test_outputs = sliding_window_inference(test_inputs, [96,96,32], 2, model, overlap=0.5,mode='gaussian')\n",
    "        \n",
    "#         pid = batch[\"image1_meta_dict\"]['filename_or_obj'][0].split('/')[-1].split('_')[0]\n",
    "              \n",
    "#         test_outputs = test_outputs.softmax(1)\n",
    "#         print(step,pid)\n",
    "        \n",
    "#         plt.figure(dpi = 256)\n",
    "#         plt.subplot(141)\n",
    "#         plt.imshow(torch.rot90(test_inputs[0,0,:,:,150].detach().cpu()),cmap='gray')\n",
    "#         plt.title(pid)\n",
    "#         plt.axis('off')\n",
    "#         plt.subplot(142)\n",
    "#         plt.imshow(torch.rot90(test_outputs[0,0,:,:,150].detach().cpu()),cmap='jet')\n",
    "#         plt.title('Back')\n",
    "#         plt.subplot(143)\n",
    "#         plt.imshow(torch.rot90(test_outputs[0,1,:,:,150].detach().cpu()>.5),cmap='jet')\n",
    "#         plt.title('BG')\n",
    "#         plt.axis('off')  \n",
    "#         plt.subplot(144)\n",
    "#         plt.imshow(torch.rot90(labels[0,0,:,:,150].detach().cpu()>.5),cmap='jet')\n",
    "#         plt.title('Labels')\n",
    "#         plt.axis('off')        \n",
    "#         plt.show()     "
   ]
  },
  {
   "cell_type": "code",
   "execution_count": 95,
   "id": "9bc819c1",
   "metadata": {},
   "outputs": [
    {
     "data": {
      "image/png": "[encoded data removed]",
      "text/plain": [
       "<Figure size 640x480 with 3 Axes>"
      ]
     },
     "metadata": {},
     "output_type": "display_data"
    },
    {
     "data": {
      "image/png": "[encoded data removed]",
      "text/plain": [
       "<Figure size 640x480 with 3 Axes>"
      ]
     },
     "metadata": {},
     "output_type": "display_data"
    },
    {
     "data": {
      "image/png": "[encoded data removed]",
      "text/plain": [
       "<Figure size 640x480 with 3 Axes>"
      ]
     },
     "metadata": {},
     "output_type": "display_data"
    },
    {
     "data": {
      "image/png": "[encoded data removed]",
      "text/plain": [
       "<Figure size 640x480 with 3 Axes>"
      ]
     },
     "metadata": {},
     "output_type": "display_data"
    },
    {
     "data": {
      "image/png": "[encoded data removed]",
      "text/plain": [
       "<Figure size 640x480 with 3 Axes>"
      ]
     },
     "metadata": {},
     "output_type": "display_data"
    },
    {
     "data": {
      "image/png": "[encoded data removed]",
      "text/plain": [
       "<Figure size 640x480 with 3 Axes>"
      ]
     },
     "metadata": {},
     "output_type": "display_data"
    },
    {
     "data": {
      "image/png": "[encoded data removed]",
      "text/plain": [
       "<Figure size 640x480 with 3 Axes>"
      ]
     },
     "metadata": {},
     "output_type": "display_data"
    },
    {
     "data": {
      "image/png": "[encoded data removed]",
      "text/plain": [
       "<Figure size 640x480 with 3 Axes>"
      ]
     },
     "metadata": {},
     "output_type": "display_data"
    }
   ],
   "source": [
    "from monai.inferers import sliding_window_inference\n",
    "from matplotlib.ticker import StrMethodFormatter\n",
    "\n",
    "model.eval()\n",
    "dice_test = list()\n",
    "dice_scores = []\n",
    "\n",
    "with torch.no_grad():\n",
    "    for step, batch in enumerate(check_loader2):\n",
    "        test_inputs_T2, test_inputs_SWI, test_seg = (batch[\"image1\"]).to(device), (batch[\"image2\"]).to(device), (batch['seg']).to(device)\n",
    "        test_inputs = torch.cat((test_inputs_T2,test_inputs_SWI),axis=1)\n",
    "        test_outputs = sliding_window_inference(\n",
    "            test_inputs, [96,96,32], 2, model, overlap=0.85,mode='gaussian')\n",
    "                \n",
    "#         pid = batch[\"image1_meta_dict\"]['filename_or_obj'][0].split('/')[-1].split('_')[0]\n",
    "              \n",
    "        test_outputs = test_outputs.softmax(1)\n",
    "#         print(step)\n",
    "\n",
    "        \n",
    "#         val_labels_list = decollate_batch(test_seg)#변수를 개별 레이블 텐서 목록으로 분할\n",
    "#         val_labels_convert = [\n",
    "#             post_label(val_label_tensor) for val_label_tensor in val_labels_list\n",
    "#         ]\n",
    "#         val_outputs_list = decollate_batch(test_outputs)\n",
    "        \n",
    "#         val_output_convert = [\n",
    "#             post_pred(val_pred_tensor) for val_pred_tensor in val_outputs_list\n",
    "#         ]\n",
    "#         dice_metric(y_pred=val_output_convert, y=val_labels_convert)\n",
    "#         dice = dice_metric.aggregate().item()\n",
    "#         print(dice)\n",
    "        \n",
    "#         dice_scores.append(dice)\n",
    "#         average_dice_score = sum(dice_scores) / len(dice_scores)\n",
    "#         print(\"Average Dice Score:\", average_dice_score)\n",
    "        \n",
    "        plt.subplot(151)\n",
    "        plt.imshow(torch.rot90(torch.sum(test_inputs[0,0,:,:,:].detach().cpu(),dim=2)),cmap='gray')\n",
    "        plt.title(\"input\")\n",
    "        plt.axis('off')\n",
    "        plt.subplot(152)\n",
    "        plt.imshow(torch.rot90(torch.sum(test_outputs[0,0,:,:,:].detach().cpu()>.5,dim=2)),cmap='jet')\n",
    "        plt.title('Back')\n",
    "        plt.axis('off')\n",
    "        plt.subplot(153)\n",
    "        plt.imshow(torch.rot90(torch.sum(test_outputs[0,1,:,:,:].detach().cpu()>.5,dim=2)),cmap='jet')\n",
    "        plt.title('BG')\n",
    "        plt.axis('off')\n",
    "        \n",
    "        plt.show()\n",
    "        \n",
    "#         plt.boxplot(dice_scores, labels=['Dice Score'])\n",
    "#         plt.title('T2 + SWI')\n",
    "#         plt.ylabel('Dice Score')\n",
    "#         plt.ylim(0.850, 0.950)\n",
    "#         plt.gca().yaxis.set_major_formatter(StrMethodFormatter('{x:.3f}'))\n",
    "#         plt.show()\n",
    "        \n",
    "    \n",
    "#         z = 11\n",
    "\n",
    "#         input_data = test_inputs[0, 0].cpu().numpy()  # 첫 번째 batch의 input_data 추출\n",
    "#         output_data = test_outputs[0, 0].cpu().numpy()  # 첫 번째 batch seg_data 추출\n",
    "\n",
    "#         print(input_data.shape)\n",
    "\n",
    "#         input_slice = np.rot90(input_data[:, :, z])\n",
    "#         output_slice = np.rot90(output_data[:, :, z])\n",
    "\n",
    "#         plt.figure(figsize=(5, 5))\n",
    "#         plt.imshow(input_slice, cmap='gray')\n",
    "#         plt.contour(output_slice, colors='blue', linewidths=0.3, linestyles='solid', extend='both',alpha=0.4)\n",
    "#         plt.axis('off')\n",
    "#         plt.show()\n",
    "    \n",
    "#         break\n",
    "        \n",
    "#         import os\n",
    "        \n",
    "#         output_directory = f'/home/oem/hufsbaby/ycm/multi_seg/New_Model_res/{step}'\n",
    "#         SWI_filename = f'T2,SWI_DICE{step}.nii.gz'\n",
    "#         output_path = os.path.join(output_directory, SWI_filename)\n",
    "#         if not os.path.exists(output_directory):\n",
    "#             os.makedirs(output_directory)\n",
    "        \n",
    "#         SWI = test_inputs[0, 0, :, :, :].detach().cpu()\n",
    "#         SWI = SWI.numpy().astype(np.float32)\n",
    "#         nifti_img = nib.Nifti1Image(SWI, affine=np.eye(4))\n",
    "#         nib.save(nifti_img, output_path)\n",
    "        \n",
    "#         BG_filename = f'BG_T2,SWI_DICE{step}.nii.gz'\n",
    "#         output_path = os.path.join(output_directory, BG_filename)\n",
    "#         BG = test_outputs[0, 1, :, :, :].detach().cpu()\n",
    "#         BG = BG.numpy().astype(np.float32)  # Convert to numpy array and specify data type\n",
    "#         nifti_img = nib.Nifti1Image(BG, affine=np.eye(4))\n",
    "#         nib.save(nifti_img, output_path)\n",
    "        \n",
    "#         Seg_filename = f'seg_mask{step}.nii.gz'\n",
    "#         output_path = os.path.join(output_directory, Seg_filename)\n",
    "#         argmax_indices = np.argmax(test_outputs, axis = 1)\n",
    "#         seg_mask = argmax_indices[0,:,:,:]\n",
    "#         seg_mask = seg_mask.astype(np.float32)\n",
    "#         nifti_img = nib.Nifti1Image(seg_mask, affine = np.eye(4))\n",
    "#         nib.save(nifti_img, output_path)\n",
    "        \n",
    "#         print(f'{step} saving is completed')\n",
    "#         break\n",
    "        \n",
    "        "
   ]
  },
  {
   "cell_type": "code",
   "execution_count": null,
   "id": "5a0b9d8f",
   "metadata": {},
   "outputs": [],
   "source": []
  }
 ],
 "metadata": {
  "kernelspec": {
   "display_name": "Python 3 (ipykernel)",
   "language": "python",
   "name": "python3"
  },
  "language_info": {
   "codemirror_mode": {
    "name": "ipython",
    "version": 3
   },
   "file_extension": ".py",
   "mimetype": "text/x-python",
   "name": "python",
   "nbconvert_exporter": "python",
   "pygments_lexer": "ipython3",
   "version": "3.11.8"
  }
 },
 "nbformat": 4,
 "nbformat_minor": 5
}
